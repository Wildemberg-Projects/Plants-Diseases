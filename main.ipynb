{
  "nbformat": 4,
  "nbformat_minor": 0,
  "metadata": {
    "colab": {
      "provenance": [],
      "gpuType": "T4",
      "authorship_tag": "ABX9TyMph7EG1HIwNrxVVT+Dcohj",
      "include_colab_link": true
    },
    "kernelspec": {
      "name": "python3",
      "display_name": "Python 3"
    },
    "language_info": {
      "name": "python"
    },
    "accelerator": "GPU"
  },
  "cells": [
    {
      "cell_type": "markdown",
      "metadata": {
        "id": "view-in-github",
        "colab_type": "text"
      },
      "source": [
        "<a href=\"https://colab.research.google.com/github/Wildemberg-Projects/Plants-Diseases/blob/main/main.ipynb\" target=\"_parent\"><img src=\"https://colab.research.google.com/assets/colab-badge.svg\" alt=\"Open In Colab\"/></a>"
      ]
    },
    {
      "cell_type": "code",
      "execution_count": null,
      "metadata": {
        "id": "GO0dwdyQ-M_O"
      },
      "outputs": [],
      "source": [
        "# Instalação de Dependências\n",
        "%pip install -q -U tensorflow-addons\n",
        "%pip install -q -U tensorflow-datasets\n",
        "%pip install -q -U keras-utils\n",
        "%pip install -q tfds-nightly"
      ]
    },
    {
      "cell_type": "code",
      "source": [
        "import tensorflow_datasets as tfds\n",
        "import pandas as pd\n",
        "from numpy import mean\n",
        "import tensorflow as tf\n",
        "import keras"
      ],
      "metadata": {
        "id": "oOBTtaKjCVkm"
      },
      "execution_count": null,
      "outputs": []
    },
    {
      "cell_type": "code",
      "source": [
        "# Coletando dados\n",
        "tf.keras.backend.clear_session()\n",
        "(ds_train), info = tfds.load('plant_village', split='train', with_info=True)\n",
        "\n",
        "# Gerando um dataframe\n",
        "df = tfds.as_dataframe(ds_train.take(20), info)\n",
        "\n",
        "print(df.image, df.label)\n",
        "# a estrutura de uma imagem (244,244,3), representa a largura e altura em pixels,\n",
        "# e o 3 representa a quantidade de canais de cores pq é RGB"
      ],
      "metadata": {
        "id": "CNowqre2CWz0"
      },
      "execution_count": null,
      "outputs": []
    },
    {
      "cell_type": "code",
      "source": [
        "# Dividir os dados de treinamento em treinamento e validação\n",
        "ds_train = ds_train.shuffle(buffer_size=1000, seed=42)  # Embaralhar os dados\n",
        "\n",
        "# Calcular o tamanho do conjunto de validação como 20% dos dados de treinamento\n",
        "train_size = ds_train.cardinality().numpy()\n",
        "validation_size = train_size // 5  # 20% dos dados de treinamento\n",
        "\n",
        "# Dividir os dados\n",
        "ds_train_validation = ds_train.take(validation_size)\n",
        "ds_train = ds_train.skip(validation_size)\n",
        "\n",
        "# Verificar o número de exemplos em cada conjunto de dados\n",
        "num_train_examples = ds_train.cardinality().numpy()\n",
        "num_validation_examples = ds_train_validation.cardinality().numpy()\n",
        "print(\"Número de exemplos de treinamento:\", num_train_examples)\n",
        "print(\"Número de exemplos de validação:\", num_validation_examples)"
      ],
      "metadata": {
        "id": "cP1IfA5RCcxp"
      },
      "execution_count": null,
      "outputs": []
    }
  ]
}