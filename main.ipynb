{
  "cells": [
    {
      "cell_type": "markdown",
      "metadata": {
        "id": "view-in-github",
        "colab_type": "text"
      },
      "source": [
        "<a href=\"https://colab.research.google.com/github/Wildemberg-Projects/Plants-Diseases/blob/main/main.ipynb\" target=\"_parent\"><img src=\"https://colab.research.google.com/assets/colab-badge.svg\" alt=\"Open In Colab\"/></a>"
      ]
    },
    {
      "cell_type": "code",
      "execution_count": 5,
      "metadata": {
        "id": "GO0dwdyQ-M_O"
      },
      "outputs": [],
      "source": [
        "# Instalação de Dependências\n",
        "# Para utilização do Colab, modifique o '%' por '!'\n",
        "# As abaixo comentadas são somente para instalar em ambiente local\n",
        "# %pip install -q -U tensorflow\n",
        "# %pip install -q -U keras\n",
        "# %pip install -q -U numpy\n",
        "# %pip install -q -U pandas\n",
        "# %pip install -q -U Jinja2\n",
        "# Uso da GPU precisa ser habilitado pelo comando a seguir\n",
        "# %pip install tensorflow[and-cuda]\n",
        "%pip install -q -U tensorflow-addons\n",
        "%pip install -q -U tensorflow-datasets\n",
        "%pip install -q -U keras-utils\n",
        "%pip install -q -U matplotlib\n"
      ]
    },
    {
      "cell_type": "code",
      "execution_count": 3,
      "metadata": {
        "id": "oOBTtaKjCVkm"
      },
      "outputs": [],
      "source": [
        "import tensorflow_datasets as tfds\n",
        "import pandas as pd\n",
        "from numpy import mean\n",
        "import tensorflow as tf\n",
        "import keras\n",
        "import matplotlib.pyplot as plt\n",
        "import seaborn as sns\n",
        "\n"
      ]
    },
    {
      "cell_type": "code",
      "execution_count": null,
      "metadata": {
        "id": "CNowqre2CWz0"
      },
      "outputs": [],
      "source": [
        "# Coletando dados\n",
        "tf.keras.backend.clear_session()\n",
        "(ds_train), info = tfds.load('plant_village', split='train', with_info=True)\n",
        "\n",
        "# a estrutura de uma imagem (244,244,3), representa a largura e altura em pixels,\n",
        "# e o 3 representa a quantidade de canais de cores pq é RGB"
      ]
    },
    {
      "cell_type": "code",
      "execution_count": 6,
      "metadata": {
        "id": "cP1IfA5RCcxp",
        "outputId": "6799aed5-1d20-42a0-d2c2-3121dbf601f8",
        "colab": {
          "base_uri": "https://localhost:8080/"
        }
      },
      "outputs": [
        {
          "output_type": "stream",
          "name": "stdout",
          "text": [
            "Número de exemplos de treinamento: 40728\n",
            "Número de exemplos de validação: 13575\n"
          ]
        }
      ],
      "source": [
        "# Dividir os dados de treinamento em treinamento e validação\n",
        "# Embaralhando os dados para garantir que tanto a validação quanto o treinamento tenham todos os tipos de dados\n",
        "ds_train = ds_train.shuffle(buffer_size=1000, seed=42)\n",
        "\n",
        "# Calcular o tamanho do conjunto de validação como 25% dos dados de treinamento\n",
        "train_size = ds_train.cardinality().numpy()\n",
        "validation_size = train_size // 4  # 25% dos dados de treinamento\n",
        "\n",
        "# Dividindo os dados\n",
        "ds_validation = ds_train.take(validation_size)\n",
        "ds_train = ds_train.skip(validation_size)\n",
        "\n",
        "# Verificar o número de exemplos em cada conjunto de dados\n",
        "num_train_examples = ds_train.cardinality().numpy()\n",
        "num_validation_examples = ds_validation.cardinality().numpy()\n",
        "print(\"Número de exemplos de treinamento:\", num_train_examples)\n",
        "print(\"Número de exemplos de validação:\", num_validation_examples)"
      ]
    },
    {
      "cell_type": "code",
      "execution_count": 7,
      "metadata": {
        "id": "YUlqqzSGygiD"
      },
      "outputs": [],
      "source": [
        "df_validation = tfds.as_dataframe(ds_validation, info)\n",
        "df_train = tfds.as_dataframe(ds_train, info)"
      ]
    },
    {
      "cell_type": "code",
      "source": [
        "print(df_validation)"
      ],
      "metadata": {
        "id": "-YLSfnY697r8",
        "outputId": "642f6374-2d27-44fe-8bde-ecc9a93a8785",
        "colab": {
          "base_uri": "https://localhost:8080/"
        }
      },
      "execution_count": 8,
      "outputs": [
        {
          "output_type": "stream",
          "name": "stdout",
          "text": [
            "                                                   image       image/filename  \\\n",
            "0      [[[50, 57, 63], [81, 88, 94], [94, 101, 107], ...   b'image (183).JPG'   \n",
            "1      [[[102, 89, 98], [102, 89, 98], [116, 103, 112...   b'image (285).JPG'   \n",
            "2      [[[94, 94, 86], [96, 96, 88], [99, 99, 91], [1...  b'image (1814).JPG'   \n",
            "3      [[[66, 61, 58], [54, 49, 46], [53, 48, 45], [6...   b'image (963).JPG'   \n",
            "4      [[[136, 125, 139], [137, 126, 140], [139, 128,...   b'image (889).JPG'   \n",
            "...                                                  ...                  ...   \n",
            "13570  [[[156, 154, 159], [157, 155, 160], [158, 156,...   b'image (182).JPG'   \n",
            "13571  [[[139, 133, 145], [111, 105, 117], [127, 121,...   b'image (586).JPG'   \n",
            "13572  [[[113, 103, 101], [112, 102, 100], [113, 103,...  b'image (3501).JPG'   \n",
            "13573  [[[203, 201, 204], [201, 199, 202], [202, 200,...   b'image (692).JPG'   \n",
            "13574  [[[134, 122, 122], [134, 122, 122], [133, 121,...  b'image (1879).JPG'   \n",
            "\n",
            "       label  \n",
            "0         31  \n",
            "1         29  \n",
            "2         37  \n",
            "3         16  \n",
            "4         10  \n",
            "...      ...  \n",
            "13570      7  \n",
            "13571     30  \n",
            "13572     37  \n",
            "13573     29  \n",
            "13574     16  \n",
            "\n",
            "[13575 rows x 3 columns]\n"
          ]
        }
      ]
    },
    {
      "cell_type": "code",
      "source": [
        "# Visualização da Distribuição das Classes\n",
        "\n",
        "plt.figure(figsize=(10, 6))\n",
        "sns.countplot(x='label', data=df_train)\n",
        "plt.title('Distribuição das Labels')\n",
        "plt.xlabel('Classe')\n",
        "plt.ylabel('Número de Exemplos')\n",
        "plt.show()\n",
        "\n"
      ],
      "metadata": {
        "id": "e_D4MKxY61az",
        "outputId": "1d232511-1d96-4761-c712-4bc187f18ef7",
        "colab": {
          "base_uri": "https://localhost:8080/",
          "height": 564
        }
      },
      "execution_count": 11,
      "outputs": [
        {
          "output_type": "display_data",
          "data": {
            "text/plain": [
              "<Figure size 1000x600 with 1 Axes>"
            ],
            "image/png": "[encoded data removed]"
          },
          "metadata": {}
        }
      ]
    }
  ],
  "metadata": {
    "accelerator": "GPU",
    "colab": {
      "gpuType": "T4",
      "provenance": [],
      "include_colab_link": true
    },
    "kernelspec": {
      "display_name": "Python 3",
      "language": "python",
      "name": "python3"
    },
    "language_info": {
      "codemirror_mode": {
        "name": "ipython",
        "version": 3
      },
      "file_extension": ".py",
      "mimetype": "text/x-python",
      "name": "python",
      "nbconvert_exporter": "python",
      "pygments_lexer": "ipython3",
      "version": "3.10.12"
    }
  },
  "nbformat": 4,
  "nbformat_minor": 0
}