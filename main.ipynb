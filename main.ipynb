{
  "cells": [
    {
      "cell_type": "markdown",
      "metadata": {
        "colab_type": "text",
        "id": "view-in-github"
      },
      "source": [
        "<a href=\"https://colab.research.google.com/github/Wildemberg-Projects/Plants-Diseases/blob/main/main.ipynb\" target=\"_parent\"><img src=\"https://colab.research.google.com/assets/colab-badge.svg\" alt=\"Open In Colab\"/></a>"
      ]
    },
    {
      "cell_type": "code",
      "execution_count": 46,
      "metadata": {
        "id": "GO0dwdyQ-M_O"
      },
      "outputs": [
        {
          "name": "stdout",
          "output_type": "stream",
          "text": [
            "Note: you may need to restart the kernel to use updated packages.\n",
            "Note: you may need to restart the kernel to use updated packages.\n",
            "Note: you may need to restart the kernel to use updated packages.\n",
            "Note: you may need to restart the kernel to use updated packages.\n"
          ]
        }
      ],
      "source": [
        "# Instalação de Dependências\n",
        "# Para utilização do Colab, modifique o '%' por '!'\n",
        "# As abaixo comentadas são somente para instalar em ambiente local\n",
        "# %pip install -q -U tensorflow\n",
        "# %pip install -q -U keras\n",
        "# %pip install -q -U numpy\n",
        "# %pip install -q -U pandas\n",
        "# %pip install -q -U Jinja2\n",
        "# Uso da GPU precisa ser habilitado pelo comando a seguir\n",
        "# %python3 -m pip install tensorflow[and-cuda]\n",
        "%pip install -q -U tensorflow-addons\n",
        "%pip install -q -U tensorflow-datasets\n",
        "%pip install -q -U keras-utils\n",
        "%pip install -q -U matplotlib\n"
      ]
    },
    {
      "cell_type": "code",
      "execution_count": 8,
      "metadata": {
        "id": "oOBTtaKjCVkm"
      },
      "outputs": [],
      "source": [
        "import tensorflow_datasets as tfds\n",
        "import pandas as pd\n",
        "from numpy import mean\n",
        "import tensorflow as tf\n",
        "import keras"
      ]
    },
    {
      "cell_type": "code",
      "execution_count": 43,
      "metadata": {
        "id": "CNowqre2CWz0"
      },
      "outputs": [
        {
          "name": "stderr",
          "output_type": "stream",
          "text": [
            "2024-04-20 11:49:03.070081: W tensorflow/core/framework/local_rendezvous.cc:404] Local rendezvous is aborting with status: OUT_OF_RANGE: End of sequence\n"
          ]
        },
        {
          "name": "stdout",
          "output_type": "stream",
          "text": [
            "0     [[[171, 161, 169], [158, 148, 156], [153, 143,...\n",
            "1     [[[168, 130, 119], [168, 130, 119], [167, 129,...\n",
            "2     [[[3, 3, 3], [3, 3, 3], [3, 3, 3], [3, 3, 3], ...\n",
            "3     [[[193, 192, 200], [192, 191, 199], [189, 188,...\n",
            "4     [[[96, 98, 121], [114, 116, 139], [99, 101, 12...\n",
            "5     [[[173, 169, 160], [170, 166, 157], [166, 162,...\n",
            "6     [[[200, 195, 199], [180, 175, 179], [204, 199,...\n",
            "7     [[[202, 198, 199], [197, 193, 194], [216, 212,...\n",
            "8     [[[116, 116, 108], [126, 126, 118], [131, 131,...\n",
            "9     [[[142, 125, 118], [151, 134, 127], [141, 124,...\n",
            "10    [[[115, 105, 104], [117, 107, 106], [119, 109,...\n",
            "11    [[[173, 176, 195], [189, 192, 211], [169, 172,...\n",
            "12    [[[113, 100, 153], [115, 102, 155], [116, 103,...\n",
            "13    [[[115, 106, 111], [115, 106, 111], [118, 109,...\n",
            "14    [[[85, 77, 98], [102, 94, 115], [126, 118, 139...\n",
            "15    [[[109, 100, 103], [112, 103, 106], [122, 113,...\n",
            "16    [[[111, 98, 105], [104, 91, 98], [107, 94, 101...\n",
            "17    [[[160, 154, 166], [142, 136, 148], [143, 137,...\n",
            "18    [[[139, 130, 159], [118, 109, 138], [122, 113,...\n",
            "19    [[[193, 180, 172], [217, 204, 196], [202, 189,...\n",
            "Name: image, dtype: object 0     35\n",
            "1     15\n",
            "2     31\n",
            "3     20\n",
            "4      3\n",
            "5      2\n",
            "6     19\n",
            "7     34\n",
            "8     28\n",
            "9     31\n",
            "10    25\n",
            "11    30\n",
            "12     6\n",
            "13    34\n",
            "14    36\n",
            "15    37\n",
            "16    16\n",
            "17    27\n",
            "18     0\n",
            "19    24\n",
            "Name: label, dtype: int64\n"
          ]
        }
      ],
      "source": [
        "# Coletando dados\n",
        "tf.keras.backend.clear_session()\n",
        "(ds_train), info = tfds.load('plant_village', split='train', with_info=True)\n",
        "\n",
        "# Gerando um dataframe\n",
        "df = tfds.as_dataframe(ds_train.take(20), info)\n",
        "\n",
        "print(df.image, df.label)\n",
        "# a estrutura de uma imagem (244,244,3), representa a largura e altura em pixels,\n",
        "# e o 3 representa a quantidade de canais de cores pq é RGB"
      ]
    },
    {
      "cell_type": "code",
      "execution_count": 44,
      "metadata": {
        "id": "cP1IfA5RCcxp"
      },
      "outputs": [
        {
          "name": "stdout",
          "output_type": "stream",
          "text": [
            "Número de exemplos de treinamento: 40728\n",
            "Número de exemplos de validação: 13575\n"
          ]
        }
      ],
      "source": [
        "# Dividir os dados de treinamento em treinamento e validação\n",
        "# Embaralhando os dados para garantir que tanto a validação quanto o treinamento tenham todos os tipos de dados\n",
        "ds_train = ds_train.shuffle(buffer_size=1000, seed=42)  \n",
        "\n",
        "# Calcular o tamanho do conjunto de validação como 25% dos dados de treinamento\n",
        "train_size = ds_train.cardinality().numpy()\n",
        "validation_size = train_size // 4  # 25% dos dados de treinamento\n",
        "\n",
        "# Dividindo os dados\n",
        "ds_validation = ds_train.take(validation_size)\n",
        "ds_train = ds_train.skip(validation_size)\n",
        "\n",
        "# Verificar o número de exemplos em cada conjunto de dados\n",
        "num_train_examples = ds_train.cardinality().numpy()\n",
        "num_validation_examples = ds_validation.cardinality().numpy()\n",
        "print(\"Número de exemplos de treinamento:\", num_train_examples)\n",
        "print(\"Número de exemplos de validação:\", num_validation_examples)"
      ]
    },
    {
      "cell_type": "code",
      "execution_count": 47,
      "metadata": {},
      "outputs": [
        {
          "ename": "ModuleNotFoundError",
          "evalue": "No module named 'seaborn'",
          "output_type": "error",
          "traceback": [
            "\u001b[0;31m---------------------------------------------------------------------------\u001b[0m",
            "\u001b[0;31mModuleNotFoundError\u001b[0m                       Traceback (most recent call last)",
            "Cell \u001b[0;32mIn[47], line 5\u001b[0m\n\u001b[1;32m      3\u001b[0m \u001b[38;5;28;01mimport\u001b[39;00m \u001b[38;5;21;01mmatplotlib\u001b[39;00m\u001b[38;5;21;01m.\u001b[39;00m\u001b[38;5;21;01mpyplot\u001b[39;00m \u001b[38;5;28;01mas\u001b[39;00m \u001b[38;5;21;01mplt\u001b[39;00m\n\u001b[1;32m      4\u001b[0m \u001b[38;5;28;01mimport\u001b[39;00m \u001b[38;5;21;01mmatplotlib\u001b[39;00m\u001b[38;5;21;01m.\u001b[39;00m\u001b[38;5;21;01mimage\u001b[39;00m \u001b[38;5;28;01mas\u001b[39;00m \u001b[38;5;21;01mmpimg\u001b[39;00m\n\u001b[0;32m----> 5\u001b[0m \u001b[38;5;28;01mimport\u001b[39;00m \u001b[38;5;21;01mseaborn\u001b[39;00m \u001b[38;5;28;01mas\u001b[39;00m \u001b[38;5;21;01msns\u001b[39;00m\n\u001b[1;32m      6\u001b[0m \u001b[38;5;28;01mimport\u001b[39;00m \u001b[38;5;21;01mrandom\u001b[39;00m \u001b[38;5;28;01mas\u001b[39;00m \u001b[38;5;21;01mr\u001b[39;00m\n\u001b[1;32m      7\u001b[0m sns\u001b[38;5;241m.\u001b[39mset_style(\u001b[38;5;124m\"\u001b[39m\u001b[38;5;124mwhitegrid\u001b[39m\u001b[38;5;124m\"\u001b[39m)\n",
            "\u001b[0;31mModuleNotFoundError\u001b[0m: No module named 'seaborn'"
          ]
        }
      ],
      "source": [
        "# Modules used for data handling and visualisation\n",
        "import numpy as np\n",
        "import matplotlib.pyplot as plt\n",
        "import matplotlib.image as mpimg\n",
        "import seaborn as sns\n",
        "import random as r\n",
        "sns.set_style(\"whitegrid\")\n",
        "\n",
        "# Modules used for suppressing warnings\n",
        "import warnings\n",
        "warnings.filterwarnings('ignore')\n",
        "\n",
        "# Modules used for dataset split\n",
        "import os\n",
        "# Centering all the output images in the notebook.\n",
        "from IPython.core.display import HTML as Center\n",
        "\n",
        "Center(\"\"\" <style>\n",
        ".output_png {\n",
        "    display: table-cell;\n",
        "    text-align: center;\n",
        "    vertical-align: middle;\n",
        "}\n",
        "</style> \"\"\")\n",
        "\n",
        "# Returns both train and test split separately\n",
        "PlantVillage: pd.DataFrame = tfds.as_dataframe(ds_train, info)\n",
        "PlantVillage.name = 'PlantVillage'\n",
        "\n",
        "from google.colab import data_table\n",
        "data_table.enable_dataframe_formatter()\n",
        "\n",
        "PlantVillage.head(10)\n",
        "# Define the dictionary\n",
        "label_mapping = {\n",
        "  0: \"Apple_scab\",\n",
        "  1: \"Apple_black_rot\",\n",
        "  2: \"Apple_cedar_apple_rust\",\n",
        "  3: \"Apple_healthy\",\n",
        "  4: \"Background_without_leaves\",\n",
        "  5: \"Blueberry_healthy\",\n",
        "  6: \"Cherry_powdery_mildew\",\n",
        "  7: \"Cherry_healthy\",\n",
        "  8: \"Corn_gray_leaf_spot\",\n",
        "  9: \"Corn_common_rust\",\n",
        "  10: \"Corn_northern_leaf_blight\",\n",
        "  11: \"Corn_healthy\",\n",
        "  12: \"Grape_black_rot\",\n",
        "  13: \"Grape_black_measles\",\n",
        "  14: \"Grape_leaf_blight\",\n",
        "  15: \"Grape_healthy\",\n",
        "  16: \"Orange_haunglongbing\",\n",
        "  17: \"Peach_bacterial_spot\",\n",
        "  18: \"Peach_healthy\",\n",
        "  19: \"Pepper_bacterial_spot\",\n",
        "  20: \"Pepper_healthy\",\n",
        "  21: \"Potato_early_blight\",\n",
        "  22: \"Potato_healthy\",\n",
        "  23: \"Potato_late_blight\",\n",
        "  24: \"Raspberry_healthy\",\n",
        "  25: \"Soybean_healthy\",\n",
        "  26: \"Squash_powdery_mildew\",\n",
        "  27: \"Strawberry_healthy\",\n",
        "  28: \"Strawberry_leaf_scorch\",\n",
        "  29: \"Tomato_bacterial_spot\",\n",
        "  30: \"Tomato_early_blight\",\n",
        "  31: \"Tomato_healthy\",\n",
        "  32: \"Tomato_late_blight\",\n",
        "  33: \"Tomato_leaf_mold\",\n",
        "  34: \"Tomato_septoria_leaf_spot\",\n",
        "  35: \"Tomato_spider_mites_two_spotted_spider_mite\",\n",
        "  36: \"Tomato_target_spot\",\n",
        "  37: \"Tomato_mosaic_virus\",\n",
        "  38: \"Tomato_yellow_leaf_curl_virus\"\n",
        "}\n",
        "\n",
        "# Extract numerical labels from the DataFrame\n",
        "labels = PlantVillage['label'].values\n",
        "\n",
        "# Convert label names to their corresponding numerical codes\n",
        "label_codes = [label_mapping[label] for label in labels]\n",
        "\n",
        "# Convert label codes to a NumPy array\n",
        "labels_array = np.array(label_codes)"
      ]
    }
  ],
  "metadata": {
    "accelerator": "GPU",
    "colab": {
      "authorship_tag": "ABX9TyMph7EG1HIwNrxVVT+Dcohj",
      "gpuType": "T4",
      "include_colab_link": true,
      "provenance": []
    },
    "kernelspec": {
      "display_name": "Python 3",
      "language": "python",
      "name": "python3"
    },
    "language_info": {
      "codemirror_mode": {
        "name": "ipython",
        "version": 3
      },
      "file_extension": ".py",
      "mimetype": "text/x-python",
      "name": "python",
      "nbconvert_exporter": "python",
      "pygments_lexer": "ipython3",
      "version": "3.10.12"
    }
  },
  "nbformat": 4,
  "nbformat_minor": 0
}
