{
  "cells": [
    {
      "cell_type": "markdown",
      "metadata": {
        "colab_type": "text",
        "id": "view-in-github"
      },
      "source": [
        "<a href=\"https://colab.research.google.com/github/Wildemberg-Projects/Plants-Diseases/blob/main/main.ipynb\" target=\"_parent\"><img src=\"https://colab.research.google.com/assets/colab-badge.svg\" alt=\"Open In Colab\"/></a>"
      ]
    },
    {
      "cell_type": "code",
      "execution_count": 1,
      "metadata": {
        "id": "GO0dwdyQ-M_O"
      },
      "outputs": [
        {
          "name": "stdout",
          "output_type": "stream",
          "text": [
            "Note: you may need to restart the kernel to use updated packages.\n",
            "Note: you may need to restart the kernel to use updated packages.\n",
            "Note: you may need to restart the kernel to use updated packages.\n",
            "Note: you may need to restart the kernel to use updated packages.\n",
            "Note: you may need to restart the kernel to use updated packages.\n",
            "Note: you may need to restart the kernel to use updated packages.\n",
            "Note: you may need to restart the kernel to use updated packages.\n",
            "Note: you may need to restart the kernel to use updated packages.\n"
          ]
        }
      ],
      "source": [
        "# Instalação de Dependências\n",
        "# As abaixo comentadas são somente para subir em ambiente local\n",
        "# %pip install -q -U tensorflow\n",
        "# %pip install -q -U keras\n",
        "# %pip install -q -U numpy\n",
        "# %pip install -q -U pandas\n",
        "%pip install -q -U tensorflow-addons\n",
        "%pip install -q -U tensorflow-datasets\n",
        "%pip install -q -U keras-utils\n",
        "%pip install -q tfds-nightly"
      ]
    },
    {
      "cell_type": "code",
      "execution_count": 2,
      "metadata": {
        "id": "oOBTtaKjCVkm"
      },
      "outputs": [
        {
          "name": "stderr",
          "output_type": "stream",
          "text": [
            "/home/will/.local/lib/python3.10/site-packages/tqdm/auto.py:21: TqdmWarning: IProgress not found. Please update jupyter and ipywidgets. See https://ipywidgets.readthedocs.io/en/stable/user_install.html\n",
            "  from .autonotebook import tqdm as notebook_tqdm\n",
            "2024-04-20 08:51:24.168608: I tensorflow/core/util/port.cc:113] oneDNN custom operations are on. You may see slightly different numerical results due to floating-point round-off errors from different computation orders. To turn them off, set the environment variable `TF_ENABLE_ONEDNN_OPTS=0`.\n",
            "2024-04-20 08:51:24.168963: I external/local_tsl/tsl/cuda/cudart_stub.cc:32] Could not find cuda drivers on your machine, GPU will not be used.\n",
            "2024-04-20 08:51:24.173005: I external/local_tsl/tsl/cuda/cudart_stub.cc:32] Could not find cuda drivers on your machine, GPU will not be used.\n",
            "2024-04-20 08:51:24.225885: I tensorflow/core/platform/cpu_feature_guard.cc:210] This TensorFlow binary is optimized to use available CPU instructions in performance-critical operations.\n",
            "To enable the following instructions: AVX2 AVX_VNNI FMA, in other operations, rebuild TensorFlow with the appropriate compiler flags.\n",
            "2024-04-20 08:51:24.984854: W tensorflow/compiler/tf2tensorrt/utils/py_utils.cc:38] TF-TRT Warning: Could not find TensorRT\n"
          ]
        }
      ],
      "source": [
        "import tensorflow_datasets as tfds\n",
        "import pandas as pd\n",
        "from numpy import mean\n",
        "import tensorflow as tf\n",
        "import keras"
      ]
    },
    {
      "cell_type": "code",
      "execution_count": 3,
      "metadata": {
        "id": "CNowqre2CWz0"
      },
      "outputs": [
        {
          "name": "stderr",
          "output_type": "stream",
          "text": [
            "2024-04-20 08:51:30.191511: W external/local_tsl/tsl/platform/cloud/google_auth_provider.cc:184] All attempts to get a Google authentication bearer token failed, returning an empty token. Retrieving token from files failed with \"NOT_FOUND: Could not locate the credentials file.\". Retrieving token from GCE failed with \"FAILED_PRECONDITION: Error executing an HTTP request: libcurl code 6 meaning 'Couldn't resolve host name', error details: Could not resolve host: metadata.google.internal\".\n"
          ]
        },
        {
          "name": "stdout",
          "output_type": "stream",
          "text": [
            "\u001b[1mDownloading and preparing dataset 827.82 MiB (download: 827.82 MiB, generated: 815.37 MiB, total: 1.60 GiB) to /home/will/tensorflow_datasets/plant_village/1.0.2...\u001b[0m\n"
          ]
        },
        {
          "name": "stderr",
          "output_type": "stream",
          "text": [
            "Dl Completed...: 0 url [00:00, ? url/s]\n",
            "Dl Completed...:   0%|          | 0/1 [00:00<?, ? url/s]\n",
            "Dl Completed...:   0%|          | 0/1 [00:02<?, ? url/s]\n",
            "Dl Completed...:   0%|          | 0/1 [00:04<?, ? url/s]\n",
            "Dl Completed...:   0%|          | 0/1 [00:06<?, ? url/s]\n",
            "Dl Completed...:   0%|          | 0/1 [00:08<?, ? url/s]\n",
            "Dl Completed...:   0%|          | 0/1 [00:10<?, ? url/s]\n",
            "Dl Completed...:   0%|          | 0/1 [00:12<?, ? url/s]\n",
            "Dl Completed...:   0%|          | 0/1 [00:14<?, ? url/s]\n",
            "Dl Completed...:   0%|          | 0/1 [00:16<?, ? url/s]\n",
            "Dl Completed...:   0%|          | 0/1 [00:18<?, ? url/s]\n",
            "Dl Completed...:   0%|          | 0/1 [00:20<?, ? url/s]\n",
            "Dl Completed...:   0%|          | 0/1 [00:22<?, ? url/s]\n",
            "Dl Completed...:   0%|          | 0/1 [00:24<?, ? url/s]\n",
            "Dl Completed...:   0%|          | 0/1 [00:26<?, ? url/s]\n",
            "Dl Completed...:   0%|          | 0/1 [00:28<?, ? url/s]\n",
            "Dl Completed...:   0%|          | 0/1 [00:31<?, ? url/s]\n",
            "Dl Completed...:   0%|          | 0/1 [00:33<?, ? url/s]\n",
            "Dl Completed...:   0%|          | 0/1 [00:35<?, ? url/s]\n",
            "Dl Completed...:   0%|          | 0/1 [00:37<?, ? url/s]\n",
            "Dl Completed...:   0%|          | 0/1 [00:39<?, ? url/s]\n",
            "Dl Completed...:   0%|          | 0/1 [00:41<?, ? url/s]\n",
            "Dl Completed...:   0%|          | 0/1 [00:43<?, ? url/s]\n",
            "Dl Completed...:   0%|          | 0/1 [00:45<?, ? url/s]\n",
            "Dl Completed...:   0%|          | 0/1 [00:48<?, ? url/s]\n",
            "Dl Completed...:   0%|          | 0/1 [00:49<?, ? url/s]\n",
            "Dl Completed...:   0%|          | 0/1 [00:51<?, ? url/s]\n",
            "Dl Completed...:   0%|          | 0/1 [00:54<?, ? url/s]\n",
            "Dl Completed...:   0%|          | 0/1 [00:56<?, ? url/s]\n",
            "Dl Completed...:   0%|          | 0/1 [00:58<?, ? url/s]\n",
            "Dl Completed...:   0%|          | 0/1 [01:00<?, ? url/s]\n",
            "Dl Completed...:   0%|          | 0/1 [01:02<?, ? url/s]\n",
            "Dl Completed...:   0%|          | 0/1 [01:04<?, ? url/s]\n",
            "Dl Completed...:   0%|          | 0/1 [01:06<?, ? url/s]\n",
            "Dl Completed...:   0%|          | 0/1 [01:08<?, ? url/s]\n",
            "Dl Completed...:   0%|          | 0/1 [01:10<?, ? url/s]\n",
            "Dl Completed...:   0%|          | 0/1 [01:11<?, ? url/s]\n",
            "Dl Completed...:   0%|          | 0/1 [01:14<?, ? url/s]\n",
            "Dl Completed...:   0%|          | 0/1 [01:16<?, ? url/s]\n",
            "Dl Completed...:   0%|          | 0/1 [01:18<?, ? url/s]\n",
            "Dl Completed...:   0%|          | 0/1 [01:20<?, ? url/s]\n",
            "Dl Completed...:   0%|          | 0/1 [01:21<?, ? url/s]\n",
            "Dl Completed...:   0%|          | 0/1 [01:23<?, ? url/s]\n",
            "Dl Completed...:   0%|          | 0/1 [01:25<?, ? url/s]\n",
            "Dl Completed...:   0%|          | 0/1 [01:27<?, ? url/s]\n",
            "Dl Completed...:   0%|          | 0/1 [01:29<?, ? url/s]\n",
            "Dl Completed...:   0%|          | 0/1 [01:30<?, ? url/s]\n",
            "Dl Completed...:   0%|          | 0/1 [01:32<?, ? url/s]\n",
            "Dl Completed...:   0%|          | 0/1 [01:34<?, ? url/s]\n",
            "Dl Completed...:   0%|          | 0/1 [01:36<?, ? url/s]\n",
            "Dl Completed...:   0%|          | 0/1 [01:37<?, ? url/s]\n",
            "Dl Completed...:   0%|          | 0/1 [01:39<?, ? url/s]\n",
            "Dl Completed...:   0%|          | 0/1 [01:41<?, ? url/s]\n",
            "Dl Completed...:   0%|          | 0/1 [01:43<?, ? url/s]\n",
            "Dl Completed...:   0%|          | 0/1 [01:45<?, ? url/s]\n",
            "Dl Completed...:   0%|          | 0/1 [01:47<?, ? url/s]\n",
            "Dl Completed...:   0%|          | 0/1 [01:49<?, ? url/s]\n",
            "Dl Completed...:   0%|          | 0/1 [01:51<?, ? url/s]\n",
            "Dl Completed...:   0%|          | 0/1 [01:53<?, ? url/s]\n",
            "Dl Completed...:   0%|          | 0/1 [01:55<?, ? url/s]\n",
            "Dl Completed...:   0%|          | 0/1 [01:58<?, ? url/s]\n",
            "Dl Completed...:   0%|          | 0/1 [02:00<?, ? url/s]\n",
            "Dl Completed...:   0%|          | 0/1 [02:02<?, ? url/s]\n",
            "Dl Completed...:   0%|          | 0/1 [02:04<?, ? url/s]\n",
            "Dl Completed...:   0%|          | 0/1 [02:06<?, ? url/s]\n",
            "Dl Completed...:   0%|          | 0/1 [02:08<?, ? url/s]\n",
            "Dl Completed...:   0%|          | 0/1 [02:10<?, ? url/s]\n",
            "Dl Completed...:   0%|          | 0/1 [02:12<?, ? url/s]\n",
            "Dl Completed...:   0%|          | 0/1 [02:15<?, ? url/s]\n",
            "Dl Completed...:   0%|          | 0/1 [02:17<?, ? url/s]\n",
            "Dl Completed...:   0%|          | 0/1 [02:19<?, ? url/s]\n",
            "Dl Completed...:   0%|          | 0/1 [02:21<?, ? url/s]\n",
            "Dl Completed...:   0%|          | 0/1 [02:23<?, ? url/s]\n",
            "Dl Completed...:   0%|          | 0/1 [02:25<?, ? url/s]\n",
            "Dl Completed...:   0%|          | 0/1 [02:27<?, ? url/s]\n",
            "Dl Completed...:   0%|          | 0/1 [02:29<?, ? url/s]\n",
            "Dl Completed...:   0%|          | 0/1 [02:31<?, ? url/s]\n",
            "Dl Completed...:   0%|          | 0/1 [02:33<?, ? url/s]\n",
            "Dl Completed...:   0%|          | 0/1 [02:35<?, ? url/s]\n",
            "Dl Completed...:   0%|          | 0/1 [02:37<?, ? url/s]\n",
            "Dl Completed...:   0%|          | 0/1 [02:39<?, ? url/s]\n",
            "Dl Completed...:   0%|          | 0/1 [02:41<?, ? url/s]\n",
            "Dl Completed...:   0%|          | 0/1 [02:44<?, ? url/s]\n",
            "Dl Completed...:   0%|          | 0/1 [02:46<?, ? url/s]\n",
            "Dl Completed...:   0%|          | 0/1 [02:47<?, ? url/s]\n",
            "Dl Completed...:   0%|          | 0/1 [02:50<?, ? url/s]\n",
            "Dl Completed...:   0%|          | 0/1 [02:52<?, ? url/s]\n",
            "Dl Completed...:   0%|          | 0/1 [02:53<?, ? url/s]\n",
            "Dl Completed...:   0%|          | 0/1 [02:55<?, ? url/s]\n",
            "Dl Completed...:   0%|          | 0/1 [02:57<?, ? url/s]\n",
            "Dl Completed...:   0%|          | 0/1 [02:59<?, ? url/s]\n",
            "Dl Completed...:   0%|          | 0/1 [03:01<?, ? url/s]\n",
            "Dl Completed...:   0%|          | 0/1 [03:03<?, ? url/s]\n",
            "Dl Completed...:   0%|          | 0/1 [03:06<?, ? url/s]\n",
            "Dl Completed...:   0%|          | 0/1 [03:07<?, ? url/s]\n",
            "Dl Completed...:   0%|          | 0/1 [03:09<?, ? url/s]\n",
            "Dl Completed...:   0%|          | 0/1 [03:12<?, ? url/s]\n",
            "Dl Completed...:   0%|          | 0/1 [03:14<?, ? url/s]\n",
            "Dl Completed...:   0%|          | 0/1 [03:16<?, ? url/s]\n",
            "Dl Completed...:   0%|          | 0/1 [03:17<?, ? url/s]\n",
            "Dl Completed...:   0%|          | 0/1 [03:19<?, ? url/s]\n",
            "Dl Completed...:   0%|          | 0/1 [03:21<?, ? url/s]\n",
            "Dl Completed...:   0%|          | 0/1 [03:23<?, ? url/s]\n",
            "Dl Completed...:   0%|          | 0/1 [03:25<?, ? url/s]\n",
            "Dl Completed...:   0%|          | 0/1 [03:27<?, ? url/s]\n",
            "Dl Completed...:   0%|          | 0/1 [03:28<?, ? url/s]\n",
            "Dl Completed...:   0%|          | 0/1 [03:31<?, ? url/s]\n",
            "Dl Completed...:   0%|          | 0/1 [03:33<?, ? url/s]\n",
            "Dl Completed...:   0%|          | 0/1 [03:35<?, ? url/s]\n",
            "Dl Completed...:   0%|          | 0/1 [03:37<?, ? url/s]\n",
            "Dl Completed...:   0%|          | 0/1 [03:39<?, ? url/s]\n",
            "Dl Completed...:   0%|          | 0/1 [03:41<?, ? url/s]\n",
            "Dl Completed...:   0%|          | 0/1 [03:43<?, ? url/s]\n",
            "Dl Completed...:   0%|          | 0/1 [03:45<?, ? url/s]\n",
            "Dl Completed...:   0%|          | 0/1 [03:47<?, ? url/s]\n",
            "Dl Completed...:   0%|          | 0/1 [03:49<?, ? url/s]\n",
            "Dl Completed...:   0%|          | 0/1 [03:51<?, ? url/s]\n",
            "Dl Completed...:   0%|          | 0/1 [03:53<?, ? url/s]\n",
            "Dl Completed...:   0%|          | 0/1 [03:54<?, ? url/s]\n",
            "Dl Completed...:   0%|          | 0/1 [03:56<?, ? url/s]\n",
            "Dl Completed...:   0%|          | 0/1 [03:57<?, ? url/s]\n",
            "Dl Completed...:   0%|          | 0/1 [03:58<?, ? url/s]\n",
            "Dl Completed...:   0%|          | 0/1 [03:59<?, ? url/s]\n",
            "Dl Completed...:   0%|          | 0/1 [04:00<?, ? url/s]\n",
            "Dl Completed...:   0%|          | 0/1 [04:02<?, ? url/s]\n",
            "Dl Completed...:   0%|          | 0/1 [04:04<?, ? url/s]\n",
            "Dl Completed...:   0%|          | 0/1 [04:06<?, ? url/s]\n",
            "Dl Completed...:   0%|          | 0/1 [04:07<?, ? url/s]\n",
            "Dl Completed...:   0%|          | 0/1 [04:09<?, ? url/s]\n",
            "Dl Completed...:   0%|          | 0/1 [04:11<?, ? url/s]\n",
            "Dl Completed...:   0%|          | 0/1 [04:13<?, ? url/s]\n",
            "Dl Completed...:   0%|          | 0/1 [04:15<?, ? url/s]\n",
            "Dl Completed...:   0%|          | 0/1 [04:17<?, ? url/s]\n",
            "Dl Completed...:   0%|          | 0/1 [04:20<?, ? url/s]\n",
            "Dl Completed...:   0%|          | 0/1 [04:22<?, ? url/s]\n",
            "Dl Completed...:   0%|          | 0/1 [04:23<?, ? url/s]\n",
            "Dl Completed...:   0%|          | 0/1 [04:25<?, ? url/s]\n",
            "Dl Completed...:   0%|          | 0/1 [04:27<?, ? url/s]\n",
            "Dl Completed...:   0%|          | 0/1 [04:29<?, ? url/s]\n",
            "Dl Completed...:   0%|          | 0/1 [04:31<?, ? url/s]\n",
            "Dl Completed...:   0%|          | 0/1 [04:33<?, ? url/s]\n",
            "Dl Completed...:   0%|          | 0/1 [04:35<?, ? url/s]\n",
            "Dl Completed...:   0%|          | 0/1 [04:37<?, ? url/s]\n",
            "Dl Completed...:   0%|          | 0/1 [04:39<?, ? url/s]\n",
            "Dl Completed...:   0%|          | 0/1 [04:41<?, ? url/s]\n",
            "Dl Completed...:   0%|          | 0/1 [04:43<?, ? url/s]\n",
            "Dl Completed...:   0%|          | 0/1 [04:45<?, ? url/s]\n",
            "Dl Completed...:   0%|          | 0/1 [04:47<?, ? url/s]\n",
            "Dl Completed...:   0%|          | 0/1 [04:48<?, ? url/s]\n",
            "Dl Completed...:   0%|          | 0/1 [04:50<?, ? url/s]\n",
            "Dl Completed...:   0%|          | 0/1 [04:51<?, ? url/s]\n",
            "Dl Completed...:   0%|          | 0/1 [04:53<?, ? url/s]\n",
            "Dl Completed...:   0%|          | 0/1 [04:55<?, ? url/s]\n",
            "Dl Completed...:   0%|          | 0/1 [04:57<?, ? url/s]\n",
            "Dl Completed...:   0%|          | 0/1 [04:59<?, ? url/s]\n",
            "Dl Completed...:   0%|          | 0/1 [05:01<?, ? url/s]\n",
            "Dl Completed...:   0%|          | 0/1 [05:03<?, ? url/s]\n",
            "Dl Completed...:   0%|          | 0/1 [05:05<?, ? url/s]\n",
            "Dl Completed...:   0%|          | 0/1 [05:07<?, ? url/s]\n",
            "Dl Completed...:   0%|          | 0/1 [05:09<?, ? url/s]\n",
            "Dl Completed...:   0%|          | 0/1 [05:12<?, ? url/s]\n",
            "Dl Completed...:   0%|          | 0/1 [05:13<?, ? url/s]\n",
            "Dl Completed...:   0%|          | 0/1 [05:15<?, ? url/s]\n",
            "Dl Completed...:   0%|          | 0/1 [05:17<?, ? url/s]\n",
            "Dl Completed...:   0%|          | 0/1 [05:19<?, ? url/s]\n",
            "Dl Completed...:   0%|          | 0/1 [05:21<?, ? url/s]\n",
            "Dl Completed...:   0%|          | 0/1 [05:23<?, ? url/s]\n",
            "Dl Completed...:   0%|          | 0/1 [05:25<?, ? url/s]\n",
            "Extraction completed...: 0 file [05:27, ? file/s]\n",
            "Dl Size...:  20%|█▉        | 165/827 [05:27<21:52,  1.98s/ MiB]\n",
            "Dl Completed...:   0%|          | 0/1 [05:27<?, ? url/s]\n"
          ]
        },
        {
          "ename": "KeyboardInterrupt",
          "evalue": "",
          "output_type": "error",
          "traceback": [
            "\u001b[0;31m---------------------------------------------------------------------------\u001b[0m",
            "\u001b[0;31mKeyboardInterrupt\u001b[0m                         Traceback (most recent call last)",
            "Cell \u001b[0;32mIn[3], line 3\u001b[0m\n\u001b[1;32m      1\u001b[0m \u001b[38;5;66;03m# Coletando dados\u001b[39;00m\n\u001b[1;32m      2\u001b[0m tf\u001b[38;5;241m.\u001b[39mkeras\u001b[38;5;241m.\u001b[39mbackend\u001b[38;5;241m.\u001b[39mclear_session()\n\u001b[0;32m----> 3\u001b[0m (ds_train), info \u001b[38;5;241m=\u001b[39m \u001b[43mtfds\u001b[49m\u001b[38;5;241;43m.\u001b[39;49m\u001b[43mload\u001b[49m\u001b[43m(\u001b[49m\u001b[38;5;124;43m'\u001b[39;49m\u001b[38;5;124;43mplant_village\u001b[39;49m\u001b[38;5;124;43m'\u001b[39;49m\u001b[43m,\u001b[49m\u001b[43m \u001b[49m\u001b[43msplit\u001b[49m\u001b[38;5;241;43m=\u001b[39;49m\u001b[38;5;124;43m'\u001b[39;49m\u001b[38;5;124;43mtrain\u001b[39;49m\u001b[38;5;124;43m'\u001b[39;49m\u001b[43m,\u001b[49m\u001b[43m \u001b[49m\u001b[43mwith_info\u001b[49m\u001b[38;5;241;43m=\u001b[39;49m\u001b[38;5;28;43;01mTrue\u001b[39;49;00m\u001b[43m)\u001b[49m\n\u001b[1;32m      5\u001b[0m \u001b[38;5;66;03m# Gerando um dataframe\u001b[39;00m\n\u001b[1;32m      6\u001b[0m df \u001b[38;5;241m=\u001b[39m tfds\u001b[38;5;241m.\u001b[39mas_dataframe(ds_train\u001b[38;5;241m.\u001b[39mtake(\u001b[38;5;241m20\u001b[39m), info)\n",
            "File \u001b[0;32m~/.local/lib/python3.10/site-packages/tensorflow_datasets/core/logging/__init__.py:168\u001b[0m, in \u001b[0;36m_FunctionDecorator.__call__\u001b[0;34m(self, function, instance, args, kwargs)\u001b[0m\n\u001b[1;32m    166\u001b[0m metadata \u001b[38;5;241m=\u001b[39m \u001b[38;5;28mself\u001b[39m\u001b[38;5;241m.\u001b[39m_start_call()\n\u001b[1;32m    167\u001b[0m \u001b[38;5;28;01mtry\u001b[39;00m:\n\u001b[0;32m--> 168\u001b[0m   \u001b[38;5;28;01mreturn\u001b[39;00m \u001b[43mfunction\u001b[49m\u001b[43m(\u001b[49m\u001b[38;5;241;43m*\u001b[39;49m\u001b[43margs\u001b[49m\u001b[43m,\u001b[49m\u001b[43m \u001b[49m\u001b[38;5;241;43m*\u001b[39;49m\u001b[38;5;241;43m*\u001b[39;49m\u001b[43mkwargs\u001b[49m\u001b[43m)\u001b[49m\n\u001b[1;32m    169\u001b[0m \u001b[38;5;28;01mexcept\u001b[39;00m \u001b[38;5;167;01mException\u001b[39;00m:\n\u001b[1;32m    170\u001b[0m   metadata\u001b[38;5;241m.\u001b[39mmark_error()\n",
            "File \u001b[0;32m~/.local/lib/python3.10/site-packages/tensorflow_datasets/core/load.py:647\u001b[0m, in \u001b[0;36mload\u001b[0;34m(name, split, data_dir, batch_size, shuffle_files, download, as_supervised, decoders, read_config, with_info, builder_kwargs, download_and_prepare_kwargs, as_dataset_kwargs, try_gcs)\u001b[0m\n\u001b[1;32m    528\u001b[0m \u001b[38;5;250m\u001b[39m\u001b[38;5;124;03m\"\"\"Loads the named dataset into a `tf.data.Dataset`.\u001b[39;00m\n\u001b[1;32m    529\u001b[0m \n\u001b[1;32m    530\u001b[0m \u001b[38;5;124;03m`tfds.load` is a convenience method that:\u001b[39;00m\n\u001b[0;32m   (...)\u001b[0m\n\u001b[1;32m    639\u001b[0m \u001b[38;5;124;03m    Split-specific information is available in `ds_info.splits`.\u001b[39;00m\n\u001b[1;32m    640\u001b[0m \u001b[38;5;124;03m\"\"\"\u001b[39;00m\n\u001b[1;32m    641\u001b[0m dbuilder \u001b[38;5;241m=\u001b[39m _fetch_builder(\n\u001b[1;32m    642\u001b[0m     name,\n\u001b[1;32m    643\u001b[0m     data_dir,\n\u001b[1;32m    644\u001b[0m     builder_kwargs,\n\u001b[1;32m    645\u001b[0m     try_gcs,\n\u001b[1;32m    646\u001b[0m )\n\u001b[0;32m--> 647\u001b[0m \u001b[43m_download_and_prepare_builder\u001b[49m\u001b[43m(\u001b[49m\u001b[43mdbuilder\u001b[49m\u001b[43m,\u001b[49m\u001b[43m \u001b[49m\u001b[43mdownload\u001b[49m\u001b[43m,\u001b[49m\u001b[43m \u001b[49m\u001b[43mdownload_and_prepare_kwargs\u001b[49m\u001b[43m)\u001b[49m\n\u001b[1;32m    649\u001b[0m \u001b[38;5;28;01mif\u001b[39;00m as_dataset_kwargs \u001b[38;5;129;01mis\u001b[39;00m \u001b[38;5;28;01mNone\u001b[39;00m:\n\u001b[1;32m    650\u001b[0m   as_dataset_kwargs \u001b[38;5;241m=\u001b[39m {}\n",
            "File \u001b[0;32m~/.local/lib/python3.10/site-packages/tensorflow_datasets/core/load.py:506\u001b[0m, in \u001b[0;36m_download_and_prepare_builder\u001b[0;34m(dbuilder, download, download_and_prepare_kwargs)\u001b[0m\n\u001b[1;32m    504\u001b[0m \u001b[38;5;28;01mif\u001b[39;00m download:\n\u001b[1;32m    505\u001b[0m   download_and_prepare_kwargs \u001b[38;5;241m=\u001b[39m download_and_prepare_kwargs \u001b[38;5;129;01mor\u001b[39;00m {}\n\u001b[0;32m--> 506\u001b[0m   \u001b[43mdbuilder\u001b[49m\u001b[38;5;241;43m.\u001b[39;49m\u001b[43mdownload_and_prepare\u001b[49m\u001b[43m(\u001b[49m\u001b[38;5;241;43m*\u001b[39;49m\u001b[38;5;241;43m*\u001b[39;49m\u001b[43mdownload_and_prepare_kwargs\u001b[49m\u001b[43m)\u001b[49m\n",
            "File \u001b[0;32m~/.local/lib/python3.10/site-packages/tensorflow_datasets/core/logging/__init__.py:168\u001b[0m, in \u001b[0;36m_FunctionDecorator.__call__\u001b[0;34m(self, function, instance, args, kwargs)\u001b[0m\n\u001b[1;32m    166\u001b[0m metadata \u001b[38;5;241m=\u001b[39m \u001b[38;5;28mself\u001b[39m\u001b[38;5;241m.\u001b[39m_start_call()\n\u001b[1;32m    167\u001b[0m \u001b[38;5;28;01mtry\u001b[39;00m:\n\u001b[0;32m--> 168\u001b[0m   \u001b[38;5;28;01mreturn\u001b[39;00m \u001b[43mfunction\u001b[49m\u001b[43m(\u001b[49m\u001b[38;5;241;43m*\u001b[39;49m\u001b[43margs\u001b[49m\u001b[43m,\u001b[49m\u001b[43m \u001b[49m\u001b[38;5;241;43m*\u001b[39;49m\u001b[38;5;241;43m*\u001b[39;49m\u001b[43mkwargs\u001b[49m\u001b[43m)\u001b[49m\n\u001b[1;32m    169\u001b[0m \u001b[38;5;28;01mexcept\u001b[39;00m \u001b[38;5;167;01mException\u001b[39;00m:\n\u001b[1;32m    170\u001b[0m   metadata\u001b[38;5;241m.\u001b[39mmark_error()\n",
            "File \u001b[0;32m~/.local/lib/python3.10/site-packages/tensorflow_datasets/core/dataset_builder.py:699\u001b[0m, in \u001b[0;36mDatasetBuilder.download_and_prepare\u001b[0;34m(self, download_dir, download_config, file_format)\u001b[0m\n\u001b[1;32m    697\u001b[0m   \u001b[38;5;28mself\u001b[39m\u001b[38;5;241m.\u001b[39minfo\u001b[38;5;241m.\u001b[39mread_from_directory(\u001b[38;5;28mself\u001b[39m\u001b[38;5;241m.\u001b[39mdata_dir)\n\u001b[1;32m    698\u001b[0m \u001b[38;5;28;01melse\u001b[39;00m:\n\u001b[0;32m--> 699\u001b[0m   \u001b[38;5;28;43mself\u001b[39;49m\u001b[38;5;241;43m.\u001b[39;49m\u001b[43m_download_and_prepare\u001b[49m\u001b[43m(\u001b[49m\n\u001b[1;32m    700\u001b[0m \u001b[43m      \u001b[49m\u001b[43mdl_manager\u001b[49m\u001b[38;5;241;43m=\u001b[39;49m\u001b[43mdl_manager\u001b[49m\u001b[43m,\u001b[49m\n\u001b[1;32m    701\u001b[0m \u001b[43m      \u001b[49m\u001b[43mdownload_config\u001b[49m\u001b[38;5;241;43m=\u001b[39;49m\u001b[43mdownload_config\u001b[49m\u001b[43m,\u001b[49m\n\u001b[1;32m    702\u001b[0m \u001b[43m  \u001b[49m\u001b[43m)\u001b[49m\n\u001b[1;32m    704\u001b[0m   \u001b[38;5;66;03m# NOTE: If modifying the lines below to put additional information in\u001b[39;00m\n\u001b[1;32m    705\u001b[0m   \u001b[38;5;66;03m# DatasetInfo, you'll likely also want to update\u001b[39;00m\n\u001b[1;32m    706\u001b[0m   \u001b[38;5;66;03m# DatasetInfo.read_from_directory to possibly restore these attributes\u001b[39;00m\n\u001b[1;32m    707\u001b[0m   \u001b[38;5;66;03m# when reading from package data.\u001b[39;00m\n\u001b[1;32m    708\u001b[0m   \u001b[38;5;28mself\u001b[39m\u001b[38;5;241m.\u001b[39minfo\u001b[38;5;241m.\u001b[39mdownload_size \u001b[38;5;241m=\u001b[39m dl_manager\u001b[38;5;241m.\u001b[39mdownloaded_size\n",
            "File \u001b[0;32m~/.local/lib/python3.10/site-packages/tensorflow_datasets/core/dataset_builder.py:1669\u001b[0m, in \u001b[0;36mGeneratorBasedBuilder._download_and_prepare\u001b[0;34m(self, dl_manager, download_config)\u001b[0m\n\u001b[1;32m   1666\u001b[0m \u001b[38;5;28;01mif\u001b[39;00m download_config\u001b[38;5;241m.\u001b[39mmax_examples_per_split \u001b[38;5;241m==\u001b[39m \u001b[38;5;241m0\u001b[39m:\n\u001b[1;32m   1667\u001b[0m   \u001b[38;5;28;01mreturn\u001b[39;00m\n\u001b[0;32m-> 1669\u001b[0m split_infos \u001b[38;5;241m=\u001b[39m \u001b[38;5;28;43mself\u001b[39;49m\u001b[38;5;241;43m.\u001b[39;49m\u001b[43m_generate_splits\u001b[49m\u001b[43m(\u001b[49m\u001b[43mdl_manager\u001b[49m\u001b[43m,\u001b[49m\u001b[43m \u001b[49m\u001b[43mdownload_config\u001b[49m\u001b[43m)\u001b[49m\n\u001b[1;32m   1671\u001b[0m \u001b[38;5;66;03m# Update the info object with the splits.\u001b[39;00m\n\u001b[1;32m   1672\u001b[0m split_dict \u001b[38;5;241m=\u001b[39m splits_lib\u001b[38;5;241m.\u001b[39mSplitDict(split_infos)\n",
            "File \u001b[0;32m~/.local/lib/python3.10/site-packages/tensorflow_datasets/core/dataset_builder.py:1620\u001b[0m, in \u001b[0;36mGeneratorBasedBuilder._generate_splits\u001b[0;34m(self, dl_manager, download_config)\u001b[0m\n\u001b[1;32m   1618\u001b[0m \u001b[38;5;28;01melse\u001b[39;00m:\n\u001b[1;32m   1619\u001b[0m   optional_pipeline_kwargs \u001b[38;5;241m=\u001b[39m {}\n\u001b[0;32m-> 1620\u001b[0m split_generators \u001b[38;5;241m=\u001b[39m \u001b[38;5;28;43mself\u001b[39;49m\u001b[38;5;241;43m.\u001b[39;49m\u001b[43m_split_generators\u001b[49m\u001b[43m(\u001b[49m\u001b[43m  \u001b[49m\u001b[38;5;66;43;03m# pylint: disable=unexpected-keyword-arg\u001b[39;49;00m\n\u001b[1;32m   1621\u001b[0m \u001b[43m    \u001b[49m\u001b[43mdl_manager\u001b[49m\u001b[43m,\u001b[49m\u001b[43m \u001b[49m\u001b[38;5;241;43m*\u001b[39;49m\u001b[38;5;241;43m*\u001b[39;49m\u001b[43moptional_pipeline_kwargs\u001b[49m\n\u001b[1;32m   1622\u001b[0m \u001b[43m\u001b[49m\u001b[43m)\u001b[49m\n\u001b[1;32m   1623\u001b[0m \u001b[38;5;66;03m# TODO(tfds): Could be removed once all datasets are migrated.\u001b[39;00m\n\u001b[1;32m   1624\u001b[0m \u001b[38;5;66;03m# https://github.com/tensorflow/datasets/issues/2537\u001b[39;00m\n\u001b[1;32m   1625\u001b[0m \u001b[38;5;66;03m# Legacy mode (eventually convert list[SplitGeneratorLegacy] -> dict)\u001b[39;00m\n\u001b[1;32m   1626\u001b[0m split_generators \u001b[38;5;241m=\u001b[39m split_builder\u001b[38;5;241m.\u001b[39mnormalize_legacy_split_generators(\n\u001b[1;32m   1627\u001b[0m     split_generators\u001b[38;5;241m=\u001b[39msplit_generators,\n\u001b[1;32m   1628\u001b[0m     generator_fn\u001b[38;5;241m=\u001b[39m\u001b[38;5;28mself\u001b[39m\u001b[38;5;241m.\u001b[39m_generate_examples,\n\u001b[1;32m   1629\u001b[0m     is_beam\u001b[38;5;241m=\u001b[39m\u001b[38;5;28misinstance\u001b[39m(\u001b[38;5;28mself\u001b[39m, BeamBasedBuilder),\n\u001b[1;32m   1630\u001b[0m )\n",
            "File \u001b[0;32m~/.local/lib/python3.10/site-packages/tensorflow_datasets/datasets/plant_village/plant_village_dataset_builder.py:84\u001b[0m, in \u001b[0;36mBuilder._split_generators\u001b[0;34m(self, dl_manager)\u001b[0m\n\u001b[1;32m     82\u001b[0m \u001b[38;5;28;01mdef\u001b[39;00m \u001b[38;5;21m_split_generators\u001b[39m(\u001b[38;5;28mself\u001b[39m, dl_manager):\n\u001b[1;32m     83\u001b[0m \u001b[38;5;250m  \u001b[39m\u001b[38;5;124;03m\"\"\"Returns SplitGenerators.\"\"\"\u001b[39;00m\n\u001b[0;32m---> 84\u001b[0m   path \u001b[38;5;241m=\u001b[39m \u001b[43mdl_manager\u001b[49m\u001b[38;5;241;43m.\u001b[39;49m\u001b[43mdownload_and_extract\u001b[49m\u001b[43m(\u001b[49m\u001b[43m_URL\u001b[49m\u001b[43m)\u001b[49m\n\u001b[1;32m     85\u001b[0m   \u001b[38;5;28;01mreturn\u001b[39;00m [\n\u001b[1;32m     86\u001b[0m       tfds\u001b[38;5;241m.\u001b[39mcore\u001b[38;5;241m.\u001b[39mSplitGenerator(\n\u001b[1;32m     87\u001b[0m           name\u001b[38;5;241m=\u001b[39mtfds\u001b[38;5;241m.\u001b[39mSplit\u001b[38;5;241m.\u001b[39mTRAIN, gen_kwargs\u001b[38;5;241m=\u001b[39m{\u001b[38;5;124m\"\u001b[39m\u001b[38;5;124mdatapath\u001b[39m\u001b[38;5;124m\"\u001b[39m: path}\n\u001b[1;32m     88\u001b[0m       )\n\u001b[1;32m     89\u001b[0m   ]\n",
            "File \u001b[0;32m~/.local/lib/python3.10/site-packages/tensorflow_datasets/core/download/download_manager.py:690\u001b[0m, in \u001b[0;36mDownloadManager.download_and_extract\u001b[0;34m(self, url_or_urls)\u001b[0m\n\u001b[1;32m    688\u001b[0m \u001b[38;5;28;01mwith\u001b[39;00m \u001b[38;5;28mself\u001b[39m\u001b[38;5;241m.\u001b[39m_downloader\u001b[38;5;241m.\u001b[39mtqdm():\n\u001b[1;32m    689\u001b[0m   \u001b[38;5;28;01mwith\u001b[39;00m \u001b[38;5;28mself\u001b[39m\u001b[38;5;241m.\u001b[39m_extractor\u001b[38;5;241m.\u001b[39mtqdm():\n\u001b[0;32m--> 690\u001b[0m     \u001b[38;5;28;01mreturn\u001b[39;00m \u001b[43m_map_promise\u001b[49m\u001b[43m(\u001b[49m\u001b[38;5;28;43mself\u001b[39;49m\u001b[38;5;241;43m.\u001b[39;49m\u001b[43m_download_extract\u001b[49m\u001b[43m,\u001b[49m\u001b[43m \u001b[49m\u001b[43murl_or_urls\u001b[49m\u001b[43m)\u001b[49m\n",
            "File \u001b[0;32m~/.local/lib/python3.10/site-packages/tensorflow_datasets/core/download/download_manager.py:831\u001b[0m, in \u001b[0;36m_map_promise\u001b[0;34m(map_fn, all_inputs)\u001b[0m\n\u001b[1;32m    829\u001b[0m \u001b[38;5;250m\u001b[39m\u001b[38;5;124;03m\"\"\"Map the function into each element and resolve the promise.\"\"\"\u001b[39;00m\n\u001b[1;32m    830\u001b[0m all_promises \u001b[38;5;241m=\u001b[39m tree\u001b[38;5;241m.\u001b[39mmap_structure(map_fn, all_inputs)  \u001b[38;5;66;03m# Apply the function\u001b[39;00m\n\u001b[0;32m--> 831\u001b[0m res \u001b[38;5;241m=\u001b[39m \u001b[43mtree\u001b[49m\u001b[38;5;241;43m.\u001b[39;49m\u001b[43mmap_structure\u001b[49m\u001b[43m(\u001b[49m\u001b[38;5;28;43;01mlambda\u001b[39;49;00m\u001b[43m \u001b[49m\u001b[43mp\u001b[49m\u001b[43m:\u001b[49m\u001b[43m \u001b[49m\u001b[43mp\u001b[49m\u001b[38;5;241;43m.\u001b[39;49m\u001b[43mget\u001b[49m\u001b[43m(\u001b[49m\u001b[43m)\u001b[49m\u001b[43m,\u001b[49m\u001b[43m \u001b[49m\u001b[43mall_promises\u001b[49m\u001b[43m)\u001b[49m  \u001b[38;5;66;03m# Wait promises\u001b[39;00m\n\u001b[1;32m    832\u001b[0m \u001b[38;5;28;01mreturn\u001b[39;00m res\n",
            "File \u001b[0;32m~/.local/lib/python3.10/site-packages/tree/__init__.py:435\u001b[0m, in \u001b[0;36mmap_structure\u001b[0;34m(func, *structures, **kwargs)\u001b[0m\n\u001b[1;32m    432\u001b[0m \u001b[38;5;28;01mfor\u001b[39;00m other \u001b[38;5;129;01min\u001b[39;00m structures[\u001b[38;5;241m1\u001b[39m:]:\n\u001b[1;32m    433\u001b[0m   assert_same_structure(structures[\u001b[38;5;241m0\u001b[39m], other, check_types\u001b[38;5;241m=\u001b[39mcheck_types)\n\u001b[1;32m    434\u001b[0m \u001b[38;5;28;01mreturn\u001b[39;00m unflatten_as(structures[\u001b[38;5;241m0\u001b[39m],\n\u001b[0;32m--> 435\u001b[0m                     [func(\u001b[38;5;241m*\u001b[39margs) \u001b[38;5;28;01mfor\u001b[39;00m args \u001b[38;5;129;01min\u001b[39;00m \u001b[38;5;28mzip\u001b[39m(\u001b[38;5;241m*\u001b[39m\u001b[38;5;28mmap\u001b[39m(flatten, structures))])\n",
            "File \u001b[0;32m~/.local/lib/python3.10/site-packages/tree/__init__.py:435\u001b[0m, in \u001b[0;36m<listcomp>\u001b[0;34m(.0)\u001b[0m\n\u001b[1;32m    432\u001b[0m \u001b[38;5;28;01mfor\u001b[39;00m other \u001b[38;5;129;01min\u001b[39;00m structures[\u001b[38;5;241m1\u001b[39m:]:\n\u001b[1;32m    433\u001b[0m   assert_same_structure(structures[\u001b[38;5;241m0\u001b[39m], other, check_types\u001b[38;5;241m=\u001b[39mcheck_types)\n\u001b[1;32m    434\u001b[0m \u001b[38;5;28;01mreturn\u001b[39;00m unflatten_as(structures[\u001b[38;5;241m0\u001b[39m],\n\u001b[0;32m--> 435\u001b[0m                     [\u001b[43mfunc\u001b[49m\u001b[43m(\u001b[49m\u001b[38;5;241;43m*\u001b[39;49m\u001b[43margs\u001b[49m\u001b[43m)\u001b[49m \u001b[38;5;28;01mfor\u001b[39;00m args \u001b[38;5;129;01min\u001b[39;00m \u001b[38;5;28mzip\u001b[39m(\u001b[38;5;241m*\u001b[39m\u001b[38;5;28mmap\u001b[39m(flatten, structures))])\n",
            "File \u001b[0;32m~/.local/lib/python3.10/site-packages/tensorflow_datasets/core/download/download_manager.py:831\u001b[0m, in \u001b[0;36m_map_promise.<locals>.<lambda>\u001b[0;34m(p)\u001b[0m\n\u001b[1;32m    829\u001b[0m \u001b[38;5;250m\u001b[39m\u001b[38;5;124;03m\"\"\"Map the function into each element and resolve the promise.\"\"\"\u001b[39;00m\n\u001b[1;32m    830\u001b[0m all_promises \u001b[38;5;241m=\u001b[39m tree\u001b[38;5;241m.\u001b[39mmap_structure(map_fn, all_inputs)  \u001b[38;5;66;03m# Apply the function\u001b[39;00m\n\u001b[0;32m--> 831\u001b[0m res \u001b[38;5;241m=\u001b[39m tree\u001b[38;5;241m.\u001b[39mmap_structure(\u001b[38;5;28;01mlambda\u001b[39;00m p: \u001b[43mp\u001b[49m\u001b[38;5;241;43m.\u001b[39;49m\u001b[43mget\u001b[49m\u001b[43m(\u001b[49m\u001b[43m)\u001b[49m, all_promises)  \u001b[38;5;66;03m# Wait promises\u001b[39;00m\n\u001b[1;32m    832\u001b[0m \u001b[38;5;28;01mreturn\u001b[39;00m res\n",
            "File \u001b[0;32m~/.local/lib/python3.10/site-packages/promise/promise.py:511\u001b[0m, in \u001b[0;36mPromise.get\u001b[0;34m(self, timeout)\u001b[0m\n\u001b[1;32m    508\u001b[0m \u001b[38;5;28;01mdef\u001b[39;00m \u001b[38;5;21mget\u001b[39m(\u001b[38;5;28mself\u001b[39m, timeout\u001b[38;5;241m=\u001b[39m\u001b[38;5;28;01mNone\u001b[39;00m):\n\u001b[1;32m    509\u001b[0m     \u001b[38;5;66;03m# type: (Optional[float]) -> T\u001b[39;00m\n\u001b[1;32m    510\u001b[0m     target \u001b[38;5;241m=\u001b[39m \u001b[38;5;28mself\u001b[39m\u001b[38;5;241m.\u001b[39m_target()\n\u001b[0;32m--> 511\u001b[0m     \u001b[38;5;28;43mself\u001b[39;49m\u001b[38;5;241;43m.\u001b[39;49m\u001b[43m_wait\u001b[49m\u001b[43m(\u001b[49m\u001b[43mtimeout\u001b[49m\u001b[43m \u001b[49m\u001b[38;5;129;43;01mor\u001b[39;49;00m\u001b[43m \u001b[49m\u001b[43mDEFAULT_TIMEOUT\u001b[49m\u001b[43m)\u001b[49m\n\u001b[1;32m    512\u001b[0m     \u001b[38;5;28;01mreturn\u001b[39;00m \u001b[38;5;28mself\u001b[39m\u001b[38;5;241m.\u001b[39m_target_settled_value(_raise\u001b[38;5;241m=\u001b[39m\u001b[38;5;28;01mTrue\u001b[39;00m)\n",
            "File \u001b[0;32m~/.local/lib/python3.10/site-packages/promise/promise.py:506\u001b[0m, in \u001b[0;36mPromise._wait\u001b[0;34m(self, timeout)\u001b[0m\n\u001b[1;32m    504\u001b[0m \u001b[38;5;28;01mdef\u001b[39;00m \u001b[38;5;21m_wait\u001b[39m(\u001b[38;5;28mself\u001b[39m, timeout\u001b[38;5;241m=\u001b[39m\u001b[38;5;28;01mNone\u001b[39;00m):\n\u001b[1;32m    505\u001b[0m     \u001b[38;5;66;03m# type: (Optional[float]) -> None\u001b[39;00m\n\u001b[0;32m--> 506\u001b[0m     \u001b[38;5;28;43mself\u001b[39;49m\u001b[38;5;241;43m.\u001b[39;49m\u001b[43mwait\u001b[49m\u001b[43m(\u001b[49m\u001b[38;5;28;43mself\u001b[39;49m\u001b[43m,\u001b[49m\u001b[43m \u001b[49m\u001b[43mtimeout\u001b[49m\u001b[43m)\u001b[49m\n",
            "File \u001b[0;32m~/.local/lib/python3.10/site-packages/promise/promise.py:502\u001b[0m, in \u001b[0;36mPromise.wait\u001b[0;34m(cls, promise, timeout)\u001b[0m\n\u001b[1;32m    499\u001b[0m \u001b[38;5;129m@classmethod\u001b[39m\n\u001b[1;32m    500\u001b[0m \u001b[38;5;28;01mdef\u001b[39;00m \u001b[38;5;21mwait\u001b[39m(\u001b[38;5;28mcls\u001b[39m, promise, timeout\u001b[38;5;241m=\u001b[39m\u001b[38;5;28;01mNone\u001b[39;00m):\n\u001b[1;32m    501\u001b[0m     \u001b[38;5;66;03m# type: (Promise, Optional[float]) -> None\u001b[39;00m\n\u001b[0;32m--> 502\u001b[0m     \u001b[43masync_instance\u001b[49m\u001b[38;5;241;43m.\u001b[39;49m\u001b[43mwait\u001b[49m\u001b[43m(\u001b[49m\u001b[43mpromise\u001b[49m\u001b[43m,\u001b[49m\u001b[43m \u001b[49m\u001b[43mtimeout\u001b[49m\u001b[43m)\u001b[49m\n",
            "File \u001b[0;32m~/.local/lib/python3.10/site-packages/promise/async_.py:117\u001b[0m, in \u001b[0;36mAsync.wait\u001b[0;34m(self, promise, timeout)\u001b[0m\n\u001b[1;32m    113\u001b[0m     \u001b[38;5;28;01mif\u001b[39;00m \u001b[38;5;129;01mnot\u001b[39;00m promise\u001b[38;5;241m.\u001b[39mis_pending:\n\u001b[1;32m    114\u001b[0m         \u001b[38;5;66;03m# We return if the promise is already\u001b[39;00m\n\u001b[1;32m    115\u001b[0m         \u001b[38;5;66;03m# fulfilled or rejected\u001b[39;00m\n\u001b[1;32m    116\u001b[0m         \u001b[38;5;28;01mreturn\u001b[39;00m\n\u001b[0;32m--> 117\u001b[0m \u001b[43mtarget\u001b[49m\u001b[38;5;241;43m.\u001b[39;49m\u001b[43mscheduler\u001b[49m\u001b[38;5;241;43m.\u001b[39;49m\u001b[43mwait\u001b[49m\u001b[43m(\u001b[49m\u001b[43mtarget\u001b[49m\u001b[43m,\u001b[49m\u001b[43m \u001b[49m\u001b[43mtimeout\u001b[49m\u001b[43m)\u001b[49m\n",
            "File \u001b[0;32m~/.local/lib/python3.10/site-packages/promise/schedulers/immediate.py:25\u001b[0m, in \u001b[0;36mImmediateScheduler.wait\u001b[0;34m(self, promise, timeout)\u001b[0m\n\u001b[1;32m     22\u001b[0m     e\u001b[38;5;241m.\u001b[39mset()\n\u001b[1;32m     24\u001b[0m promise\u001b[38;5;241m.\u001b[39m_then(on_resolve_or_reject, on_resolve_or_reject)\n\u001b[0;32m---> 25\u001b[0m waited \u001b[38;5;241m=\u001b[39m \u001b[43me\u001b[49m\u001b[38;5;241;43m.\u001b[39;49m\u001b[43mwait\u001b[49m\u001b[43m(\u001b[49m\u001b[43mtimeout\u001b[49m\u001b[43m)\u001b[49m\n\u001b[1;32m     26\u001b[0m \u001b[38;5;28;01mif\u001b[39;00m \u001b[38;5;129;01mnot\u001b[39;00m waited:\n\u001b[1;32m     27\u001b[0m     \u001b[38;5;28;01mraise\u001b[39;00m \u001b[38;5;167;01mException\u001b[39;00m(\u001b[38;5;124m\"\u001b[39m\u001b[38;5;124mTimeout\u001b[39m\u001b[38;5;124m\"\u001b[39m)\n",
            "File \u001b[0;32m/usr/lib/python3.10/threading.py:607\u001b[0m, in \u001b[0;36mEvent.wait\u001b[0;34m(self, timeout)\u001b[0m\n\u001b[1;32m    605\u001b[0m signaled \u001b[38;5;241m=\u001b[39m \u001b[38;5;28mself\u001b[39m\u001b[38;5;241m.\u001b[39m_flag\n\u001b[1;32m    606\u001b[0m \u001b[38;5;28;01mif\u001b[39;00m \u001b[38;5;129;01mnot\u001b[39;00m signaled:\n\u001b[0;32m--> 607\u001b[0m     signaled \u001b[38;5;241m=\u001b[39m \u001b[38;5;28;43mself\u001b[39;49m\u001b[38;5;241;43m.\u001b[39;49m\u001b[43m_cond\u001b[49m\u001b[38;5;241;43m.\u001b[39;49m\u001b[43mwait\u001b[49m\u001b[43m(\u001b[49m\u001b[43mtimeout\u001b[49m\u001b[43m)\u001b[49m\n\u001b[1;32m    608\u001b[0m \u001b[38;5;28;01mreturn\u001b[39;00m signaled\n",
            "File \u001b[0;32m/usr/lib/python3.10/threading.py:320\u001b[0m, in \u001b[0;36mCondition.wait\u001b[0;34m(self, timeout)\u001b[0m\n\u001b[1;32m    318\u001b[0m \u001b[38;5;28;01mtry\u001b[39;00m:    \u001b[38;5;66;03m# restore state no matter what (e.g., KeyboardInterrupt)\u001b[39;00m\n\u001b[1;32m    319\u001b[0m     \u001b[38;5;28;01mif\u001b[39;00m timeout \u001b[38;5;129;01mis\u001b[39;00m \u001b[38;5;28;01mNone\u001b[39;00m:\n\u001b[0;32m--> 320\u001b[0m         \u001b[43mwaiter\u001b[49m\u001b[38;5;241;43m.\u001b[39;49m\u001b[43macquire\u001b[49m\u001b[43m(\u001b[49m\u001b[43m)\u001b[49m\n\u001b[1;32m    321\u001b[0m         gotit \u001b[38;5;241m=\u001b[39m \u001b[38;5;28;01mTrue\u001b[39;00m\n\u001b[1;32m    322\u001b[0m     \u001b[38;5;28;01melse\u001b[39;00m:\n",
            "\u001b[0;31mKeyboardInterrupt\u001b[0m: "
          ]
        }
      ],
      "source": [
        "# Coletando dados\n",
        "tf.keras.backend.clear_session()\n",
        "(ds_train), info = tfds.load('plant_village', split='train', with_info=True)\n",
        "\n",
        "# Gerando um dataframe\n",
        "df = tfds.as_dataframe(ds_train.take(20), info)\n",
        "\n",
        "print(df.image, df.label)\n",
        "# a estrutura de uma imagem (244,244,3), representa a largura e altura em pixels,\n",
        "# e o 3 representa a quantidade de canais de cores pq é RGB"
      ]
    },
    {
      "cell_type": "code",
      "execution_count": null,
      "metadata": {
        "id": "cP1IfA5RCcxp"
      },
      "outputs": [],
      "source": [
        "# Dividir os dados de treinamento em treinamento e validação\n",
        "ds_train = ds_train.shuffle(buffer_size=1000, seed=42)  # Embaralhar os dados\n",
        "\n",
        "# Calcular o tamanho do conjunto de validação como 20% dos dados de treinamento\n",
        "train_size = ds_train.cardinality().numpy()\n",
        "validation_size = train_size // 5  # 20% dos dados de treinamento\n",
        "\n",
        "# Dividir os dados\n",
        "ds_train_validation = ds_train.take(validation_size)\n",
        "ds_train = ds_train.skip(validation_size)\n",
        "\n",
        "# Verificar o número de exemplos em cada conjunto de dados\n",
        "num_train_examples = ds_train.cardinality().numpy()\n",
        "num_validation_examples = ds_train_validation.cardinality().numpy()\n",
        "print(\"Número de exemplos de treinamento:\", num_train_examples)\n",
        "print(\"Número de exemplos de validação:\", num_validation_examples)"
      ]
    }
  ],
  "metadata": {
    "accelerator": "GPU",
    "colab": {
      "authorship_tag": "ABX9TyMph7EG1HIwNrxVVT+Dcohj",
      "gpuType": "T4",
      "include_colab_link": true,
      "provenance": []
    },
    "kernelspec": {
      "display_name": "Python 3",
      "language": "python",
      "name": "python3"
    },
    "language_info": {
      "codemirror_mode": {
        "name": "ipython",
        "version": 3
      },
      "file_extension": ".py",
      "mimetype": "text/x-python",
      "name": "python",
      "nbconvert_exporter": "python",
      "pygments_lexer": "ipython3",
      "version": "3.10.12"
    }
  },
  "nbformat": 4,
  "nbformat_minor": 0
}
