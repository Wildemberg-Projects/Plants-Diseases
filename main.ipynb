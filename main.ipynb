{
  "cells": [
    {
      "cell_type": "markdown",
      "metadata": {
        "colab_type": "text",
        "id": "view-in-github"
      },
      "source": [
        "<a href=\"https://colab.research.google.com/github/Wildemberg-Projects/Plants-Diseases/blob/main/main.ipynb\" target=\"_parent\"><img src=\"https://colab.research.google.com/assets/colab-badge.svg\" alt=\"Open In Colab\"/></a>"
      ]
    },
    {
      "cell_type": "code",
      "execution_count": 5,
      "metadata": {
        "id": "GO0dwdyQ-M_O"
      },
      "outputs": [
        {
          "name": "stdout",
          "output_type": "stream",
          "text": [
            "Note: you may need to restart the kernel to use updated packages.\n",
            "Note: you may need to restart the kernel to use updated packages.\n",
            "Note: you may need to restart the kernel to use updated packages.\n",
            "Note: you may need to restart the kernel to use updated packages.\n"
          ]
        }
      ],
      "source": [
        "# Instalação de Dependências\n",
        "# Para utilização do Colab, modifique o '%' por '!'\n",
        "# As abaixo comentadas são somente para instalar em ambiente local\n",
        "# %pip install -q -U tensorflow\n",
        "# %pip install -q -U keras\n",
        "# %pip install -q -U numpy\n",
        "# %pip install -q -U pandas\n",
        "# %pip install -q -U Jinja2\n",
        "# Uso da GPU precisa ser habilitado pelo comando a seguir\n",
        "# %python -m pip install tensorflow[and-cuda]\n",
        "%pip install -q -U tensorflow-addons\n",
        "%pip install -q -U tensorflow-datasets\n",
        "%pip install -q -U keras-utils\n",
        "%pip install -q -U matplotlib\n"
      ]
    },
    {
      "cell_type": "code",
      "execution_count": 7,
      "metadata": {
        "id": "oOBTtaKjCVkm"
      },
      "outputs": [],
      "source": [
        "import tensorflow_datasets as tfds\n",
        "import pandas as pd\n",
        "from numpy import mean\n",
        "import tensorflow as tf\n",
        "import keras"
      ]
    },
    {
      "cell_type": "code",
      "execution_count": 8,
      "metadata": {
        "id": "CNowqre2CWz0"
      },
      "outputs": [
        {
          "name": "stderr",
          "output_type": "stream",
          "text": [
            "2024-04-20 15:49:49.253167: I external/local_xla/xla/stream_executor/cuda/cuda_executor.cc:984] could not open file to read NUMA node: /sys/bus/pci/devices/0000:01:00.0/numa_node\n",
            "Your kernel may have been built without NUMA support.\n",
            "2024-04-20 15:49:49.547448: W tensorflow/core/common_runtime/gpu/gpu_device.cc:2251] Cannot dlopen some GPU libraries. Please make sure the missing libraries mentioned above are installed properly if you would like to use GPU. Follow the guide at https://www.tensorflow.org/install/gpu for how to download and setup the required libraries for your platform.\n",
            "Skipping registering GPU devices...\n",
            "2024-04-20 15:49:49.828909: W tensorflow/core/framework/local_rendezvous.cc:404] Local rendezvous is aborting with status: OUT_OF_RANGE: End of sequence\n"
          ]
        }
      ],
      "source": [
        "# Coletando dados\n",
        "tf.keras.backend.clear_session()\n",
        "(ds_train), info = tfds.load('plant_village', split='train', with_info=True)\n",
        "\n",
        "# a estrutura de uma imagem (244,244,3), representa a largura e altura em pixels,\n",
        "# e o 3 representa a quantidade de canais de cores pq é RGB"
      ]
    },
    {
      "cell_type": "code",
      "execution_count": 4,
      "metadata": {
        "id": "cP1IfA5RCcxp"
      },
      "outputs": [
        {
          "name": "stdout",
          "output_type": "stream",
          "text": [
            "Número de exemplos de treinamento: 40728\n",
            "Número de exemplos de validação: 13575\n"
          ]
        }
      ],
      "source": [
        "# Dividir os dados de treinamento em treinamento e validação\n",
        "# Embaralhando os dados para garantir que tanto a validação quanto o treinamento tenham todos os tipos de dados\n",
        "ds_train = ds_train.shuffle(buffer_size=1000, seed=42)  \n",
        "\n",
        "# Calcular o tamanho do conjunto de validação como 25% dos dados de treinamento\n",
        "train_size = ds_train.cardinality().numpy()\n",
        "validation_size = train_size // 4  # 25% dos dados de treinamento\n",
        "\n",
        "# Dividindo os dados\n",
        "ds_validation = ds_train.take(validation_size)\n",
        "ds_train = ds_train.skip(validation_size)\n",
        "\n",
        "# Verificar o número de exemplos em cada conjunto de dados\n",
        "num_train_examples = ds_train.cardinality().numpy()\n",
        "num_validation_examples = ds_validation.cardinality().numpy()\n",
        "print(\"Número de exemplos de treinamento:\", num_train_examples)\n",
        "print(\"Número de exemplos de validação:\", num_validation_examples)"
      ]
    },
    {
      "cell_type": "code",
      "execution_count": 6,
      "metadata": {},
      "outputs": [
        {
          "ename": "",
          "evalue": "",
          "output_type": "error",
          "traceback": [
            "\u001b[1;31mThe Kernel crashed while executing code in the current cell or a previous cell. \n",
            "\u001b[1;31mPlease review the code in the cell(s) to identify a possible cause of the failure. \n",
            "\u001b[1;31mClick <a href='https://aka.ms/vscodeJupyterKernelCrash'>here</a> for more info. \n",
            "\u001b[1;31mView Jupyter <a href='command:jupyter.viewOutput'>log</a> for further details."
          ]
        }
      ],
      "source": [
        "df_validation = tfds.as_dataframe(ds_validation, info)\n",
        "df_train = tfds.as_dataframe(ds_train, info)"
      ]
    }
  ],
  "metadata": {
    "accelerator": "GPU",
    "colab": {
      "authorship_tag": "ABX9TyMph7EG1HIwNrxVVT+Dcohj",
      "gpuType": "T4",
      "include_colab_link": true,
      "provenance": []
    },
    "kernelspec": {
      "display_name": "Python 3",
      "language": "python",
      "name": "python3"
    },
    "language_info": {
      "codemirror_mode": {
        "name": "ipython",
        "version": 3
      },
      "file_extension": ".py",
      "mimetype": "text/x-python",
      "name": "python",
      "nbconvert_exporter": "python",
      "pygments_lexer": "ipython3",
      "version": "3.10.12"
    }
  },
  "nbformat": 4,
  "nbformat_minor": 0
}
