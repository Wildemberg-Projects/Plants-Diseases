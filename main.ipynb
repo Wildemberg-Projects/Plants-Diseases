{
  "cells": [
    {
      "cell_type": "markdown",
      "metadata": {
        "id": "view-in-github",
        "colab_type": "text"
      },
      "source": [
        "<a href=\"https://colab.research.google.com/github/Wildemberg-Projects/Plants-Diseases/blob/main/main.ipynb\" target=\"_parent\"><img src=\"https://colab.research.google.com/assets/colab-badge.svg\" alt=\"Open In Colab\"/></a>"
      ]
    },
    {
      "cell_type": "code",
      "execution_count": null,
      "metadata": {
        "id": "GO0dwdyQ-M_O"
      },
      "outputs": [],
      "source": [
        "# Instalação de Dependências\n",
        "# Para utilização do Colab, modifique o '%' por '!'\n",
        "# As abaixo comentadas são somente para instalar em ambiente local\n",
        "# %pip install -q -U tensorflow\n",
        "# %pip install -q -U keras\n",
        "# %pip install -q -U numpy\n",
        "# %pip install -q -U pandas\n",
        "# %pip install -q -U Jinja2\n",
        "# Uso da GPU precisa ser habilitado pelo comando a seguir\n",
        "# %pip install tensorflow[and-cuda]\n",
        "%pip install -q -U tensorflow-addons\n",
        "%pip install -q -U tensorflow-datasets\n",
        "%pip install -q -U keras-utils\n",
        "%pip install -q -U matplotlib\n"
      ]
    },
    {
      "cell_type": "code",
      "execution_count": 2,
      "metadata": {
        "id": "oOBTtaKjCVkm"
      },
      "outputs": [],
      "source": [
        "import tensorflow_datasets as tfds\n",
        "import pandas as pd\n",
        "from numpy import mean\n",
        "import tensorflow as tf\n",
        "import keras\n",
        "from keras.preprocessing.image import ImageDataGenerator\n",
        "import matplotlib.pyplot as plt\n",
        "import seaborn as sns\n",
        "\n"
      ]
    },
    {
      "cell_type": "code",
      "execution_count": 3,
      "metadata": {
        "id": "CNowqre2CWz0"
      },
      "outputs": [],
      "source": [
        "# Coletando dados\n",
        "tf.keras.backend.clear_session()\n",
        "(ds_train), info = tfds.load('plant_village', split='train', with_info=True)\n",
        "N_classes_total = 38\n",
        "\n",
        "# a estrutura de uma imagem (256,256,3), representa a largura e altura em pixels,\n",
        "# e o 3 representa a quantidade de canais de cores pq é RGB"
      ]
    },
    {
      "cell_type": "code",
      "execution_count": null,
      "metadata": {
        "id": "e_D4MKxY61az"
      },
      "outputs": [],
      "source": [
        "# Visualização da Distribuição das Classes\n",
        "plt.figure(figsize=(10, 6))\n",
        "sns.countplot(x='label', data=df_train)\n",
        "plt.title('Distribuição das Labels')\n",
        "plt.xlabel('Classe')\n",
        "plt.ylabel('Número de Exemplos')\n",
        "plt.show()\n"
      ]
    },
    {
      "cell_type": "code",
      "source": [
        "# Função que será responsável por aplicar um tratamento dos dados para conversão de tipo\n",
        "def processamento(val):\n",
        "  image = val['image']\n",
        "  label = val['label']\n",
        "  # normalização das imagens convertendo para um tipo que melhor é processado e para um intervalo entre [0, 1]\n",
        "  image = tf.cast(image, tf.float32) / 255.0\n",
        "  return image, label\n",
        ""
      ],
      "metadata": {
        "id": "3tDSBzuBrUe4"
      },
      "execution_count": 4,
      "outputs": []
    },
    {
      "cell_type": "code",
      "execution_count": 5,
      "metadata": {
        "id": "FCRPJIJopU9b",
        "outputId": "03fb3aa9-c48a-4e62-dcbf-276b839ffd78",
        "colab": {
          "base_uri": "https://localhost:8080/"
        }
      },
      "outputs": [
        {
          "output_type": "execute_result",
          "data": {
            "text/plain": [
              "[{'image': array([[[171, 161, 169],\n",
              "          [158, 148, 156],\n",
              "          [153, 143, 151],\n",
              "          ...,\n",
              "          [144, 133, 137],\n",
              "          [130, 119, 123],\n",
              "          [151, 140, 144]],\n",
              "  \n",
              "         [[164, 154, 162],\n",
              "          [158, 148, 156],\n",
              "          [161, 151, 159],\n",
              "          ...,\n",
              "          [131, 120, 124],\n",
              "          [ 86,  75,  79],\n",
              "          [104,  93,  97]],\n",
              "  \n",
              "         [[150, 140, 148],\n",
              "          [155, 145, 153],\n",
              "          [161, 151, 159],\n",
              "          ...,\n",
              "          [101,  90,  94],\n",
              "          [ 90,  79,  83],\n",
              "          [124, 113, 117]],\n",
              "  \n",
              "         ...,\n",
              "  \n",
              "         [[176, 165, 169],\n",
              "          [160, 149, 153],\n",
              "          [163, 152, 156],\n",
              "          ...,\n",
              "          [158, 146, 146],\n",
              "          [137, 125, 125],\n",
              "          [112, 100, 100]],\n",
              "  \n",
              "         [[171, 160, 164],\n",
              "          [190, 179, 183],\n",
              "          [151, 140, 144],\n",
              "          ...,\n",
              "          [149, 137, 137],\n",
              "          [140, 128, 128],\n",
              "          [105,  93,  93]],\n",
              "  \n",
              "         [[142, 131, 135],\n",
              "          [182, 171, 175],\n",
              "          [173, 162, 166],\n",
              "          ...,\n",
              "          [141, 129, 129],\n",
              "          [157, 145, 145],\n",
              "          [134, 122, 122]]], dtype=uint8),\n",
              "  'image/filename': b'image (785).JPG',\n",
              "  'label': 35}]"
            ]
          },
          "metadata": {},
          "execution_count": 5
        }
      ],
      "source": [
        "# Filtrar dataframe para somente tomate\n",
        "N_classes_tomate = 11\n",
        "def dataset_fn(ds):\n",
        "  return ds.filter(lambda x: x[\"label\"] > 27)\n",
        "filtered_tomato = ds_train.apply(dataset_fn)\n",
        "list(filtered_tomato.take(1).as_numpy_iterator())\n"
      ]
    },
    {
      "cell_type": "code",
      "source": [
        "# Fazendo normalização e processamento para as de tomate\n",
        "ds_tomate = filtered_tomato.map(processamento)\n",
        "\n",
        "# Fazendo divisão da base de dados do tomate\n",
        "ds_tomate = ds_tomate.shuffle(1000).prefetch(1)\n",
        "\n",
        "# Calcular o tamanho do conjunto de validação como 25% dos dados de treinamento\n",
        "train_size = ds_tomate.cardinality().numpy()\n",
        "validation_size = train_size // 4  # 25% dos dados de treinamento\n",
        "\n",
        "# Dividindo os dados\n",
        "ds_tomate_validation = ds_tomate.take(validation_size)\n",
        "ds_tomate_train = ds_tomate.skip(validation_size)\n",
        "\n",
        "for image, label in ds_tomate_validation.take(1):\n",
        "    print(\"Imagem de treinamento após o processamento: \\n{} \\ne label {}\".format(image.shape, label))\n"
      ],
      "metadata": {
        "id": "QmQG2np6sAKA",
        "outputId": "9d5f75ad-d4f9-4742-8b91-430a77f1a75e",
        "colab": {
          "base_uri": "https://localhost:8080/"
        }
      },
      "execution_count": 11,
      "outputs": [
        {
          "output_type": "stream",
          "name": "stdout",
          "text": [
            "Imagem de treinamento após o processamento: \n",
            "(256, 256, 3) \n",
            "e label 31\n"
          ]
        }
      ]
    },
    {
      "cell_type": "code",
      "execution_count": null,
      "metadata": {
        "id": "5yxA_wy7pU9b"
      },
      "outputs": [],
      "source": [
        "# Diminuindo tamanho do dataset para melhor processamento\n",
        "\n",
        "# Embaralhando os dados para garantir que tanto a validação quanto o treinamento tenham todos os tipos de dados\n",
        "ds_train = ds_train.shuffle(buffer_size=1000, seed=42)\n",
        "filtered_dataset = ds_train.take(20000)\n",
        "list(filtered_dataset.take(1).as_numpy_iterator())\n"
      ]
    },
    {
      "cell_type": "code",
      "source": [
        "# Fazendo normalização e processamento para os dados reduzidos\n",
        "\n",
        "filtered_dataset = filtered_dataset.map(processamento)\n",
        "\n",
        "# Fazendo divisão da base de dados do tomate\n",
        "filtered_dataset = filtered_dataset.shuffle(1000).prefetch(1)\n",
        "\n",
        "# Calcular o tamanho do conjunto de validação como 25% dos dados de treinamento\n",
        "train_size = filtered_dataset.cardinality().numpy()\n",
        "validation_size = train_size // 4  # 25% dos dados de treinamento\n",
        "\n",
        "# Dividindo os dados\n",
        "filtered_dataset_validation = filtered_dataset.take(validation_size)\n",
        "filtered_dataset_train = filtered_dataset.skip(validation_size)\n",
        "for image, label in filtered_dataset_validation.take(1):\n",
        "    print(\"Shape da imagem de treinamento após o processamento:{} e label {}\".format(image, label))"
      ],
      "metadata": {
        "id": "83USTEODxZrm",
        "outputId": "74d94d6a-4d0e-4ba3-bf92-feef3a327edb",
        "colab": {
          "base_uri": "https://localhost:8080/"
        }
      },
      "execution_count": 9,
      "outputs": [
        {
          "output_type": "stream",
          "name": "stdout",
          "text": [
            "Shape da imagem de treinamento após o processamento:[[[0.5686275  0.5411765  0.6039216 ]\n",
            "  [0.5686275  0.5411765  0.6039216 ]\n",
            "  [0.5686275  0.5411765  0.6039216 ]\n",
            "  ...\n",
            "  [0.6        0.5686275  0.61960787]\n",
            "  [0.6        0.5686275  0.61960787]\n",
            "  [0.6        0.5686275  0.61960787]]\n",
            "\n",
            " [[0.5764706  0.54901963 0.6117647 ]\n",
            "  [0.57254905 0.54509807 0.60784316]\n",
            "  [0.5686275  0.5411765  0.6039216 ]\n",
            "  ...\n",
            "  [0.6039216  0.57254905 0.62352943]\n",
            "  [0.6        0.5686275  0.61960787]\n",
            "  [0.6        0.5686275  0.61960787]]\n",
            "\n",
            " [[0.5803922  0.5529412  0.6156863 ]\n",
            "  [0.5764706  0.54901963 0.6117647 ]\n",
            "  [0.57254905 0.54509807 0.60784316]\n",
            "  ...\n",
            "  [0.6117647  0.5803922  0.6313726 ]\n",
            "  [0.6039216  0.57254905 0.62352943]\n",
            "  [0.6        0.5686275  0.61960787]]\n",
            "\n",
            " ...\n",
            "\n",
            " [[0.40784314 0.38039216 0.44313726]\n",
            "  [0.4        0.37254903 0.43529412]\n",
            "  [0.4117647  0.38431373 0.44705883]\n",
            "  ...\n",
            "  [0.5058824  0.47843137 0.5411765 ]\n",
            "  [0.49803922 0.47058824 0.53333336]\n",
            "  [0.5019608  0.4745098  0.5372549 ]]\n",
            "\n",
            " [[0.39215687 0.3647059  0.42745098]\n",
            "  [0.3882353  0.36078432 0.42352942]\n",
            "  [0.4        0.37254903 0.43529412]\n",
            "  ...\n",
            "  [0.49803922 0.47058824 0.53333336]\n",
            "  [0.5254902  0.49803922 0.56078434]\n",
            "  [0.5372549  0.50980395 0.57254905]]\n",
            "\n",
            " [[0.37254903 0.34509805 0.40784314]\n",
            "  [0.36862746 0.34117648 0.40392157]\n",
            "  [0.38039216 0.3529412  0.41568628]\n",
            "  ...\n",
            "  [0.45490196 0.42745098 0.49019608]\n",
            "  [0.5176471  0.49019608 0.5529412 ]\n",
            "  [0.5294118  0.5019608  0.5647059 ]]] e label 22\n"
          ]
        }
      ]
    },
    {
      "cell_type": "code",
      "execution_count": 10,
      "metadata": {
        "colab": {
          "base_uri": "https://localhost:8080/"
        },
        "id": "cP1IfA5RCcxp",
        "outputId": "e34f4acb-e6a8-4e86-fb2c-1a7a15a7dedf"
      },
      "outputs": [
        {
          "output_type": "stream",
          "name": "stdout",
          "text": [
            "Número de exemplos de treinamento: 40728\n",
            "Número de exemplos de validação: 13575\n"
          ]
        }
      ],
      "source": [
        "# Dividir os dados de treinamento em treinamento e validação sem filtragem\n",
        "\n",
        "# Embaralhando os dados para garantir que tanto a validação quanto o treinamento tenham todos os tipos de dados\n",
        "ds_train2 = ds_train.map(processamento)\n",
        "ds_train2 = ds_train2.shuffle(buffer_size=1000, seed=42).prefetch(1)\n",
        "\n",
        "# Calcular o tamanho do conjunto de validação como 25% dos dados de treinamento\n",
        "train_size = ds_train2.cardinality().numpy()\n",
        "validation_size = train_size // 4  # 25% dos dados de treinamento\n",
        "\n",
        "# Dividindo os dados\n",
        "ds_validation = ds_train2.take(validation_size)\n",
        "ds_train2 = ds_train2.skip(validation_size)\n",
        "\n",
        "# Verificar o número de exemplos em cada conjunto de dados\n",
        "num_train_examples = ds_train2.cardinality().numpy()\n",
        "num_validation_examples = ds_validation.cardinality().numpy()\n",
        "print(\"Número de exemplos de treinamento:\", num_train_examples)\n",
        "print(\"Número de exemplos de validação:\", num_validation_examples)"
      ]
    }
  ],
  "metadata": {
    "accelerator": "GPU",
    "colab": {
      "gpuType": "T4",
      "provenance": [],
      "include_colab_link": true
    },
    "kernelspec": {
      "display_name": "Python 3",
      "language": "python",
      "name": "python3"
    },
    "language_info": {
      "codemirror_mode": {
        "name": "ipython",
        "version": 3
      },
      "file_extension": ".py",
      "mimetype": "text/x-python",
      "name": "python",
      "nbconvert_exporter": "python",
      "pygments_lexer": "ipython3",
      "version": "3.9.13"
    }
  },
  "nbformat": 4,
  "nbformat_minor": 0
}