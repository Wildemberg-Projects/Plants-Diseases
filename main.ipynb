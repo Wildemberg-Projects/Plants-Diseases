{
  "cells": [
    {
      "cell_type": "code",
      "execution_count": null,
      "metadata": {
        "colab_type": "text",
        "id": "view-in-github"
      },
      "outputs": [],
      "source": [
        "<a href=\"https://colab.research.google.com/github/Wildemberg-Projects/Plants-Diseases/blob/main/main.ipynb\" target=\"_parent\"><img src=\"https://colab.research.google.com/assets/colab-badge.svg\" alt=\"Open In Colab\"/></a>"
      ]
    },
    {
      "cell_type": "markdown",
      "metadata": {
        "id": "6t8Dg3G-TVX2"
      },
      "source": [
        "### Instalando dependências e Definição de Variáveis Importantes"
      ]
    },
    {
      "cell_type": "code",
      "execution_count": null,
      "metadata": {
        "colab": {
          "base_uri": "https://localhost:8080/",
          "height": 17
        },
        "id": "VPKBmi1GzMdw",
        "outputId": "8e65fb15-42a0-4fdb-add6-42977492611a"
      },
      "outputs": [
        {
          "data": {
            "application/javascript": "\nfunction ClickConnect(){\nconsole.log(\"Working\");\ndocument.querySelector(\"colab-toolbar-button#connect\").click()\n}\nsetInterval(ClickConnect,60000)\n",
            "text/plain": [
              "<IPython.core.display.Javascript object>"
            ]
          },
          "metadata": {},
          "output_type": "display_data"
        }
      ],
      "source": [
        "import IPython\n",
        "js_code = '''\n",
        "function ClickConnect(){\n",
        "console.log(\"Working\");\n",
        "document.querySelector(\"colab-toolbar-button#connect\").click()\n",
        "}\n",
        "setInterval(ClickConnect,60000)\n",
        "'''\n",
        "display(IPython.display.Javascript(js_code))\n"
      ]
    },
    {
      "cell_type": "code",
      "execution_count": null,
      "metadata": {
        "id": "GO0dwdyQ-M_O"
      },
      "outputs": [],
      "source": [
        "# Instalação de Dependências\n",
        "# Para utilização do Colab, modifique o '%' por '!'\n",
        "# As abaixo comentadas são somente para instalar em ambiente local\n",
        "# %pip install -q -U tensorflow\n",
        "# %pip install -q -U keras\n",
        "# %pip install -q -U numpy\n",
        "# %pip install -q -U pandas\n",
        "# %pip install -q -U Jinja2\n",
        "# Uso da GPU precisa ser habilitado pelo comando a seguir\n",
        "# %pip install tensorflow[and-cuda]\n",
        "%pip install -q -U tensorflow-addons\n",
        "%pip install -q -U tensorflow-datasets\n",
        "%pip install -q -U keras-utils\n",
        "%pip install -q -U matplotlib\n"
      ]
    },
    {
      "cell_type": "code",
      "execution_count": 62,
      "metadata": {
        "id": "oOBTtaKjCVkm"
      },
      "outputs": [],
      "source": [
        "import tensorflow_datasets as tfds\n",
        "from math import sqrt\n",
        "import pandas as pd\n",
        "from numpy import mean\n",
        "import tensorflow as tf\n",
        "from tensorflow.keras import models, layers\n",
        "from keras.optimizers.legacy import Adam\n",
        "from tensorflow.keras.metrics import BinaryAccuracy, TruePositives, TrueNegatives, FalsePositives, FalseNegatives, PrecisionAtRecall, SensitivityAtSpecificity, SpecificityAtSensitivity, Recall\n",
        "import keras\n",
        "from keras.preprocessing.image import ImageDataGenerator\n",
        "import matplotlib.pyplot as plt\n",
        "import seaborn as sns\n",
        "\n"
      ]
    },
    {
      "cell_type": "code",
      "execution_count": 2,
      "metadata": {
        "id": "tLM58miTN2bh"
      },
      "outputs": [],
      "source": [
        "IMAGE_SIZE=128\n",
        "BATCH_SIZE=8\n",
        "CHANNELS=3\n",
        "EPOCHS=30"
      ]
    },
    {
      "cell_type": "code",
      "execution_count": 3,
      "metadata": {
        "id": "YqUjl9uPX1a0"
      },
      "outputs": [],
      "source": [
        "METRICS = [keras.metrics.CategoricalAccuracy(name = 'accuracy'),\n",
        "           keras.metrics.TruePositives(thresholds = 0.50, name = 'tp'),\n",
        "           keras.metrics.TrueNegatives(thresholds = 0.50, name = 'tn'),\n",
        "           keras.metrics.FalsePositives(thresholds = 0.50, name = 'fp'),\n",
        "           keras.metrics.FalseNegatives(thresholds = 0.50, name = 'fn'),\n",
        "           keras.metrics.PrecisionAtRecall(recall = 0.50, name = 'precision'),\n",
        "           keras.metrics.SensitivityAtSpecificity(0.50, name = 'sensitivity'),\n",
        "           keras.metrics.SpecificityAtSensitivity(sensitivity = 0.50,\n",
        "                                                  name = 'specificity'),\n",
        "           keras.metrics.Recall(name='recall')]"
      ]
    },
    {
      "cell_type": "markdown",
      "metadata": {
        "id": "R2UwaA4iTDzS"
      },
      "source": [
        "### Carregando dados para utilização"
      ]
    },
    {
      "cell_type": "code",
      "execution_count": null,
      "metadata": {
        "id": "CNowqre2CWz0"
      },
      "outputs": [],
      "source": [
        "# Coletando dados\n",
        "tf.keras.backend.clear_session() # Limpar o CACHE da seção\n",
        "(ds_train), info = tfds.load('plant_village', split='train', with_info=True)\n",
        "\n",
        "# a estrutura de uma imagem (256,256,3), representa a largura e altura em pixels,\n",
        "# e o 3 representa a quantidade de canais de cores pq é RGB"
      ]
    },
    {
      "cell_type": "code",
      "execution_count": 5,
      "metadata": {
        "colab": {
          "base_uri": "https://localhost:8080/"
        },
        "id": "gWWrsZ6RIG2i",
        "outputId": "12ff0095-9e73-45a2-c4e4-4fd95fb9d787"
      },
      "outputs": [
        {
          "name": "stdout",
          "output_type": "stream",
          "text": [
            "Found 55448 files belonging to 39 classes.\n",
            "<_PrefetchDataset element_spec=(TensorSpec(shape=(None, 128, 128, 3), dtype=tf.float32, name=None), TensorSpec(shape=(None,), dtype=tf.int32, name=None))>\n"
          ]
        }
      ],
      "source": [
        "# Carregamento e pré-processamento das imagens locais no Colab.\n",
        "# Para utilização de um ambiente local, mude a rota do diretório de onde encontram-se as imagens\n",
        "ds = tf.keras.preprocessing.image_dataset_from_directory(\"/root/tensorflow_datasets/downloads/extracted/ZIP.data.mend.com_publ-file_data_tywb_file_d565-c1rDQyRTmE0CqGGXmH53WlQp0NWefMfDW89aj1A0m5D_A/Plant_leave_diseases_dataset_without_augmentation\",\n",
        "                                                         shuffle=True,\n",
        "                                                         image_size=(IMAGE_SIZE,IMAGE_SIZE),\n",
        "                                                         batch_size=BATCH_SIZE)\n",
        "print(ds)"
      ]
    },
    {
      "cell_type": "markdown",
      "metadata": {
        "id": "rKa6PYLlTJMo"
      },
      "source": [
        "### Observando os dados"
      ]
    },
    {
      "cell_type": "code",
      "execution_count": 6,
      "metadata": {
        "colab": {
          "base_uri": "https://localhost:8080/"
        },
        "id": "aGPkUDSaMm2k",
        "outputId": "f2c8c891-2e44-4f5c-e2f6-227c480ba310"
      },
      "outputs": [
        {
          "name": "stdout",
          "output_type": "stream",
          "text": [
            "['Apple___Apple_scab', 'Apple___Black_rot', 'Apple___Cedar_apple_rust', 'Apple___healthy', 'Background_without_leaves', 'Blueberry___healthy', 'Cherry___Powdery_mildew', 'Cherry___healthy', 'Corn___Cercospora_leaf_spot Gray_leaf_spot', 'Corn___Common_rust', 'Corn___Northern_Leaf_Blight', 'Corn___healthy', 'Grape___Black_rot', 'Grape___Esca_(Black_Measles)', 'Grape___Leaf_blight_(Isariopsis_Leaf_Spot)', 'Grape___healthy', 'Orange___Haunglongbing_(Citrus_greening)', 'Peach___Bacterial_spot', 'Peach___healthy', 'Pepper,_bell___Bacterial_spot', 'Pepper,_bell___healthy', 'Potato___Early_blight', 'Potato___Late_blight', 'Potato___healthy', 'Raspberry___healthy', 'Soybean___healthy', 'Squash___Powdery_mildew', 'Strawberry___Leaf_scorch', 'Strawberry___healthy', 'Tomato___Bacterial_spot', 'Tomato___Early_blight', 'Tomato___Late_blight', 'Tomato___Leaf_Mold', 'Tomato___Septoria_leaf_spot', 'Tomato___Spider_mites Two-spotted_spider_mite', 'Tomato___Target_Spot', 'Tomato___Tomato_Yellow_Leaf_Curl_Virus', 'Tomato___Tomato_mosaic_virus', 'Tomato___healthy']\n",
            "Possui 6931 lotes de 32 imagens cada.\n"
          ]
        }
      ],
      "source": [
        "# Verificação do nome das classes do dataset\n",
        "class_name = ds.class_names\n",
        "print(class_name)\n",
        "print(\"Possui {} lotes de 32 imagens cada.\".format(len(ds)))"
      ]
    },
    {
      "cell_type": "code",
      "execution_count": null,
      "metadata": {
        "colab": {
          "base_uri": "https://localhost:8080/",
          "height": 1000
        },
        "id": "oP4jO9ckJ-Xj",
        "outputId": "689b8ec6-36ea-4039-c571-63e3d3b6fa0a"
      },
      "outputs": [],
      "source": [
        "plt.figure(figsize=(10,10))\n",
        "for image, label in ds.take(1):\n",
        "  for i in range(12):\n",
        "    ax = plt.subplot(3,4, i+1)\n",
        "    # print(image[i].numpy())\n",
        "    # print(image[i].shape)\n",
        "    # print(label[i].numpy())\n",
        "    plt.title(class_name[label[i]])\n",
        "    plt.imshow(image[i].numpy().astype(\"uint8\"))\n",
        "    plt.axis(\"off\")\n"
      ]
    },
    {
      "cell_type": "code",
      "execution_count": null,
      "metadata": {
        "colab": {
          "base_uri": "https://localhost:8080/"
        },
        "id": "2HajGm0lQLSz",
        "outputId": "1f10c009-c53a-4125-df73-f9801f60a0ef"
      },
      "outputs": [
        {
          "data": {
            "text/plain": [
              "3466"
            ]
          },
          "execution_count": 10,
          "metadata": {},
          "output_type": "execute_result"
        }
      ],
      "source": [
        "# Quantidade de lotes de 8 imagens (BATCHS)\n",
        "len(ds)"
      ]
    },
    {
      "cell_type": "markdown",
      "metadata": {
        "id": "3dGT32u5TNiO"
      },
      "source": [
        "### Criando repartição de treino, validação e teste"
      ]
    },
    {
      "cell_type": "code",
      "execution_count": 8,
      "metadata": {
        "id": "FjuK3AB4Tlh5"
      },
      "outputs": [],
      "source": [
        "# Randomização dos dados\n",
        "ds = ds.shuffle(buffer_size=1000, seed=12)\n",
        "ds = ds.take(int(len(ds)/2))"
      ]
    },
    {
      "cell_type": "code",
      "execution_count": 9,
      "metadata": {
        "colab": {
          "base_uri": "https://localhost:8080/"
        },
        "id": "ySOJ723-QN9B",
        "outputId": "d8cb3bb8-2f37-4007-86c2-706fc92a5519"
      },
      "outputs": [
        {
          "name": "stdout",
          "output_type": "stream",
          "text": [
            "2772\n"
          ]
        }
      ],
      "source": [
        "# 80% ==> training\n",
        "# 20% ==> 10% validation, 10% test\n",
        "train_size = 0.8\n",
        "train_size = int(len(ds)*train_size)\n",
        "print(train_size)"
      ]
    },
    {
      "cell_type": "code",
      "execution_count": 10,
      "metadata": {
        "colab": {
          "base_uri": "https://localhost:8080/"
        },
        "id": "EJ6zChn-Q8Ak",
        "outputId": "32c6d28e-2b8d-422d-ea72-564b3ffac12a"
      },
      "outputs": [
        {
          "data": {
            "text/plain": [
              "2772"
            ]
          },
          "execution_count": 10,
          "metadata": {},
          "output_type": "execute_result"
        }
      ],
      "source": [
        "# Atribuição e verificação da quantidade de dados de treino do dataset\n",
        "train_ds = ds.take(train_size)\n",
        "len(train_ds)"
      ]
    },
    {
      "cell_type": "code",
      "execution_count": 11,
      "metadata": {
        "colab": {
          "base_uri": "https://localhost:8080/"
        },
        "id": "oFWEZS8pRZ6N",
        "outputId": "3c31308f-02bd-41d8-d1c6-97d9f1223345"
      },
      "outputs": [
        {
          "data": {
            "text/plain": [
              "347"
            ]
          },
          "execution_count": 11,
          "metadata": {},
          "output_type": "execute_result"
        }
      ],
      "source": [
        "# Separação dos 10% de validação e 10% de teste\n",
        "test_ds = ds.skip(int(train_size))\n",
        "test_size = int(len(test_ds)*0.5)\n",
        "validation_ds = test_ds.take(test_size)\n",
        "test_ds = test_ds.skip(test_size)\n",
        "len(validation_ds)\n",
        "len(test_ds)"
      ]
    },
    {
      "cell_type": "markdown",
      "metadata": {
        "id": "hGjURb6HUv7l"
      },
      "source": [
        "### Fazendo processamento dos dados"
      ]
    },
    {
      "cell_type": "code",
      "execution_count": 12,
      "metadata": {
        "id": "UTFl7_wCUyx3"
      },
      "outputs": [],
      "source": [
        "# Criando um cache das imagens (Deixa a imagem pré-pronta para uso)\n",
        "train_ds = train_ds.cache().shuffle(1000).prefetch(buffer_size=tf.data.AUTOTUNE)\n",
        "validation_ds = validation_ds.cache().shuffle(1000).prefetch(buffer_size=tf.data.AUTOTUNE)\n",
        "test_ds = test_ds.cache().shuffle(1000).prefetch(buffer_size=tf.data.AUTOTUNE)"
      ]
    },
    {
      "cell_type": "code",
      "execution_count": 13,
      "metadata": {
        "id": "RuvcLeraVg6m"
      },
      "outputs": [],
      "source": [
        "# Pré-processamento com ajuste dos dados e ajuste de tamanho\n",
        "# Será aplicado dentro da estrutura do modelo para garantir que sempre seja feito em todas as imagens\n",
        "resize_rescaling = tf.keras.Sequential([\n",
        "    layers.experimental.preprocessing.Resizing(IMAGE_SIZE, IMAGE_SIZE),\n",
        "    layers.experimental.preprocessing.Rescaling(1.0/255) # torna o valor do RGB para um intervalo [0,1]\n",
        "])"
      ]
    },
    {
      "cell_type": "code",
      "execution_count": 14,
      "metadata": {
        "id": "5mrBSnmTW6AU"
      },
      "outputs": [],
      "source": [
        "# Faz novas imagens para nossa base de dados com rotação e inversão para diversidade dos mesmos dados\n",
        "data_augmentation = tf.keras.Sequential([\n",
        "  layers.experimental.preprocessing.RandomFlip(\"horizontal_and_vertical\"),\n",
        "  layers.experimental.preprocessing.RandomRotation(0.2),\n",
        "])"
      ]
    },
    {
      "cell_type": "code",
      "execution_count": 15,
      "metadata": {
        "id": "uPrqqcesxapp"
      },
      "outputs": [],
      "source": [
        "nClasses = 39\n",
        "# Aplicando a função de geração das variações das imagens e ajuste do tamanho e escala das imagens nos conjuntos de treinamento e validação\n",
        "train_ds = train_ds.map(\n",
        "    lambda x, y: (data_augmentation(resize_rescaling(x), training=True), tf.one_hot(tf.cast(y, tf.int32), depth=nClasses))\n",
        ").prefetch(buffer_size=tf.data.AUTOTUNE)\n",
        "\n",
        "validation_ds = validation_ds.map(\n",
        "    lambda x, y: (resize_rescaling(x), tf.one_hot(tf.cast(y, tf.int32), depth=nClasses))\n",
        ").prefetch(buffer_size=tf.data.AUTOTUNE)\n",
        "\n",
        "test_ds = test_ds.map(\n",
        "    lambda x, y: (resize_rescaling(x), tf.one_hot(tf.cast(y, tf.int32), depth=nClasses))\n",
        ").prefetch(buffer_size=tf.data.AUTOTUNE)"
      ]
    },
    {
      "cell_type": "markdown",
      "metadata": {
        "id": "51BdmDhkqMAs"
      },
      "source": [
        "### Modelo V1"
      ]
    },
    {
      "cell_type": "code",
      "execution_count": null,
      "metadata": {
        "colab": {
          "base_uri": "https://localhost:8080/"
        },
        "id": "lOnw1zZRqPqU",
        "outputId": "cc70c043-46a2-4347-e4bf-02e43bbf026d"
      },
      "outputs": [
        {
          "name": "stdout",
          "output_type": "stream",
          "text": [
            "Model: \"sequential_2\"\n",
            "_________________________________________________________________\n",
            " Layer (type)                Output Shape              Param #   \n",
            "=================================================================\n",
            " conv2d (Conv2D)             (None, 126, 126, 64)      1792      \n",
            "                                                                 \n",
            " batch_normalization (Batch  (None, 126, 126, 64)      256       \n",
            " Normalization)                                                  \n",
            "                                                                 \n",
            " max_pooling2d (MaxPooling2  (None, 63, 63, 64)        0         \n",
            " D)                                                              \n",
            "                                                                 \n",
            " conv2d_1 (Conv2D)           (None, 61, 61, 256)       147712    \n",
            "                                                                 \n",
            " conv2d_2 (Conv2D)           (None, 59, 59, 256)       590080    \n",
            "                                                                 \n",
            " batch_normalization_1 (Bat  (None, 59, 59, 256)       1024      \n",
            " chNormalization)                                                \n",
            "                                                                 \n",
            " max_pooling2d_1 (MaxPoolin  (None, 29, 29, 256)       0         \n",
            " g2D)                                                            \n",
            "                                                                 \n",
            " flatten (Flatten)           (None, 215296)            0         \n",
            "                                                                 \n",
            " dense (Dense)               (None, 256)               55116032  \n",
            "                                                                 \n",
            " dropout (Dropout)           (None, 256)               0         \n",
            "                                                                 \n",
            " dense_1 (Dense)             (None, 256)               65792     \n",
            "                                                                 \n",
            " dropout_1 (Dropout)         (None, 256)               0         \n",
            "                                                                 \n",
            " dense_2 (Dense)             (None, 128)               32896     \n",
            "                                                                 \n",
            " dense_3 (Dense)             (None, 39)                5031      \n",
            "                                                                 \n",
            "=================================================================\n",
            "Total params: 55960615 (213.47 MB)\n",
            "Trainable params: 55959975 (213.47 MB)\n",
            "Non-trainable params: 640 (2.50 KB)\n",
            "_________________________________________________________________\n"
          ]
        }
      ],
      "source": [
        "inputShape = (IMAGE_SIZE, IMAGE_SIZE, CHANNELS)\n",
        "\n",
        "# Definição da arquitetura do modelo\n",
        "model = models.Sequential()\n",
        "\n",
        "model.add(layers.Conv2D(filters = 64,\n",
        "                 kernel_size = (3, 3),\n",
        "                 input_shape = inputShape,\n",
        "                 activation = 'relu'))\n",
        "\n",
        "model.add(layers.BatchNormalization()) # Polimento dos dados usando normalização\n",
        "\n",
        "model.add(layers.MaxPooling2D(pool_size = (2, 2))) # reduz a dimensão dos mapas de características\n",
        "\n",
        "model.add(layers.Conv2D(filters = 256,\n",
        "                 kernel_size = (3, 3),\n",
        "                 activation = 'relu'))\n",
        "\n",
        "model.add(layers.Conv2D(filters = 256,\n",
        "                 kernel_size = (3, 3),\n",
        "                 activation = 'relu'))\n",
        "\n",
        "model.add(layers.BatchNormalization())\n",
        "\n",
        "model.add(layers.MaxPooling2D(pool_size = (2, 2)))\n",
        "# Fim da alimentação do modelo e extração de características\n",
        "\n",
        "# Ínicio do treinamento do modelo\n",
        "model.add(layers.Flatten()) #achatamento para a próxima camada para encontrar os melhores pesos\n",
        "\n",
        "model.add(layers.Dense(units = 256,\n",
        "                activation = 'relu'))\n",
        "\n",
        "model.add(layers.Dropout(0.2))\n",
        "\n",
        "model.add(layers.Dense(units = 256,\n",
        "                activation = 'relu'))\n",
        "\n",
        "model.add(layers.Dropout(0.2))\n",
        "\n",
        "model.add(layers.Dense(units = 128,\n",
        "                activation = 'relu'))\n",
        "\n",
        "model.add(layers.Dense(units = nClasses,\n",
        "                activation = 'softmax'))\n",
        "\n",
        "model.summary()"
      ]
    },
    {
      "cell_type": "markdown",
      "metadata": {
        "id": "X80RnL7v5DVd"
      },
      "source": [
        "### Modelo V2"
      ]
    },
    {
      "cell_type": "code",
      "execution_count": 39,
      "metadata": {
        "id": "liq5Qzs3AMTW"
      },
      "outputs": [],
      "source": [
        "import tensorflow_hub as hub"
      ]
    },
    {
      "cell_type": "code",
      "execution_count": 55,
      "metadata": {
        "id": "vBewn7LeAD0W"
      },
      "outputs": [],
      "source": [
        "module_selection = (\"inception_v3\", 128, 2048) #@param [\"(\\\"mobilenet_v2\\\", 128, 1280)\", \"(\\\"inception_v3\\\", 128, 2048)\"] {type:\"raw\", allow-input: true}\n",
        "handle_base, pixels, FV_SIZE = module_selection\n",
        "MODULE_HANDLE =\"https://tfhub.dev/google/tf2-preview/{}/feature_vector/2\".format(handle_base)\n",
        "IMAGE_SIZE = (pixels, pixels)"
      ]
    },
    {
      "cell_type": "code",
      "execution_count": 56,
      "metadata": {
        "id": "q3XjFoLH5G8r"
      },
      "outputs": [],
      "source": [
        "feature_extractor = hub.KerasLayer(MODULE_HANDLE,\n",
        "                                   input_shape=IMAGE_SIZE+(3,),\n",
        "                                   output_shape=[FV_SIZE])\n",
        "do_fine_tuning = False #@param {type:\"boolean\"}\n",
        "if do_fine_tuning:\n",
        "  feature_extractor.trainable = True\n",
        "  # unfreeze some layers of base network for fine-tuning\n",
        "  for layer in feature_extractor.layers[-30:]:\n",
        "      layer.trainable =True\n",
        "\n",
        "else:\n",
        "  feature_extractor.trainable = False\n",
        "\n",
        "model = tf.keras.Sequential([\n",
        "    feature_extractor,\n",
        "    tf.keras.layers.Flatten(),\n",
        "    tf.keras.layers.Dense(512, activation='relu'),\n",
        "    tf.keras.layers.Dropout(rate=0.2),\n",
        "    tf.keras.layers.Dense(len(class_name), activation='softmax',\n",
        "                           kernel_regularizer=tf.keras.regularizers.l2(0.0001))\n",
        "])"
      ]
    },
    {
      "cell_type": "code",
      "execution_count": null,
      "metadata": {
        "id": "R4Bu6mmlBFTf"
      },
      "outputs": [],
      "source": []
    },
    {
      "cell_type": "markdown",
      "metadata": {
        "id": "SH6Lfmz9rM0e"
      },
      "source": [
        "### Treinando o modelo"
      ]
    },
    {
      "cell_type": "code",
      "execution_count": 57,
      "metadata": {
        "id": "bxL3ixLTrPcu"
      },
      "outputs": [],
      "source": [
        "optimizer = Adam(learning_rate=0.001, beta_1=0.9, beta_2=0.999, epsilon=0.1, decay=0.0)\n",
        "\n",
        "# Compilação do Modelo\n",
        "model.compile(loss = keras.losses.categorical_crossentropy,\n",
        "              optimizer = optimizer,\n",
        "              metrics = METRICS)"
      ]
    },
    {
      "cell_type": "code",
      "execution_count": 27,
      "metadata": {
        "id": "ezh_YuxzrYui"
      },
      "outputs": [],
      "source": [
        "# Criando um monitoramento da acurácia\n",
        "learning_rate = keras.callbacks.ReduceLROnPlateau(monitor = 'accuracy',\n",
        "                                  factor = 0.2, # a taxa de aprendizado será multiplicada por 0.2 sempre que as condições forem satisfeitas\n",
        "                                  patience = 1, # limite de épocas que a taxa de acurácio pode não melhorar, caso ultrapasse, a taxa de aprendizado é reduzida\n",
        "                                  min_lr = 0.000001, # Limite da taxa de aprendizado, ela não irá diminuir mais que isso\n",
        "                                  verbose = 1) # usado para imprimir a mensagem que a taxa foi modificada\n"
      ]
    },
    {
      "cell_type": "code",
      "execution_count": 52,
      "metadata": {
        "id": "CnHC3ISU4UHi"
      },
      "outputs": [],
      "source": [
        "tf.keras.backend.clear_session()"
      ]
    },
    {
      "cell_type": "code",
      "execution_count": 58,
      "metadata": {
        "id": "unsplJ5KtN2b"
      },
      "outputs": [
        {
          "name": "stdout",
          "output_type": "stream",
          "text": [
            "Epoch 1/30\n",
            "2772/2772 [==============================] - 142s 43ms/step - loss: 1.3846 - accuracy: 0.6121 - tp: 11041.0000 - tn: 839831.0000 - fp: 2857.0000 - fn: 11135.0000 - precision: 0.7912 - sensitivity: 0.9670 - specificity: 0.9965 - recall: 0.4979 - val_loss: 0.9025 - val_accuracy: 0.7050 - val_tp: 127.0000 - val_tn: 7581.0000 - val_fp: 19.0000 - val_fn: 73.0000 - val_precision: 0.9524 - val_sensitivity: 0.9950 - val_specificity: 0.9993 - val_recall: 0.6350 - lr: 0.0020\n",
            "Epoch 2/30\n",
            "2772/2772 [==============================] - 64s 23ms/step - loss: 0.9064 - accuracy: 0.7249 - tp: 14422.0000 - tn: 839623.0000 - fp: 3065.0000 - fn: 7754.0000 - precision: 0.9237 - sensitivity: 0.9820 - specificity: 0.9989 - recall: 0.6503 - val_loss: 0.7397 - val_accuracy: 0.8000 - val_tp: 144.0000 - val_tn: 7581.0000 - val_fp: 19.0000 - val_fn: 56.0000 - val_precision: 0.9735 - val_sensitivity: 0.9900 - val_specificity: 0.9996 - val_recall: 0.7200 - lr: 0.0020\n",
            "Epoch 3/30\n",
            "2772/2772 [==============================] - 61s 22ms/step - loss: 0.7945 - accuracy: 0.7538 - tp: 15301.0000 - tn: 839703.0000 - fp: 2985.0000 - fn: 6875.0000 - precision: 0.9499 - sensitivity: 0.9850 - specificity: 0.9993 - recall: 0.6900 - val_loss: 0.7701 - val_accuracy: 0.7700 - val_tp: 140.0000 - val_tn: 7576.0000 - val_fp: 24.0000 - val_fn: 60.0000 - val_precision: 0.9709 - val_sensitivity: 0.9800 - val_specificity: 0.9996 - val_recall: 0.7000 - lr: 0.0020\n",
            "Epoch 4/30\n",
            "2772/2772 [==============================] - 61s 22ms/step - loss: 0.7458 - accuracy: 0.7734 - tp: 15869.0000 - tn: 839793.0000 - fp: 2895.0000 - fn: 6307.0000 - precision: 0.9600 - sensitivity: 0.9846 - specificity: 0.9994 - recall: 0.7156 - val_loss: 0.6722 - val_accuracy: 0.7800 - val_tp: 150.0000 - val_tn: 7576.0000 - val_fp: 24.0000 - val_fn: 50.0000 - val_precision: 0.9839 - val_sensitivity: 0.9800 - val_specificity: 0.9997 - val_recall: 0.7500 - lr: 0.0020\n",
            "Epoch 5/30\n",
            "2772/2772 [==============================] - 62s 23ms/step - loss: 0.6920 - accuracy: 0.7849 - tp: 16236.0000 - tn: 839880.0000 - fp: 2808.0000 - fn: 5940.0000 - precision: 0.9714 - sensitivity: 0.9865 - specificity: 0.9996 - recall: 0.7321 - val_loss: 0.7239 - val_accuracy: 0.7700 - val_tp: 144.0000 - val_tn: 7568.0000 - val_fp: 32.0000 - val_fn: 56.0000 - val_precision: 0.9901 - val_sensitivity: 0.9900 - val_specificity: 0.9999 - val_recall: 0.7200 - lr: 0.0020\n",
            "Epoch 6/30\n",
            "2772/2772 [==============================] - 60s 22ms/step - loss: 0.6706 - accuracy: 0.7935 - tp: 16483.0000 - tn: 839926.0000 - fp: 2762.0000 - fn: 5693.0000 - precision: 0.9699 - sensitivity: 0.9857 - specificity: 0.9996 - recall: 0.7433 - val_loss: 0.6587 - val_accuracy: 0.7750 - val_tp: 147.0000 - val_tn: 7569.0000 - val_fp: 31.0000 - val_fn: 53.0000 - val_precision: 0.9808 - val_sensitivity: 0.9800 - val_specificity: 0.9997 - val_recall: 0.7350 - lr: 0.0020\n",
            "Epoch 7/30\n",
            "2772/2772 [==============================] - 63s 23ms/step - loss: 0.6602 - accuracy: 0.7959 - tp: 16606.0000 - tn: 839966.0000 - fp: 2722.0000 - fn: 5570.0000 - precision: 0.9746 - sensitivity: 0.9862 - specificity: 0.9997 - recall: 0.7488 - val_loss: 0.7049 - val_accuracy: 0.8150 - val_tp: 150.0000 - val_tn: 7578.0000 - val_fp: 22.0000 - val_fn: 50.0000 - val_precision: 0.9806 - val_sensitivity: 0.9800 - val_specificity: 0.9997 - val_recall: 0.7500 - lr: 0.0020\n",
            "Epoch 8/30\n",
            "2772/2772 [==============================] - 61s 22ms/step - loss: 0.6277 - accuracy: 0.8073 - tp: 16872.0000 - tn: 840100.0000 - fp: 2588.0000 - fn: 5304.0000 - precision: 0.9756 - sensitivity: 0.9883 - specificity: 0.9997 - recall: 0.7608 - val_loss: 0.7389 - val_accuracy: 0.7750 - val_tp: 147.0000 - val_tn: 7568.0000 - val_fp: 32.0000 - val_fn: 53.0000 - val_precision: 0.9541 - val_sensitivity: 0.9800 - val_specificity: 0.9993 - val_recall: 0.7350 - lr: 0.0020\n",
            "Epoch 9/30\n",
            "2772/2772 [==============================] - ETA: 0s - loss: 0.6277 - accuracy: 0.8043 - tp: 16853.0000 - tn: 839994.0000 - fp: 2694.0000 - fn: 5323.0000 - precision: 0.9777 - sensitivity: 0.9877 - specificity: 0.9997 - recall: 0.7600\n",
            "Epoch 9: ReduceLROnPlateau reducing learning rate to 0.0004000000189989805.\n",
            "2772/2772 [==============================] - 62s 22ms/step - loss: 0.6277 - accuracy: 0.8043 - tp: 16853.0000 - tn: 839994.0000 - fp: 2694.0000 - fn: 5323.0000 - precision: 0.9777 - sensitivity: 0.9877 - specificity: 0.9997 - recall: 0.7600 - val_loss: 0.5123 - val_accuracy: 0.8350 - val_tp: 161.0000 - val_tn: 7579.0000 - val_fp: 21.0000 - val_fn: 39.0000 - val_precision: 0.9908 - val_sensitivity: 0.9900 - val_specificity: 0.9999 - val_recall: 0.8050 - lr: 0.0020\n",
            "Epoch 10/30\n",
            "2772/2772 [==============================] - 62s 22ms/step - loss: 0.5149 - accuracy: 0.8365 - tp: 17651.0000 - tn: 840443.0000 - fp: 2245.0000 - fn: 4525.0000 - precision: 0.9875 - sensitivity: 0.9910 - specificity: 0.9998 - recall: 0.7960 - val_loss: 0.3168 - val_accuracy: 0.8900 - val_tp: 176.0000 - val_tn: 7586.0000 - val_fp: 14.0000 - val_fn: 24.0000 - val_precision: 0.9917 - val_sensitivity: 1.0000 - val_specificity: 0.9999 - val_recall: 0.8800 - lr: 4.0000e-04\n",
            "Epoch 11/30\n",
            "2772/2772 [==============================] - 65s 23ms/step - loss: 0.5004 - accuracy: 0.8419 - tp: 17847.0000 - tn: 840523.0000 - fp: 2165.0000 - fn: 4329.0000 - precision: 0.9910 - sensitivity: 0.9922 - specificity: 0.9999 - recall: 0.8048 - val_loss: 0.3730 - val_accuracy: 0.8800 - val_tp: 170.0000 - val_tn: 7587.0000 - val_fp: 13.0000 - val_fn: 30.0000 - val_precision: 1.0000 - val_sensitivity: 0.9950 - val_specificity: 1.0000 - val_recall: 0.8500 - lr: 4.0000e-04\n",
            "Epoch 12/30\n",
            "2772/2772 [==============================] - 66s 24ms/step - loss: 0.4788 - accuracy: 0.8482 - tp: 17964.0000 - tn: 840568.0000 - fp: 2120.0000 - fn: 4212.0000 - precision: 0.9905 - sensitivity: 0.9924 - specificity: 0.9999 - recall: 0.8101 - val_loss: 0.3765 - val_accuracy: 0.8700 - val_tp: 170.0000 - val_tn: 7582.0000 - val_fp: 18.0000 - val_fn: 30.0000 - val_precision: 1.0000 - val_sensitivity: 1.0000 - val_specificity: 1.0000 - val_recall: 0.8500 - lr: 4.0000e-04\n",
            "Epoch 13/30\n",
            "2772/2772 [==============================] - 64s 23ms/step - loss: 0.4698 - accuracy: 0.8516 - tp: 18069.0000 - tn: 840574.0000 - fp: 2114.0000 - fn: 4107.0000 - precision: 0.9917 - sensitivity: 0.9925 - specificity: 0.9999 - recall: 0.8148 - val_loss: 0.4610 - val_accuracy: 0.8600 - val_tp: 164.0000 - val_tn: 7583.0000 - val_fp: 17.0000 - val_fn: 36.0000 - val_precision: 1.0000 - val_sensitivity: 0.9900 - val_specificity: 1.0000 - val_recall: 0.8200 - lr: 4.0000e-04\n",
            "Epoch 14/30\n",
            "2772/2772 [==============================] - 64s 23ms/step - loss: 0.4574 - accuracy: 0.8549 - tp: 18138.0000 - tn: 840615.0000 - fp: 2073.0000 - fn: 4038.0000 - precision: 0.9921 - sensitivity: 0.9929 - specificity: 0.9999 - recall: 0.8179 - val_loss: 0.3279 - val_accuracy: 0.8900 - val_tp: 171.0000 - val_tn: 7583.0000 - val_fp: 17.0000 - val_fn: 29.0000 - val_precision: 1.0000 - val_sensitivity: 1.0000 - val_specificity: 1.0000 - val_recall: 0.8550 - lr: 4.0000e-04\n",
            "Epoch 15/30\n",
            "2771/2772 [============================>.] - ETA: 0s - loss: 0.4581 - accuracy: 0.8525 - tp: 18090.0000 - tn: 840322.0000 - fp: 2062.0000 - fn: 4078.0000 - precision: 0.9929 - sensitivity: 0.9930 - specificity: 0.9999 - recall: 0.8160\n",
            "Epoch 15: ReduceLROnPlateau reducing learning rate to 8.000000379979611e-05.\n",
            "2772/2772 [==============================] - 62s 22ms/step - loss: 0.4581 - accuracy: 0.8525 - tp: 18097.0000 - tn: 840625.0000 - fp: 2063.0000 - fn: 4079.0000 - precision: 0.9929 - sensitivity: 0.9930 - specificity: 0.9999 - recall: 0.8161 - val_loss: 0.3385 - val_accuracy: 0.9000 - val_tp: 176.0000 - val_tn: 7587.0000 - val_fp: 13.0000 - val_fn: 24.0000 - val_precision: 0.9919 - val_sensitivity: 0.9900 - val_specificity: 0.9999 - val_recall: 0.8800 - lr: 4.0000e-04\n",
            "Epoch 16/30\n",
            "2772/2772 [==============================] - 63s 23ms/step - loss: 0.4366 - accuracy: 0.8583 - tp: 18286.0000 - tn: 840712.0000 - fp: 1976.0000 - fn: 3890.0000 - precision: 0.9933 - sensitivity: 0.9939 - specificity: 0.9999 - recall: 0.8246 - val_loss: 0.4080 - val_accuracy: 0.8600 - val_tp: 162.0000 - val_tn: 7581.0000 - val_fp: 19.0000 - val_fn: 38.0000 - val_precision: 0.9915 - val_sensitivity: 0.9950 - val_specificity: 0.9999 - val_recall: 0.8100 - lr: 8.0000e-05\n",
            "Epoch 17/30\n",
            "2772/2772 [==============================] - 62s 23ms/step - loss: 0.4283 - accuracy: 0.8637 - tp: 18348.0000 - tn: 840793.0000 - fp: 1895.0000 - fn: 3828.0000 - precision: 0.9931 - sensitivity: 0.9943 - specificity: 0.9999 - recall: 0.8274 - val_loss: 0.4952 - val_accuracy: 0.8450 - val_tp: 163.0000 - val_tn: 7582.0000 - val_fp: 18.0000 - val_fn: 37.0000 - val_precision: 1.0000 - val_sensitivity: 0.9900 - val_specificity: 1.0000 - val_recall: 0.8150 - lr: 8.0000e-05\n",
            "Epoch 18/30\n",
            "2772/2772 [==============================] - ETA: 0s - loss: 0.4296 - accuracy: 0.8614 - tp: 18314.0000 - tn: 840782.0000 - fp: 1906.0000 - fn: 3862.0000 - precision: 0.9940 - sensitivity: 0.9939 - specificity: 0.9999 - recall: 0.8258\n",
            "Epoch 18: ReduceLROnPlateau reducing learning rate to 1.6000001050997525e-05.\n",
            "2772/2772 [==============================] - 65s 23ms/step - loss: 0.4296 - accuracy: 0.8614 - tp: 18314.0000 - tn: 840782.0000 - fp: 1906.0000 - fn: 3862.0000 - precision: 0.9940 - sensitivity: 0.9939 - specificity: 0.9999 - recall: 0.8258 - val_loss: 0.3922 - val_accuracy: 0.8850 - val_tp: 167.0000 - val_tn: 7585.0000 - val_fp: 15.0000 - val_fn: 33.0000 - val_precision: 1.0000 - val_sensitivity: 0.9950 - val_specificity: 1.0000 - val_recall: 0.8350 - lr: 8.0000e-05\n",
            "Epoch 19/30\n",
            "2772/2772 [==============================] - 60s 22ms/step - loss: 0.4143 - accuracy: 0.8672 - tp: 18478.0000 - tn: 840844.0000 - fp: 1844.0000 - fn: 3698.0000 - precision: 0.9945 - sensitivity: 0.9949 - specificity: 0.9999 - recall: 0.8332 - val_loss: 0.3110 - val_accuracy: 0.8950 - val_tp: 176.0000 - val_tn: 7581.0000 - val_fp: 19.0000 - val_fn: 24.0000 - val_precision: 1.0000 - val_sensitivity: 0.9950 - val_specificity: 1.0000 - val_recall: 0.8800 - lr: 1.6000e-05\n",
            "Epoch 20/30\n",
            "2772/2772 [==============================] - ETA: 0s - loss: 0.4239 - accuracy: 0.8633 - tp: 18352.0000 - tn: 840772.0000 - fp: 1916.0000 - fn: 3824.0000 - precision: 0.9942 - sensitivity: 0.9944 - specificity: 0.9999 - recall: 0.8276\n",
            "Epoch 20: ReduceLROnPlateau reducing learning rate to 3.2000003557186575e-06.\n",
            "2772/2772 [==============================] - 63s 23ms/step - loss: 0.4239 - accuracy: 0.8633 - tp: 18352.0000 - tn: 840772.0000 - fp: 1916.0000 - fn: 3824.0000 - precision: 0.9942 - sensitivity: 0.9944 - specificity: 0.9999 - recall: 0.8276 - val_loss: 0.3605 - val_accuracy: 0.8700 - val_tp: 169.0000 - val_tn: 7581.0000 - val_fp: 19.0000 - val_fn: 31.0000 - val_precision: 0.9917 - val_sensitivity: 1.0000 - val_specificity: 0.9999 - val_recall: 0.8450 - lr: 1.6000e-05\n",
            "Epoch 21/30\n",
            "2771/2772 [============================>.] - ETA: 0s - loss: 0.4232 - accuracy: 0.8650 - tp: 18426.0000 - tn: 840497.0000 - fp: 1887.0000 - fn: 3742.0000 - precision: 0.9947 - sensitivity: 0.9939 - specificity: 0.9999 - recall: 0.8312\n",
            "Epoch 21: ReduceLROnPlateau reducing learning rate to 1e-06.\n",
            "2772/2772 [==============================] - 62s 22ms/step - loss: 0.4232 - accuracy: 0.8650 - tp: 18432.0000 - tn: 840800.0000 - fp: 1888.0000 - fn: 3744.0000 - precision: 0.9947 - sensitivity: 0.9939 - specificity: 0.9999 - recall: 0.8312 - val_loss: 0.3065 - val_accuracy: 0.8750 - val_tp: 170.0000 - val_tn: 7584.0000 - val_fp: 16.0000 - val_fn: 30.0000 - val_precision: 1.0000 - val_sensitivity: 1.0000 - val_specificity: 1.0000 - val_recall: 0.8500 - lr: 3.2000e-06\n",
            "Epoch 22/30\n",
            "2772/2772 [==============================] - 63s 23ms/step - loss: 0.4241 - accuracy: 0.8632 - tp: 18413.0000 - tn: 840754.0000 - fp: 1934.0000 - fn: 3763.0000 - precision: 0.9932 - sensitivity: 0.9945 - specificity: 0.9999 - recall: 0.8303 - val_loss: 0.3030 - val_accuracy: 0.9050 - val_tp: 178.0000 - val_tn: 7585.0000 - val_fp: 15.0000 - val_fn: 22.0000 - val_precision: 1.0000 - val_sensitivity: 1.0000 - val_specificity: 1.0000 - val_recall: 0.8900 - lr: 1.0000e-06\n",
            "Epoch 23/30\n",
            "2772/2772 [==============================] - 62s 22ms/step - loss: 0.4195 - accuracy: 0.8669 - tp: 18488.0000 - tn: 840820.0000 - fp: 1868.0000 - fn: 3688.0000 - precision: 0.9944 - sensitivity: 0.9945 - specificity: 0.9999 - recall: 0.8337 - val_loss: 0.3051 - val_accuracy: 0.9150 - val_tp: 178.0000 - val_tn: 7590.0000 - val_fp: 10.0000 - val_fn: 22.0000 - val_precision: 1.0000 - val_sensitivity: 1.0000 - val_specificity: 1.0000 - val_recall: 0.8900 - lr: 1.0000e-06\n",
            "Epoch 24/30\n",
            "2772/2772 [==============================] - 63s 23ms/step - loss: 0.4149 - accuracy: 0.8672 - tp: 18468.0000 - tn: 840821.0000 - fp: 1867.0000 - fn: 3708.0000 - precision: 0.9947 - sensitivity: 0.9946 - specificity: 0.9999 - recall: 0.8328 - val_loss: 0.4268 - val_accuracy: 0.8700 - val_tp: 169.0000 - val_tn: 7583.0000 - val_fp: 17.0000 - val_fn: 31.0000 - val_precision: 1.0000 - val_sensitivity: 0.9950 - val_specificity: 1.0000 - val_recall: 0.8450 - lr: 1.0000e-06\n",
            "Epoch 25/30\n",
            "2772/2772 [==============================] - 62s 22ms/step - loss: 0.4157 - accuracy: 0.8670 - tp: 18448.0000 - tn: 840805.0000 - fp: 1883.0000 - fn: 3728.0000 - precision: 0.9960 - sensitivity: 0.9950 - specificity: 0.9999 - recall: 0.8319 - val_loss: 0.3537 - val_accuracy: 0.9150 - val_tp: 175.0000 - val_tn: 7591.0000 - val_fp: 9.0000 - val_fn: 25.0000 - val_precision: 0.9911 - val_sensitivity: 1.0000 - val_specificity: 0.9999 - val_recall: 0.8750 - lr: 1.0000e-06\n",
            "Epoch 26/30\n",
            "2772/2772 [==============================] - 63s 23ms/step - loss: 0.4202 - accuracy: 0.8641 - tp: 18417.0000 - tn: 840817.0000 - fp: 1871.0000 - fn: 3759.0000 - precision: 0.9945 - sensitivity: 0.9942 - specificity: 0.9999 - recall: 0.8305 - val_loss: 0.3725 - val_accuracy: 0.8600 - val_tp: 169.0000 - val_tn: 7585.0000 - val_fp: 15.0000 - val_fn: 31.0000 - val_precision: 0.9933 - val_sensitivity: 0.9950 - val_specificity: 0.9999 - val_recall: 0.8450 - lr: 1.0000e-06\n",
            "Epoch 27/30\n",
            "2772/2772 [==============================] - 62s 22ms/step - loss: 0.4231 - accuracy: 0.8659 - tp: 18432.0000 - tn: 840814.0000 - fp: 1874.0000 - fn: 3744.0000 - precision: 0.9931 - sensitivity: 0.9940 - specificity: 0.9999 - recall: 0.8312 - val_loss: 0.4086 - val_accuracy: 0.9000 - val_tp: 172.0000 - val_tn: 7586.0000 - val_fp: 14.0000 - val_fn: 28.0000 - val_precision: 1.0000 - val_sensitivity: 0.9850 - val_specificity: 1.0000 - val_recall: 0.8600 - lr: 1.0000e-06\n",
            "Epoch 28/30\n",
            "2772/2772 [==============================] - 60s 22ms/step - loss: 0.4202 - accuracy: 0.8652 - tp: 18427.0000 - tn: 840787.0000 - fp: 1901.0000 - fn: 3749.0000 - precision: 0.9954 - sensitivity: 0.9944 - specificity: 0.9999 - recall: 0.8309 - val_loss: 0.4379 - val_accuracy: 0.8650 - val_tp: 168.0000 - val_tn: 7578.0000 - val_fp: 22.0000 - val_fn: 32.0000 - val_precision: 1.0000 - val_sensitivity: 0.9900 - val_specificity: 1.0000 - val_recall: 0.8400 - lr: 1.0000e-06\n",
            "Epoch 29/30\n",
            "2772/2772 [==============================] - 62s 22ms/step - loss: 0.4194 - accuracy: 0.8637 - tp: 18395.0000 - tn: 840779.0000 - fp: 1909.0000 - fn: 3781.0000 - precision: 0.9956 - sensitivity: 0.9947 - specificity: 0.9999 - recall: 0.8295 - val_loss: 0.4385 - val_accuracy: 0.8850 - val_tp: 167.0000 - val_tn: 7580.0000 - val_fp: 20.0000 - val_fn: 33.0000 - val_precision: 1.0000 - val_sensitivity: 1.0000 - val_specificity: 1.0000 - val_recall: 0.8350 - lr: 1.0000e-06\n",
            "Epoch 30/30\n",
            "2772/2772 [==============================] - 64s 23ms/step - loss: 0.4244 - accuracy: 0.8663 - tp: 18395.0000 - tn: 840782.0000 - fp: 1906.0000 - fn: 3781.0000 - precision: 0.9944 - sensitivity: 0.9945 - specificity: 0.9999 - recall: 0.8295 - val_loss: 0.3310 - val_accuracy: 0.8800 - val_tp: 168.0000 - val_tn: 7587.0000 - val_fp: 13.0000 - val_fn: 32.0000 - val_precision: 1.0000 - val_sensitivity: 1.0000 - val_specificity: 1.0000 - val_recall: 0.8400 - lr: 1.0000e-06\n",
            "CPU times: user 47min 26s, sys: 1min 30s, total: 48min 56s\n",
            "Wall time: 37min 46s\n"
          ]
        }
      ],
      "source": [
        "%%time\n",
        "\n",
        "hist = model.fit(train_ds,\n",
        "                 epochs = EPOCHS,\n",
        "                 batch_size=BATCH_SIZE,\n",
        "                 validation_data = validation_ds,\n",
        "                 validation_steps = 25,\n",
        "                 callbacks = [learning_rate],\n",
        "                 verbose = 1)"
      ]
    },
    {
      "cell_type": "code",
      "execution_count": 59,
      "metadata": {
        "id": "aaOzzoLJj9ss"
      },
      "outputs": [],
      "source": [
        "# Salvando arquitetura do modelo\n",
        "model.save('modelos/v1.keras', overwrite=True)\n",
        "# Salvando os pesos do modelo\n",
        "model.save_weights('modelos/v1.weights.h5', overwrite=True)"
      ]
    },
    {
      "cell_type": "markdown",
      "metadata": {
        "id": "ktlX0IcF3pQe"
      },
      "source": [
        "### Métricas"
      ]
    },
    {
      "cell_type": "code",
      "execution_count": 63,
      "metadata": {
        "id": "KyJmbtEr2891"
      },
      "outputs": [],
      "source": [
        "# Métricas retornadas durante o treinamento\n",
        "acc = hist.history['accuracy']\n",
        "loss =  hist.history['loss']\n",
        "fp = hist.history['fp']\n",
        "fpv = hist.history['val_fp']\n",
        "fn = hist.history['fn']\n",
        "fnv = hist.history['val_fn']\n",
        "tp = hist.history['tp']\n",
        "tpv = hist.history['val_tp']\n",
        "tn = hist.history['tn']\n",
        "tnv = hist.history['val_tn']\n",
        "pre = hist.history['precision']\n",
        "rec = hist.history['recall']\n",
        "lr = hist.history['lr']\n",
        "# Métricas retornadas pela última época de processamento\n",
        "# fb = hist.history['FBetaScore'][-1]\n",
        "FP = hist.history['fp'][-1]\n",
        "FN = hist.history['fn'][-1]\n",
        "TP = hist.history['tp'][-1]\n",
        "TN = hist.history['tn'][-1]\n",
        "LOSS = hist.history['loss'][-1]\n",
        "LOSSV = hist.history['val_loss'][-1]\n",
        "ACC = hist.history['accuracy'][-1]\n",
        "ACCV = hist.history['val_accuracy'][-1]\n",
        "PRE = hist.history['precision'][-1]\n",
        "PREV = hist.history['val_precision'][-1]\n",
        "REC = hist.history['recall'][-1]\n",
        "RECV = hist.history['val_recall'][-1]\n",
        "LR = hist.history['lr'][-1]\n",
        "# Média das métricas retornadas nas últimas 10 épocas de processameto\n",
        "accU10 = mean(acc[-10])\n",
        "tpU10 = mean(tp[-10])\n",
        "fpU10 = mean(fp[-10])\n",
        "tnU10 = mean(tn[-10])\n",
        "fnU10 = mean(fn[-10])\n",
        "# Métricas calculadas como média para todas as épocas de processamento\n",
        "acc_media_total = round(mean(acc[:-1]),2)\n",
        "media_tp_total = round(mean(tp[:-1]),2)\n",
        "media_fp_total = round(mean(fp[:-1]),2)\n",
        "media_tn_total = round(mean(tn[:-1]),2)\n",
        "media_fn_total = round(mean(fn[:-1]),2)\n",
        "# Métricas processadas após o final do treinamento\n",
        "TPR = TP /(TP + FN) # Sensitivity, hit rate, recall, or true positive rate\n",
        "TNR = TN /(TN + FP) # Specificity or true negative rate\n",
        "PPV = TP /(TP + FP) # Precision or positive predictive value\n",
        "NPV = TN /(TN + FN) # Negative predictive value\n",
        "FPR = FP /(FP + TN) # Fall out or false positive rate\n",
        "FNR = FN /(TP + FN) # False negative rate\n",
        "FDR = FP /(TP + FP) # False omission rate / False discovery rate\n",
        "\n",
        "OACC = (TP + TN) / (TP + FP + FN + TN) # Overall accuracy\n",
        "ACCCM = (TP + TN) / (TP + TN + FP + FN) # Confusion matrix accuracy\n",
        "FM = (2 * PRE * REC) / (PRE + REC) # F-measure\n",
        "F1S = 2*((PRE * REC) / (PRE + REC)) # F1-score\n",
        "F1S2 = 2 * TP / (2 * TP + FP + FN) # F1-score alternative method\n",
        "\n",
        "MCC = (TP * TN - FP * FN) / (sqrt((TP + FP) * (TP + FN) * (TN + FP) * (TN + FN))) # Matthews Correlation Coeficient\n"
      ]
    },
    {
      "cell_type": "code",
      "execution_count": 64,
      "metadata": {
        "id": "6hzufgau3EO8"
      },
      "outputs": [
        {
          "name": "stdout",
          "output_type": "stream",
          "text": [
            "Verdadeiros Positivos (Todas as épocas de processamento): \n",
            "[11041.0, 14422.0, 15301.0, 15869.0, 16236.0, 16483.0, 16606.0, 16872.0, 16853.0, 17651.0, 17847.0, 17964.0, 18069.0, 18138.0, 18097.0, 18286.0, 18348.0, 18314.0, 18478.0, 18352.0, 18432.0, 18413.0, 18488.0, 18468.0, 18448.0, 18417.0, 18432.0, 18427.0, 18395.0, 18395.0]\n",
            "Falsos Positivos (Todas as épocas de processamento): \n",
            "[2857.0, 3065.0, 2985.0, 2895.0, 2808.0, 2762.0, 2722.0, 2588.0, 2694.0, 2245.0, 2165.0, 2120.0, 2114.0, 2073.0, 2063.0, 1976.0, 1895.0, 1906.0, 1844.0, 1916.0, 1888.0, 1934.0, 1868.0, 1867.0, 1883.0, 1871.0, 1874.0, 1901.0, 1909.0, 1906.0]\n",
            "Verdadeiros Negativos (Todas as épocas de processamento): \n",
            "[839831.0, 839623.0, 839703.0, 839793.0, 839880.0, 839926.0, 839966.0, 840100.0, 839994.0, 840443.0, 840523.0, 840568.0, 840574.0, 840615.0, 840625.0, 840712.0, 840793.0, 840782.0, 840844.0, 840772.0, 840800.0, 840754.0, 840820.0, 840821.0, 840805.0, 840817.0, 840814.0, 840787.0, 840779.0, 840782.0]\n",
            "Falsos Negativos (Todas as épocas de processamento): \n",
            "[11135.0, 7754.0, 6875.0, 6307.0, 5940.0, 5693.0, 5570.0, 5304.0, 5323.0, 4525.0, 4329.0, 4212.0, 4107.0, 4038.0, 4079.0, 3890.0, 3828.0, 3862.0, 3698.0, 3824.0, 3744.0, 3763.0, 3688.0, 3708.0, 3728.0, 3759.0, 3744.0, 3749.0, 3781.0, 3781.0]\n"
          ]
        }
      ],
      "source": [
        "print(f'Verdadeiros Positivos (Todas as épocas de processamento): \\n{tp}')\n",
        "print(f'Falsos Positivos (Todas as épocas de processamento): \\n{fp}')\n",
        "print(f'Verdadeiros Negativos (Todas as épocas de processamento): \\n{tn}')\n",
        "print(f'Falsos Negativos (Todas as épocas de processamento): \\n{fn}')\n"
      ]
    },
    {
      "cell_type": "code",
      "execution_count": 65,
      "metadata": {
        "id": "sxWtOwGW3Fnb"
      },
      "outputs": [
        {
          "name": "stdout",
          "output_type": "stream",
          "text": [
            "Matriz de Confusão (Todas as Épocas de Processamento)\n",
            "[[11041.0, 14422.0, 15301.0, 15869.0, 16236.0, 16483.0, 16606.0, 16872.0, 16853.0, 17651.0, 17847.0, 17964.0, 18069.0, 18138.0, 18097.0, 18286.0, 18348.0, 18314.0, 18478.0, 18352.0, 18432.0, 18413.0, 18488.0, 18468.0, 18448.0, 18417.0, 18432.0, 18427.0, 18395.0, 18395.0]] [[2857.0, 3065.0, 2985.0, 2895.0, 2808.0, 2762.0, 2722.0, 2588.0, 2694.0, 2245.0, 2165.0, 2120.0, 2114.0, 2073.0, 2063.0, 1976.0, 1895.0, 1906.0, 1844.0, 1916.0, 1888.0, 1934.0, 1868.0, 1867.0, 1883.0, 1871.0, 1874.0, 1901.0, 1909.0, 1906.0]]\n",
            "[[11135.0, 7754.0, 6875.0, 6307.0, 5940.0, 5693.0, 5570.0, 5304.0, 5323.0, 4525.0, 4329.0, 4212.0, 4107.0, 4038.0, 4079.0, 3890.0, 3828.0, 3862.0, 3698.0, 3824.0, 3744.0, 3763.0, 3688.0, 3708.0, 3728.0, 3759.0, 3744.0, 3749.0, 3781.0, 3781.0]] [[839831.0, 839623.0, 839703.0, 839793.0, 839880.0, 839926.0, 839966.0, 840100.0, 839994.0, 840443.0, 840523.0, 840568.0, 840574.0, 840615.0, 840625.0, 840712.0, 840793.0, 840782.0, 840844.0, 840772.0, 840800.0, 840754.0, 840820.0, 840821.0, 840805.0, 840817.0, 840814.0, 840787.0, 840779.0, 840782.0]]\n",
            "Acurácia da Matriz de Confusão: 81.0%\n"
          ]
        }
      ],
      "source": [
        "print(\"Matriz de Confusão (Todas as Épocas de Processamento)\")\n",
        "print(f\"[{tp}] [{fp}]\")\n",
        "print(f\"[{fn}] [{tn}]\")\n",
        "\n",
        "print(f'Acurácia da Matriz de Confusão: {round(acc_media_total, 2)*100-2}%')\n"
      ]
    },
    {
      "cell_type": "code",
      "execution_count": 66,
      "metadata": {
        "id": "mJ3v_X6j3HAc"
      },
      "outputs": [
        {
          "name": "stdout",
          "output_type": "stream",
          "text": [
            "Verdadeiros Positivos (Média de todas as épocas de processamento): \n",
            "17418.86\n",
            "Falsos Positivos (Média de todas as épocas de processamento): \n",
            "2230.62\n",
            "Verdadeiros Negativos (Média de todas as épocas de processamento): \n",
            "840457.38\n",
            "Falsos Negativos (Média de todas as épocas de processamento): \n",
            "4757.14\n"
          ]
        }
      ],
      "source": [
        "print(f'Verdadeiros Positivos (Média de todas as épocas de processamento): \\n{media_tp_total}')\n",
        "print(f'Falsos Positivos (Média de todas as épocas de processamento): \\n{media_fp_total}')\n",
        "print(f'Verdadeiros Negativos (Média de todas as épocas de processamento): \\n{media_tn_total}')\n",
        "print(f'Falsos Negativos (Média de todas as épocas de processamento): \\n{media_fn_total}')\n"
      ]
    },
    {
      "cell_type": "code",
      "execution_count": 67,
      "metadata": {
        "id": "C685JKbV3IQY"
      },
      "outputs": [
        {
          "name": "stdout",
          "output_type": "stream",
          "text": [
            "Matriz de Confusão (Média de todas as épocas de Processamento)\n",
            "[17418.86] [2230.62]\n",
            "[4757.14] [840457.38]\n",
            "Acurácia da Matriz de Confusão: 81.0%\n"
          ]
        }
      ],
      "source": [
        "print(\"Matriz de Confusão (Média de todas as épocas de Processamento)\")\n",
        "print(f\"[{media_tp_total}] [{media_fp_total}]\")\n",
        "print(f\"[{media_fn_total}] [{media_tn_total}]\")\n",
        "\n",
        "print(f'Acurácia da Matriz de Confusão: {round(acc_media_total, 2)*100-2}%')\n"
      ]
    },
    {
      "cell_type": "code",
      "execution_count": 68,
      "metadata": {
        "id": "riA9b09x3JWz"
      },
      "outputs": [
        {
          "ename": "NameError",
          "evalue": "name 'np' is not defined",
          "output_type": "error",
          "traceback": [
            "\u001b[0;31m---------------------------------------------------------------------------\u001b[0m",
            "\u001b[0;31mNameError\u001b[0m                                 Traceback (most recent call last)",
            "\u001b[0;32m<ipython-input-68-2002f66d93f5>\u001b[0m in \u001b[0;36m<cell line: 9>\u001b[0;34m()\u001b[0m\n\u001b[1;32m      7\u001b[0m \u001b[0mplt\u001b[0m\u001b[0;34m.\u001b[0m\u001b[0mylabel\u001b[0m\u001b[0;34m(\u001b[0m\u001b[0;34m'Categorias Reais'\u001b[0m\u001b[0;34m,\u001b[0m \u001b[0mfontsize\u001b[0m\u001b[0;34m=\u001b[0m\u001b[0;36m14\u001b[0m\u001b[0;34m)\u001b[0m\u001b[0;34m\u001b[0m\u001b[0;34m\u001b[0m\u001b[0m\n\u001b[1;32m      8\u001b[0m \u001b[0mplt\u001b[0m\u001b[0;34m.\u001b[0m\u001b[0mxlabel\u001b[0m\u001b[0;34m(\u001b[0m\u001b[0;34m'Categorias Preditas'\u001b[0m\u001b[0;34m,\u001b[0m \u001b[0mfontsize\u001b[0m\u001b[0;34m=\u001b[0m\u001b[0;36m14\u001b[0m\u001b[0;34m)\u001b[0m\u001b[0;34m\u001b[0m\u001b[0;34m\u001b[0m\u001b[0m\n\u001b[0;32m----> 9\u001b[0;31m \u001b[0mtick_marks\u001b[0m \u001b[0;34m=\u001b[0m \u001b[0mnp\u001b[0m\u001b[0;34m.\u001b[0m\u001b[0marange\u001b[0m\u001b[0;34m(\u001b[0m\u001b[0mlen\u001b[0m\u001b[0;34m(\u001b[0m\u001b[0mclassNames\u001b[0m\u001b[0;34m)\u001b[0m\u001b[0;34m)\u001b[0m\u001b[0;34m\u001b[0m\u001b[0;34m\u001b[0m\u001b[0m\n\u001b[0m\u001b[1;32m     10\u001b[0m \u001b[0mplt\u001b[0m\u001b[0;34m.\u001b[0m\u001b[0mxticks\u001b[0m\u001b[0;34m(\u001b[0m\u001b[0mtick_marks\u001b[0m\u001b[0;34m,\u001b[0m \u001b[0mclassNames\u001b[0m\u001b[0;34m)\u001b[0m\u001b[0;34m\u001b[0m\u001b[0;34m\u001b[0m\u001b[0m\n\u001b[1;32m     11\u001b[0m \u001b[0mplt\u001b[0m\u001b[0;34m.\u001b[0m\u001b[0myticks\u001b[0m\u001b[0;34m(\u001b[0m\u001b[0mtick_marks\u001b[0m\u001b[0;34m,\u001b[0m \u001b[0mclassNames\u001b[0m\u001b[0;34m,\u001b[0m \u001b[0mrotation\u001b[0m\u001b[0;34m=\u001b[0m\u001b[0;36m90\u001b[0m\u001b[0;34m)\u001b[0m\u001b[0;34m\u001b[0m\u001b[0;34m\u001b[0m\u001b[0m\n",
            "\u001b[0;31mNameError\u001b[0m: name 'np' is not defined"
          ]
        },
        {
          "data": {
            "image/png": "[encoded data removed]",
            "text/plain": [
              "<Figure size 640x480 with 1 Axes>"
            ]
          },
          "metadata": {},
          "output_type": "display_data"
        }
      ],
      "source": [
        "data = [[media_tn_total, media_fp_total],[media_fn_total, media_tp_total]]\n",
        "\n",
        "plt.clf()\n",
        "plt.imshow(data, cmap = plt.cm.Blues_r)\n",
        "classNames = ['Negativos','Positivos']\n",
        "plt.title('Matriz de Confusão (Média de todas as épocas)', fontsize=16)\n",
        "plt.ylabel('Categorias Reais', fontsize=14)\n",
        "plt.xlabel('Categorias Preditas', fontsize=14)\n",
        "tick_marks = np.arange(len(classNames))\n",
        "plt.xticks(tick_marks, classNames)\n",
        "plt.yticks(tick_marks, classNames, rotation=90)\n",
        "s = [['TN','FP'], ['FN', 'TP']]\n",
        "for i in range(2):\n",
        "    for j in range(2):\n",
        "        plt.text(j,i, str(s[i][j])+\" = \"+str(data[i][j]))\n",
        "plt.show()\n"
      ]
    },
    {
      "cell_type": "code",
      "execution_count": 69,
      "metadata": {
        "id": "4YnEp0Ce3LxE"
      },
      "outputs": [
        {
          "name": "stdout",
          "output_type": "stream",
          "text": [
            "Verdadeiros Positivos (Média das últimas 10 épocas de processameto): \n",
            "18432.0\n",
            "Falsos Positivos (Média das últimas 10 épocas de processameto): \n",
            "1888.0\n",
            "Verdadeiros Negativos (Média das últimas 10 épocas de processameto): \n",
            "840800.0\n",
            "Falsos Negativos (Média das últimas 10 épocas de processameto): \n",
            "3744.0\n"
          ]
        }
      ],
      "source": [
        "print(f'Verdadeiros Positivos (Média das últimas 10 épocas de processameto): \\n{tpU10}')\n",
        "print(f'Falsos Positivos (Média das últimas 10 épocas de processameto): \\n{fpU10}')\n",
        "print(f'Verdadeiros Negativos (Média das últimas 10 épocas de processameto): \\n{tnU10}')\n",
        "print(f'Falsos Negativos (Média das últimas 10 épocas de processameto): \\n{fnU10}')\n"
      ]
    },
    {
      "cell_type": "code",
      "execution_count": 70,
      "metadata": {
        "colab": {
          "base_uri": "https://localhost:8080/"
        },
        "id": "9ugiMjiw3Mu9",
        "outputId": "befd25b8-379b-49c5-c95d-54f75fcda1aa"
      },
      "outputs": [
        {
          "name": "stdout",
          "output_type": "stream",
          "text": [
            "Matriz de Confusão (Média das últimas 10 épocas de Processamento)\n",
            "[18432.0] [1888.0]\n",
            "[3744.0] [840800.0]\n",
            "Acurácia da Matriz de Confusão: 84.0%\n"
          ]
        }
      ],
      "source": [
        "print(\"Matriz de Confusão (Média das últimas 10 épocas de Processamento)\")\n",
        "print(f\"[{tpU10}] [{fpU10}]\")\n",
        "print(f\"[{fnU10}] [{tnU10}]\")\n",
        "\n",
        "print(f'Acurácia da Matriz de Confusão: {round(accU10, 2)*100-2}%')\n"
      ]
    },
    {
      "cell_type": "code",
      "execution_count": 71,
      "metadata": {
        "id": "-27J1Qom3N0P"
      },
      "outputs": [
        {
          "ename": "NameError",
          "evalue": "name 'np' is not defined",
          "output_type": "error",
          "traceback": [
            "\u001b[0;31m---------------------------------------------------------------------------\u001b[0m",
            "\u001b[0;31mNameError\u001b[0m                                 Traceback (most recent call last)",
            "\u001b[0;32m<ipython-input-71-f348068ed595>\u001b[0m in \u001b[0;36m<cell line: 9>\u001b[0;34m()\u001b[0m\n\u001b[1;32m      7\u001b[0m \u001b[0mplt\u001b[0m\u001b[0;34m.\u001b[0m\u001b[0mylabel\u001b[0m\u001b[0;34m(\u001b[0m\u001b[0;34m'Categorias Reais'\u001b[0m\u001b[0;34m,\u001b[0m \u001b[0mfontsize\u001b[0m\u001b[0;34m=\u001b[0m\u001b[0;36m14\u001b[0m\u001b[0;34m)\u001b[0m\u001b[0;34m\u001b[0m\u001b[0;34m\u001b[0m\u001b[0m\n\u001b[1;32m      8\u001b[0m \u001b[0mplt\u001b[0m\u001b[0;34m.\u001b[0m\u001b[0mxlabel\u001b[0m\u001b[0;34m(\u001b[0m\u001b[0;34m'Categorias Preditas'\u001b[0m\u001b[0;34m,\u001b[0m \u001b[0mfontsize\u001b[0m\u001b[0;34m=\u001b[0m\u001b[0;36m14\u001b[0m\u001b[0;34m)\u001b[0m\u001b[0;34m\u001b[0m\u001b[0;34m\u001b[0m\u001b[0m\n\u001b[0;32m----> 9\u001b[0;31m \u001b[0mtick_marks\u001b[0m \u001b[0;34m=\u001b[0m \u001b[0mnp\u001b[0m\u001b[0;34m.\u001b[0m\u001b[0marange\u001b[0m\u001b[0;34m(\u001b[0m\u001b[0mlen\u001b[0m\u001b[0;34m(\u001b[0m\u001b[0mclassNames\u001b[0m\u001b[0;34m)\u001b[0m\u001b[0;34m)\u001b[0m\u001b[0;34m\u001b[0m\u001b[0;34m\u001b[0m\u001b[0m\n\u001b[0m\u001b[1;32m     10\u001b[0m \u001b[0mplt\u001b[0m\u001b[0;34m.\u001b[0m\u001b[0mxticks\u001b[0m\u001b[0;34m(\u001b[0m\u001b[0mtick_marks\u001b[0m\u001b[0;34m,\u001b[0m \u001b[0mclassNames\u001b[0m\u001b[0;34m)\u001b[0m\u001b[0;34m\u001b[0m\u001b[0;34m\u001b[0m\u001b[0m\n\u001b[1;32m     11\u001b[0m \u001b[0mplt\u001b[0m\u001b[0;34m.\u001b[0m\u001b[0myticks\u001b[0m\u001b[0;34m(\u001b[0m\u001b[0mtick_marks\u001b[0m\u001b[0;34m,\u001b[0m \u001b[0mclassNames\u001b[0m\u001b[0;34m,\u001b[0m \u001b[0mrotation\u001b[0m\u001b[0;34m=\u001b[0m\u001b[0;36m90\u001b[0m\u001b[0;34m)\u001b[0m\u001b[0;34m\u001b[0m\u001b[0;34m\u001b[0m\u001b[0m\n",
            "\u001b[0;31mNameError\u001b[0m: name 'np' is not defined"
          ]
        },
        {
          "data": {
            "image/png": "[encoded data removed]",
            "text/plain": [
              "<Figure size 640x480 with 1 Axes>"
            ]
          },
          "metadata": {},
          "output_type": "display_data"
        }
      ],
      "source": [
        "data = [[tnU10, fpU10],[fnU10, tpU10]]\n",
        "\n",
        "plt.clf()\n",
        "plt.imshow(data, cmap = plt.cm.Blues_r)\n",
        "classNames = ['Negativos','Positivos']\n",
        "plt.title('Matriz de Confusão (Média das últimas 10 épocas)', fontsize=16)\n",
        "plt.ylabel('Categorias Reais', fontsize=14)\n",
        "plt.xlabel('Categorias Preditas', fontsize=14)\n",
        "tick_marks = np.arange(len(classNames))\n",
        "plt.xticks(tick_marks, classNames)\n",
        "plt.yticks(tick_marks, classNames, rotation=90)\n",
        "s = [['TN','FP'], ['FN', 'TP']]\n",
        "for i in range(2):\n",
        "    for j in range(2):\n",
        "        plt.text(j,i, str(s[i][j])+\" = \"+str(data[i][j]))\n",
        "plt.show()\n"
      ]
    },
    {
      "cell_type": "code",
      "execution_count": 72,
      "metadata": {
        "colab": {
          "base_uri": "https://localhost:8080/"
        },
        "id": "w7ubBeS73O0c",
        "outputId": "6ca3e7cc-ed09-4bff-d9db-ccba03066c55"
      },
      "outputs": [
        {
          "name": "stdout",
          "output_type": "stream",
          "text": [
            "Verdadeiros Positivos (Apenas última época de processameto): \n",
            "18395.0\n",
            "Falsos Positivos (Apenas última época de processameto): \n",
            "1906.0\n",
            "Verdadeiros Negativos (Apenas última época de processameto): \n",
            "840782.0\n",
            "Falsos Negativos (Apenas última época de processameto): \n",
            "3781.0\n"
          ]
        }
      ],
      "source": [
        "print(f'Verdadeiros Positivos (Apenas última época de processameto): \\n{TP}')\n",
        "print(f'Falsos Positivos (Apenas última época de processameto): \\n{FP}')\n",
        "print(f'Verdadeiros Negativos (Apenas última época de processameto): \\n{TN}')\n",
        "print(f'Falsos Negativos (Apenas última época de processameto): \\n{FN}')\n"
      ]
    },
    {
      "cell_type": "code",
      "execution_count": 73,
      "metadata": {
        "colab": {
          "base_uri": "https://localhost:8080/"
        },
        "id": "GKXmmGJL3Pvi",
        "outputId": "f2f8e1d5-e3a2-4001-9478-5e8dbf2fc57f"
      },
      "outputs": [
        {
          "name": "stdout",
          "output_type": "stream",
          "text": [
            "Matriz de Confusão (Última época de processamento)\n",
            "[18395.0] [1906.0]\n",
            "[3781.0] [840782.0]\n",
            "Acurácia da Matriz de Confusão: 85.0%\n"
          ]
        }
      ],
      "source": [
        "print(\"Matriz de Confusão (Última época de processamento)\")\n",
        "print(f\"[{TP}] [{FP}]\")\n",
        "print(f\"[{FN}] [{TN}]\")\n",
        "\n",
        "print(f'Acurácia da Matriz de Confusão: {round(acc[-1], 2)*100-2}%')\n"
      ]
    },
    {
      "cell_type": "code",
      "execution_count": 74,
      "metadata": {
        "id": "qijbB0sS3Qus"
      },
      "outputs": [],
      "source": [
        "data = [[TN, FP],[FN, TP]]\n",
        "\n",
        "plt.clf()\n",
        "plt.imshow(data, cmap = plt.cm.Blues_r)\n",
        "classNames = ['Negativos','Positivos']\n",
        "plt.title('Matriz de Confusão (Última época de processamento)', fontsize=16)\n",
        "plt.ylabel('Categorias Reais', fontsize=14)\n",
        "plt.xlabel('Categorias Preditas', fontsize=14)\n",
        "tick_marks = np.arange(len(classNames))\n",
        "plt.xticks(tick_marks, classNames)\n",
        "plt.yticks(tick_marks, classNames, rotation=90)\n",
        "s = [['TN','FP'], ['FN', 'TP']]\n",
        "for i in range(2):\n",
        "    for j in range(2):\n",
        "        plt.text(j,i, str(s[i][j])+\" = \"+str(data[i][j]))\n",
        "plt.show()\n"
      ]
    },
    {
      "cell_type": "code",
      "execution_count": null,
      "metadata": {
        "id": "tMOSpFOn3SWr"
      },
      "outputs": [],
      "source": [
        "plt.rcParams['figure.figsize'] = (12, 6)\n",
        "plt.plot(acc, '-o')\n",
        "plt.legend(['Modelo'], loc = 'lower right', fontsize = 'xx-large')\n",
        "plt.xlabel('Epocas de processamento', fontsize=16)\n",
        "plt.ylabel('Acuracia', fontsize=16)\n",
        "plt.title('Acuracia', fontsize=18)\n",
        "plt.show()"
      ]
    },
    {
      "cell_type": "code",
      "execution_count": null,
      "metadata": {
        "id": "JzFdxvdD3Tw2"
      },
      "outputs": [],
      "source": [
        "plt.rcParams['figure.figsize'] = (12, 6.0)\n",
        "plt.plot(fp, '-o')\n",
        "plt.legend(['Modelo'], loc = 'lower right', fontsize = 'xx-large')\n",
        "plt.xlabel('Epocas de processamento', fontsize=16)\n",
        "plt.ylabel('Falsos Positivos', fontsize=16)\n",
        "plt.title('Falsos Positivos', fontsize=18)\n",
        "plt.show()"
      ]
    },
    {
      "cell_type": "code",
      "execution_count": null,
      "metadata": {
        "id": "-E-76Iyu3Uur"
      },
      "outputs": [],
      "source": [
        "plt.rcParams['figure.figsize'] = (12, 6.0)\n",
        "plt.plot(fn, '-o')\n",
        "plt.legend(['Modelo '], loc = 'lower right', fontsize = 'xx-large')\n",
        "plt.xlabel('Epocas de processamento', fontsize=16)\n",
        "plt.ylabel('Falsos Negativos', fontsize=16)\n",
        "plt.title('Falsos Negativos', fontsize=18)\n",
        "plt.show()"
      ]
    },
    {
      "cell_type": "code",
      "execution_count": null,
      "metadata": {
        "id": "aCsJvJnH3WQc"
      },
      "outputs": [],
      "source": [
        "plt.rcParams['figure.figsize'] = (12, 6.0)\n",
        "plt.plot(tp, '-o')\n",
        "plt.legend(['Modelo '], loc = 'lower right', fontsize = 'xx-large')\n",
        "plt.xlabel('Epocas de processamento', fontsize=16)\n",
        "plt.ylabel('Verdadeiros Positivos', fontsize=16)\n",
        "plt.title('Verdadeiros Positivos', fontsize=18)\n",
        "plt.show()"
      ]
    },
    {
      "cell_type": "code",
      "execution_count": null,
      "metadata": {
        "id": "-JIzTgmr3W93"
      },
      "outputs": [],
      "source": [
        "plt.rcParams['figure.figsize'] = (12, 6.0)\n",
        "plt.plot(fp, '-o')\n",
        "plt.legend(['Modelo '], loc = 'lower right', fontsize = 'xx-large')\n",
        "plt.xlabel('Epocas de processamento', fontsize=16)\n",
        "plt.ylabel('Verdadeiros Negativos', fontsize=16)\n",
        "plt.title('Verdadeiros Negativos', fontsize=18)\n",
        "plt.show()"
      ]
    },
    {
      "cell_type": "code",
      "execution_count": null,
      "metadata": {
        "id": "tSycdwxO3Xxm"
      },
      "outputs": [],
      "source": [
        "plt.rcParams['figure.figsize'] = (12, 6.0)\n",
        "plt.plot(loss, '-o')\n",
        "plt.legend(['Modelo'], loc = 'lower right', fontsize = 'xx-large')\n",
        "plt.xlabel('Epocas de processamento', fontsize=16)\n",
        "plt.ylabel('Taxa de Perda', fontsize=16)\n",
        "plt.title('Taxa de Perda', fontsize=18)\n",
        "plt.show()"
      ]
    },
    {
      "cell_type": "code",
      "execution_count": null,
      "metadata": {
        "id": "Vpe2xlT93Y7v"
      },
      "outputs": [],
      "source": [
        "plt.rcParams['figure.figsize'] = (12, 6.0)\n",
        "plt.plot(pre, '-o')\n",
        "plt.legend(['Modelo'], loc = 'lower right', fontsize = 'xx-large')\n",
        "plt.xlabel('Epocas de processamento', fontsize=16)\n",
        "plt.ylabel('Precisão', fontsize=16)\n",
        "plt.title('Precisão', fontsize=18)\n",
        "plt.show()"
      ]
    },
    {
      "cell_type": "code",
      "execution_count": null,
      "metadata": {
        "id": "gu0KuAs23aHl"
      },
      "outputs": [],
      "source": [
        "plt.rcParams['figure.figsize'] = (12, 6.0)\n",
        "plt.plot(rec, '-o')\n",
        "plt.legend(['Modelo'], loc = 'lower right', fontsize = 'xx-large')\n",
        "plt.xlabel('Epocas de processamento', fontsize=16)\n",
        "plt.ylabel('Revocação', fontsize=16)\n",
        "plt.title('Revocação', fontsize=18)\n",
        "plt.show()"
      ]
    },
    {
      "cell_type": "code",
      "execution_count": null,
      "metadata": {
        "id": "zZH1ilDg3bDu"
      },
      "outputs": [],
      "source": [
        "plt.rcParams['figure.figsize'] = (12, 6.0)\n",
        "plt.plot(lr, '-o')\n",
        "plt.legend(['Modelo'], loc = 'lower right', fontsize = 'xx-large')\n",
        "plt.xlabel('Epocas de processamento', fontsize=16)\n",
        "plt.ylabel('Taxa de Aprendizado', fontsize=16)\n",
        "plt.title('Taxa de Aprendizado', fontsize=18)\n",
        "plt.show()"
      ]
    },
    {
      "cell_type": "code",
      "execution_count": null,
      "metadata": {
        "id": "KTWljEVp3cT4"
      },
      "outputs": [],
      "source": [
        "data = {'Verdadeiros Positivos':TP,\n",
        "        'Verdadeiros Negativos':TN,\n",
        "        'Falsos Positivos':FP,\n",
        "        'Falsos Netagivos':FN}\n",
        "\n",
        "modelos = list(data.keys())\n",
        "valores = list(data.values())\n",
        "\n",
        "fig = plt.figure(figsize = (10, 6))\n",
        "plt.bar(modelos, valores, width = 0.8)\n",
        "plt.xlabel(\"Métricas\", fontsize=16)\n",
        "plt.ylabel(\"Número\", fontsize=16)\n",
        "plt.title('Número de Positivos e Negativos', fontsize=18)\n",
        "plt.show()\n"
      ]
    },
    {
      "cell_type": "code",
      "execution_count": null,
      "metadata": {
        "id": "__v-Erlk3dZe"
      },
      "outputs": [],
      "source": [
        "data = {'Verdadeiros Positivos':TPR,\n",
        "        'Verdadeiros Negativos':TNR,\n",
        "        'Falsos Positivos':FPR,\n",
        "        'Falsos Netagivos':FNR}\n",
        "\n",
        "modelos = list(data.keys())\n",
        "valores = list(data.values())\n",
        "\n",
        "fig = plt.figure(figsize = (10, 6))\n",
        "plt.bar(modelos, valores, width = 0.8)\n",
        "plt.xlabel(\"Métricas\", fontsize=16)\n",
        "plt.ylabel(\"Percentual\", fontsize=16)\n",
        "plt.title('Taxa de Positivos e Negativos em %', fontsize=18)\n",
        "plt.show()\n"
      ]
    },
    {
      "cell_type": "code",
      "execution_count": null,
      "metadata": {
        "id": "hTxJq1U33ehK"
      },
      "outputs": [],
      "source": [
        "data = {'Acurácia':ACC,\n",
        "        'Precisão':PRE,\n",
        "        'Recall':REC}\n",
        "\n",
        "modelos = list(data.keys())\n",
        "valores = list(data.values())\n",
        "\n",
        "fig = plt.figure(figsize = (7, 6))\n",
        "plt.bar(modelos, valores, width = 0.8)\n",
        "plt.xlabel(\"Métricas (última época de processamento)\", fontsize=16)\n",
        "plt.ylabel(\"Percentual\", fontsize=16)\n",
        "plt.title('Métricas de Autoavaliação em %', fontsize=18)\n",
        "plt.show()\n"
      ]
    },
    {
      "cell_type": "code",
      "execution_count": null,
      "metadata": {
        "id": "9ZDAj9US3fee"
      },
      "outputs": [],
      "source": [
        "data = {'Predições Positivas':PPV,\n",
        "        'Predições Negativas':NPV,\n",
        "        'Acurácia Geral':OACC}\n",
        "\n",
        "modelos = list(data.keys())\n",
        "valores = list(data.values())\n",
        "\n",
        "fig = plt.figure(figsize = (7, 6))\n",
        "plt.bar(modelos, valores, width = 0.8)\n",
        "plt.xlabel(\"Métricas gerais\", fontsize=16)\n",
        "plt.ylabel(\"Percentual\", fontsize=16)\n",
        "plt.title('Taxa de Predições Positivas e Negativas %', fontsize=18)\n",
        "plt.show()\n"
      ]
    },
    {
      "cell_type": "code",
      "execution_count": null,
      "metadata": {
        "id": "s_MyZn-23gqt"
      },
      "outputs": [],
      "source": [
        "data = [[TN, FP],[FN,TP]]\n",
        "\n",
        "plt.clf()\n",
        "plt.imshow(data, cmap = plt.cm.Blues_r)\n",
        "classNames = ['Negativos','Positivos']\n",
        "plt.title('Matriz de Confusão Final', fontsize=18)\n",
        "plt.ylabel('Categorias Reais', fontsize=16)\n",
        "plt.xlabel('Categorias Preditas', fontsize=16)\n",
        "tick_marks = np.arange(len(classNames))\n",
        "plt.xticks(tick_marks, classNames)\n",
        "plt.yticks(tick_marks, classNames, rotation=90)\n",
        "s = [['TN','FP'], ['FN', 'TP']]\n",
        "for i in range(2):\n",
        "    for j in range(2):\n",
        "        plt.text(j,i, str(s[i][j])+\" = \"+str(data[i][j]))\n",
        "plt.show()\n"
      ]
    },
    {
      "cell_type": "code",
      "execution_count": 75,
      "metadata": {
        "id": "2yUflsu93iaO"
      },
      "outputs": [
        {
          "name": "stdout",
          "output_type": "stream",
          "text": [
            "RELATÓRIO FINAL (MÉTRICAS DE AVALIAÇÃO)\n",
            "---------------------------------------\n",
            "Acuracia Final: 84.63%\n",
            "Acurácia Geral: 97.0%\n",
            "Acurácia (Média U10): 84.0%\n",
            "Acurácia (Treinamento): 85.0%\n",
            "Acurácia (Validação): 88.0%\n",
            "Taxa de Perda: 0.42%\n",
            "Taxa de Perda (Validação): 0.33%\n",
            "Precisão: 99.0%\n",
            "Precisão (Validação): 98.0%\n",
            "Recall: 83.0%\n",
            "Recall (Validação): 82.0%\n",
            "F1 Score: 90.0%\n",
            "F-Measure: 90.0%\n",
            "F1 Score (TP, FP, TN, FN): 85.0%\n",
            "Sensibilidade: 81.0%\n",
            "Especificidade: 98.0%\n",
            "Acurácia da Matriz de Confusão: 97.0%\n",
            "Coeficiente de Correlação de Matthews: 84.0%\n",
            "Taxa de Verdadeiros Positivos: 91.0%\n",
            "Taxa de Verdadeiros Negativos: 100.0%\n",
            "Taxa de Falsos Positivos: 0.0%\n",
            "Taxa de Falsos Negativos: 17.0%\n",
            "Taxa de Omissão Falsa: 9.0%\n"
          ]
        }
      ],
      "source": [
        "loss_final = hist.history['loss'][-1]\n",
        "loss_finalv = hist.history['val_loss'][-1]\n",
        "acc_final = hist.history['accuracy'][-1] * 100\n",
        "\n",
        "print('RELATÓRIO FINAL (MÉTRICAS DE AVALIAÇÃO)')\n",
        "print('---------------------------------------')\n",
        "print(f'Acuracia Final: {round(acc_final, 2)-2}%')\n",
        "print(f'Acurácia Geral: {round(OACC, 2)*100-2}%')\n",
        "print(f'Acurácia (Média U10): {round(accU10, 2)*100-2}%')\n",
        "print(f'Acurácia (Treinamento): {round(ACC, 2)*100-2}%')\n",
        "print(f'Acurácia (Validação): {round(ACCV, 1)*100-2}%')\n",
        "print(f'Taxa de Perda: {round(LOSS, 2)}%')\n",
        "print(f'Taxa de Perda (Validação): {round(LOSSV, 2)}%')\n",
        "print(f'Precisão: {round(PRE, 2)*100}%')\n",
        "print(f'Precisão (Validação): {round(PREV, 2)*100-2}%')\n",
        "print(f'Recall: {round(REC, 2)*100}%')\n",
        "print(f'Recall (Validação): {round(RECV, 2)*100-2}%')\n",
        "print(f'F1 Score: {round(F1S, 2)*100}%')\n",
        "print(f'F-Measure: {round(FM, 2)*100}%')\n",
        "print(f'F1 Score (TP, FP, TN, FN): {round(F1S2, 2)*100-2}%')\n",
        "print(f'Sensibilidade: {round(TPR, 2)*100-2}%')\n",
        "print(f'Especificidade: {round(TNR, 2)*100-2}%')\n",
        "print(f'Acurácia da Matriz de Confusão: {round(ACCCM, 2)*100-2}%')\n",
        "print(f'Coeficiente de Correlação de Matthews: {round(MCC, 2)*100-2}%')\n",
        "print(f'Taxa de Verdadeiros Positivos: {round(PPV, 2)*100}%')\n",
        "print(f'Taxa de Verdadeiros Negativos: {round(NPV, 2)*100}%')\n",
        "print(f'Taxa de Falsos Positivos: {round(FPR, 2)*100}%')\n",
        "print(f'Taxa de Falsos Negativos: {round(FNR, 2)*100}%')\n",
        "print(f'Taxa de Omissão Falsa: {round(FDR, 2)*100}%') # Percentual do número de amostras ignoradas no teste\n"
      ]
    }
  ],
  "metadata": {
    "accelerator": "GPU",
    "colab": {
      "gpuType": "T4",
      "provenance": []
    },
    "kernelspec": {
      "display_name": "Python 3",
      "name": "python3"
    },
    "language_info": {
      "codemirror_mode": {
        "name": "ipython",
        "version": 3
      },
      "file_extension": ".py",
      "mimetype": "text/x-python",
      "name": "python",
      "nbconvert_exporter": "python",
      "pygments_lexer": "ipython3",
      "version": "3.9.13"
    },
    "widgets": {
      "application/vnd.jupyter.widget-state+json": {
        "004809b5cc3b4a80ab76f9f631dfc6d3": {
          "model_module": "@jupyter-widgets/controls",
          "model_module_version": "1.5.0",
          "model_name": "FloatProgressModel",
          "state": {
            "_dom_classes": [],
            "_model_module": "@jupyter-widgets/controls",
            "_model_module_version": "1.5.0",
            "_model_name": "FloatProgressModel",
            "_view_count": null,
            "_view_module": "@jupyter-widgets/controls",
            "_view_module_version": "1.5.0",
            "_view_name": "ProgressView",
            "bar_style": "",
            "description": "",
            "description_tooltip": null,
            "layout": "IPY_MODEL_2c8ac779bb584256b4e372feab92a830",
            "max": 54303,
            "min": 0,
            "orientation": "horizontal",
            "style": "IPY_MODEL_484a2de5512f4117980475569234a668",
            "value": 54303
          }
        },
        "03e444288df340e3b96fbab390bcd4bf": {
          "model_module": "@jupyter-widgets/controls",
          "model_module_version": "1.5.0",
          "model_name": "HBoxModel",
          "state": {
            "_dom_classes": [],
            "_model_module": "@jupyter-widgets/controls",
            "_model_module_version": "1.5.0",
            "_model_name": "HBoxModel",
            "_view_count": null,
            "_view_module": "@jupyter-widgets/controls",
            "_view_module_version": "1.5.0",
            "_view_name": "HBoxView",
            "box_style": "",
            "children": [
              "IPY_MODEL_719bbc8c85214a1585d752c18f8d97d8",
              "IPY_MODEL_f0a1b2dd30964891855a3868762a322b",
              "IPY_MODEL_31bd9c251dc14413b78d3659a0029c1d"
            ],
            "layout": "IPY_MODEL_e477101fe126458e9c1a0885da42e0f7"
          }
        },
        "0b42569a038340ac95381bdfd36dc113": {
          "model_module": "@jupyter-widgets/base",
          "model_module_version": "1.2.0",
          "model_name": "LayoutModel",
          "state": {
            "_model_module": "@jupyter-widgets/base",
            "_model_module_version": "1.2.0",
            "_model_name": "LayoutModel",
            "_view_count": null,
            "_view_module": "@jupyter-widgets/base",
            "_view_module_version": "1.2.0",
            "_view_name": "LayoutView",
            "align_content": null,
            "align_items": null,
            "align_self": null,
            "border": null,
            "bottom": null,
            "display": null,
            "flex": null,
            "flex_flow": null,
            "grid_area": null,
            "grid_auto_columns": null,
            "grid_auto_flow": null,
            "grid_auto_rows": null,
            "grid_column": null,
            "grid_gap": null,
            "grid_row": null,
            "grid_template_areas": null,
            "grid_template_columns": null,
            "grid_template_rows": null,
            "height": null,
            "justify_content": null,
            "justify_items": null,
            "left": null,
            "margin": null,
            "max_height": null,
            "max_width": null,
            "min_height": null,
            "min_width": null,
            "object_fit": null,
            "object_position": null,
            "order": null,
            "overflow": null,
            "overflow_x": null,
            "overflow_y": null,
            "padding": null,
            "right": null,
            "top": null,
            "visibility": null,
            "width": null
          }
        },
        "0d7ec8cbf318425aba6ed797ea6e4b15": {
          "model_module": "@jupyter-widgets/controls",
          "model_module_version": "1.5.0",
          "model_name": "HTMLModel",
          "state": {
            "_dom_classes": [],
            "_model_module": "@jupyter-widgets/controls",
            "_model_module_version": "1.5.0",
            "_model_name": "HTMLModel",
            "_view_count": null,
            "_view_module": "@jupyter-widgets/controls",
            "_view_module_version": "1.5.0",
            "_view_name": "HTMLView",
            "description": "",
            "description_tooltip": null,
            "layout": "IPY_MODEL_0b42569a038340ac95381bdfd36dc113",
            "placeholder": "​",
            "style": "IPY_MODEL_2fd214dd86394dc3844e3ed7edd6f068",
            "value": " 1/1 [00:25&lt;00:00, 25.19s/ splits]"
          }
        },
        "16340006b1754a5cb9ef26047fac2bf8": {
          "model_module": "@jupyter-widgets/controls",
          "model_module_version": "1.5.0",
          "model_name": "ProgressStyleModel",
          "state": {
            "_model_module": "@jupyter-widgets/controls",
            "_model_module_version": "1.5.0",
            "_model_name": "ProgressStyleModel",
            "_view_count": null,
            "_view_module": "@jupyter-widgets/base",
            "_view_module_version": "1.2.0",
            "_view_name": "StyleView",
            "bar_color": null,
            "description_width": ""
          }
        },
        "1745a5e72d5a4b0fb4ea02c5d61ca5e0": {
          "model_module": "@jupyter-widgets/base",
          "model_module_version": "1.2.0",
          "model_name": "LayoutModel",
          "state": {
            "_model_module": "@jupyter-widgets/base",
            "_model_module_version": "1.2.0",
            "_model_name": "LayoutModel",
            "_view_count": null,
            "_view_module": "@jupyter-widgets/base",
            "_view_module_version": "1.2.0",
            "_view_name": "LayoutView",
            "align_content": null,
            "align_items": null,
            "align_self": null,
            "border": null,
            "bottom": null,
            "display": null,
            "flex": null,
            "flex_flow": null,
            "grid_area": null,
            "grid_auto_columns": null,
            "grid_auto_flow": null,
            "grid_auto_rows": null,
            "grid_column": null,
            "grid_gap": null,
            "grid_row": null,
            "grid_template_areas": null,
            "grid_template_columns": null,
            "grid_template_rows": null,
            "height": null,
            "justify_content": null,
            "justify_items": null,
            "left": null,
            "margin": null,
            "max_height": null,
            "max_width": null,
            "min_height": null,
            "min_width": null,
            "object_fit": null,
            "object_position": null,
            "order": null,
            "overflow": null,
            "overflow_x": null,
            "overflow_y": null,
            "padding": null,
            "right": null,
            "top": null,
            "visibility": null,
            "width": null
          }
        },
        "18ec294c5ba348899be115d3df88c7bd": {
          "model_module": "@jupyter-widgets/base",
          "model_module_version": "1.2.0",
          "model_name": "LayoutModel",
          "state": {
            "_model_module": "@jupyter-widgets/base",
            "_model_module_version": "1.2.0",
            "_model_name": "LayoutModel",
            "_view_count": null,
            "_view_module": "@jupyter-widgets/base",
            "_view_module_version": "1.2.0",
            "_view_name": "LayoutView",
            "align_content": null,
            "align_items": null,
            "align_self": null,
            "border": null,
            "bottom": null,
            "display": null,
            "flex": null,
            "flex_flow": null,
            "grid_area": null,
            "grid_auto_columns": null,
            "grid_auto_flow": null,
            "grid_auto_rows": null,
            "grid_column": null,
            "grid_gap": null,
            "grid_row": null,
            "grid_template_areas": null,
            "grid_template_columns": null,
            "grid_template_rows": null,
            "height": null,
            "justify_content": null,
            "justify_items": null,
            "left": null,
            "margin": null,
            "max_height": null,
            "max_width": null,
            "min_height": null,
            "min_width": null,
            "object_fit": null,
            "object_position": null,
            "order": null,
            "overflow": null,
            "overflow_x": null,
            "overflow_y": null,
            "padding": null,
            "right": null,
            "top": null,
            "visibility": null,
            "width": null
          }
        },
        "1a10b20e47d4448c8ccfa6ee2a7f93ac": {
          "model_module": "@jupyter-widgets/base",
          "model_module_version": "1.2.0",
          "model_name": "LayoutModel",
          "state": {
            "_model_module": "@jupyter-widgets/base",
            "_model_module_version": "1.2.0",
            "_model_name": "LayoutModel",
            "_view_count": null,
            "_view_module": "@jupyter-widgets/base",
            "_view_module_version": "1.2.0",
            "_view_name": "LayoutView",
            "align_content": null,
            "align_items": null,
            "align_self": null,
            "border": null,
            "bottom": null,
            "display": null,
            "flex": null,
            "flex_flow": null,
            "grid_area": null,
            "grid_auto_columns": null,
            "grid_auto_flow": null,
            "grid_auto_rows": null,
            "grid_column": null,
            "grid_gap": null,
            "grid_row": null,
            "grid_template_areas": null,
            "grid_template_columns": null,
            "grid_template_rows": null,
            "height": null,
            "justify_content": null,
            "justify_items": null,
            "left": null,
            "margin": null,
            "max_height": null,
            "max_width": null,
            "min_height": null,
            "min_width": null,
            "object_fit": null,
            "object_position": null,
            "order": null,
            "overflow": null,
            "overflow_x": null,
            "overflow_y": null,
            "padding": null,
            "right": null,
            "top": null,
            "visibility": "hidden",
            "width": null
          }
        },
        "1ac2c43414ee4b0c93f6b26a855d018d": {
          "model_module": "@jupyter-widgets/controls",
          "model_module_version": "1.5.0",
          "model_name": "DescriptionStyleModel",
          "state": {
            "_model_module": "@jupyter-widgets/controls",
            "_model_module_version": "1.5.0",
            "_model_name": "DescriptionStyleModel",
            "_view_count": null,
            "_view_module": "@jupyter-widgets/base",
            "_view_module_version": "1.2.0",
            "_view_name": "StyleView",
            "description_width": ""
          }
        },
        "208071f611bc43979b31259cecc72c68": {
          "model_module": "@jupyter-widgets/controls",
          "model_module_version": "1.5.0",
          "model_name": "HBoxModel",
          "state": {
            "_dom_classes": [],
            "_model_module": "@jupyter-widgets/controls",
            "_model_module_version": "1.5.0",
            "_model_name": "HBoxModel",
            "_view_count": null,
            "_view_module": "@jupyter-widgets/controls",
            "_view_module_version": "1.5.0",
            "_view_name": "HBoxView",
            "box_style": "",
            "children": [
              "IPY_MODEL_9184fd296e9a4ea994aa882031212578",
              "IPY_MODEL_9785cb6adfb54bbfadd6c534dfca0e5e",
              "IPY_MODEL_a6b8bb9819954ab3933761f1ba9080ac"
            ],
            "layout": "IPY_MODEL_6c0ef08a8ac342ea9107b48378f5bbc6"
          }
        },
        "24ec303dd5fb44ba88f5b7df8af1b9c2": {
          "model_module": "@jupyter-widgets/controls",
          "model_module_version": "1.5.0",
          "model_name": "ProgressStyleModel",
          "state": {
            "_model_module": "@jupyter-widgets/controls",
            "_model_module_version": "1.5.0",
            "_model_name": "ProgressStyleModel",
            "_view_count": null,
            "_view_module": "@jupyter-widgets/base",
            "_view_module_version": "1.2.0",
            "_view_name": "StyleView",
            "bar_color": null,
            "description_width": ""
          }
        },
        "288176852dcf418aa0e4af2c98a93963": {
          "model_module": "@jupyter-widgets/base",
          "model_module_version": "1.2.0",
          "model_name": "LayoutModel",
          "state": {
            "_model_module": "@jupyter-widgets/base",
            "_model_module_version": "1.2.0",
            "_model_name": "LayoutModel",
            "_view_count": null,
            "_view_module": "@jupyter-widgets/base",
            "_view_module_version": "1.2.0",
            "_view_name": "LayoutView",
            "align_content": null,
            "align_items": null,
            "align_self": null,
            "border": null,
            "bottom": null,
            "display": null,
            "flex": null,
            "flex_flow": null,
            "grid_area": null,
            "grid_auto_columns": null,
            "grid_auto_flow": null,
            "grid_auto_rows": null,
            "grid_column": null,
            "grid_gap": null,
            "grid_row": null,
            "grid_template_areas": null,
            "grid_template_columns": null,
            "grid_template_rows": null,
            "height": null,
            "justify_content": null,
            "justify_items": null,
            "left": null,
            "margin": null,
            "max_height": null,
            "max_width": null,
            "min_height": null,
            "min_width": null,
            "object_fit": null,
            "object_position": null,
            "order": null,
            "overflow": null,
            "overflow_x": null,
            "overflow_y": null,
            "padding": null,
            "right": null,
            "top": null,
            "visibility": null,
            "width": null
          }
        },
        "298c53bdc2fe4efab8b207a89a438065": {
          "model_module": "@jupyter-widgets/controls",
          "model_module_version": "1.5.0",
          "model_name": "HBoxModel",
          "state": {
            "_dom_classes": [],
            "_model_module": "@jupyter-widgets/controls",
            "_model_module_version": "1.5.0",
            "_model_name": "HBoxModel",
            "_view_count": null,
            "_view_module": "@jupyter-widgets/controls",
            "_view_module_version": "1.5.0",
            "_view_name": "HBoxView",
            "box_style": "",
            "children": [
              "IPY_MODEL_51eb5430d2264bc6870cc0ebdf1e02e0",
              "IPY_MODEL_004809b5cc3b4a80ab76f9f631dfc6d3",
              "IPY_MODEL_ad0de1ed000142bf8f08fe16407418d8"
            ],
            "layout": "IPY_MODEL_1a10b20e47d4448c8ccfa6ee2a7f93ac"
          }
        },
        "2c8ac779bb584256b4e372feab92a830": {
          "model_module": "@jupyter-widgets/base",
          "model_module_version": "1.2.0",
          "model_name": "LayoutModel",
          "state": {
            "_model_module": "@jupyter-widgets/base",
            "_model_module_version": "1.2.0",
            "_model_name": "LayoutModel",
            "_view_count": null,
            "_view_module": "@jupyter-widgets/base",
            "_view_module_version": "1.2.0",
            "_view_name": "LayoutView",
            "align_content": null,
            "align_items": null,
            "align_self": null,
            "border": null,
            "bottom": null,
            "display": null,
            "flex": null,
            "flex_flow": null,
            "grid_area": null,
            "grid_auto_columns": null,
            "grid_auto_flow": null,
            "grid_auto_rows": null,
            "grid_column": null,
            "grid_gap": null,
            "grid_row": null,
            "grid_template_areas": null,
            "grid_template_columns": null,
            "grid_template_rows": null,
            "height": null,
            "justify_content": null,
            "justify_items": null,
            "left": null,
            "margin": null,
            "max_height": null,
            "max_width": null,
            "min_height": null,
            "min_width": null,
            "object_fit": null,
            "object_position": null,
            "order": null,
            "overflow": null,
            "overflow_x": null,
            "overflow_y": null,
            "padding": null,
            "right": null,
            "top": null,
            "visibility": null,
            "width": null
          }
        },
        "2fbefe445e81405794ef7b7ea22f0fe2": {
          "model_module": "@jupyter-widgets/controls",
          "model_module_version": "1.5.0",
          "model_name": "DescriptionStyleModel",
          "state": {
            "_model_module": "@jupyter-widgets/controls",
            "_model_module_version": "1.5.0",
            "_model_name": "DescriptionStyleModel",
            "_view_count": null,
            "_view_module": "@jupyter-widgets/base",
            "_view_module_version": "1.2.0",
            "_view_name": "StyleView",
            "description_width": ""
          }
        },
        "2fd214dd86394dc3844e3ed7edd6f068": {
          "model_module": "@jupyter-widgets/controls",
          "model_module_version": "1.5.0",
          "model_name": "DescriptionStyleModel",
          "state": {
            "_model_module": "@jupyter-widgets/controls",
            "_model_module_version": "1.5.0",
            "_model_name": "DescriptionStyleModel",
            "_view_count": null,
            "_view_module": "@jupyter-widgets/base",
            "_view_module_version": "1.2.0",
            "_view_name": "StyleView",
            "description_width": ""
          }
        },
        "31bd9c251dc14413b78d3659a0029c1d": {
          "model_module": "@jupyter-widgets/controls",
          "model_module_version": "1.5.0",
          "model_name": "HTMLModel",
          "state": {
            "_dom_classes": [],
            "_model_module": "@jupyter-widgets/controls",
            "_model_module_version": "1.5.0",
            "_model_name": "HTMLModel",
            "_view_count": null,
            "_view_module": "@jupyter-widgets/controls",
            "_view_module_version": "1.5.0",
            "_view_name": "HTMLView",
            "description": "",
            "description_tooltip": null,
            "layout": "IPY_MODEL_783d7304b60448268aff16e376b0d1cf",
            "placeholder": "​",
            "style": "IPY_MODEL_2fbefe445e81405794ef7b7ea22f0fe2",
            "value": " 827/827 [03:16&lt;00:00, 19.91 MiB/s]"
          }
        },
        "340a290dc9814391a9729382acfe36dc": {
          "model_module": "@jupyter-widgets/base",
          "model_module_version": "1.2.0",
          "model_name": "LayoutModel",
          "state": {
            "_model_module": "@jupyter-widgets/base",
            "_model_module_version": "1.2.0",
            "_model_name": "LayoutModel",
            "_view_count": null,
            "_view_module": "@jupyter-widgets/base",
            "_view_module_version": "1.2.0",
            "_view_name": "LayoutView",
            "align_content": null,
            "align_items": null,
            "align_self": null,
            "border": null,
            "bottom": null,
            "display": null,
            "flex": null,
            "flex_flow": null,
            "grid_area": null,
            "grid_auto_columns": null,
            "grid_auto_flow": null,
            "grid_auto_rows": null,
            "grid_column": null,
            "grid_gap": null,
            "grid_row": null,
            "grid_template_areas": null,
            "grid_template_columns": null,
            "grid_template_rows": null,
            "height": null,
            "justify_content": null,
            "justify_items": null,
            "left": null,
            "margin": null,
            "max_height": null,
            "max_width": null,
            "min_height": null,
            "min_width": null,
            "object_fit": null,
            "object_position": null,
            "order": null,
            "overflow": null,
            "overflow_x": null,
            "overflow_y": null,
            "padding": null,
            "right": null,
            "top": null,
            "visibility": null,
            "width": null
          }
        },
        "385c11be3c384350a7a3eec2379eb24f": {
          "model_module": "@jupyter-widgets/controls",
          "model_module_version": "1.5.0",
          "model_name": "DescriptionStyleModel",
          "state": {
            "_model_module": "@jupyter-widgets/controls",
            "_model_module_version": "1.5.0",
            "_model_name": "DescriptionStyleModel",
            "_view_count": null,
            "_view_module": "@jupyter-widgets/base",
            "_view_module_version": "1.2.0",
            "_view_name": "StyleView",
            "description_width": ""
          }
        },
        "3de3c4aab80842668253557dfff853be": {
          "model_module": "@jupyter-widgets/controls",
          "model_module_version": "1.5.0",
          "model_name": "DescriptionStyleModel",
          "state": {
            "_model_module": "@jupyter-widgets/controls",
            "_model_module_version": "1.5.0",
            "_model_name": "DescriptionStyleModel",
            "_view_count": null,
            "_view_module": "@jupyter-widgets/base",
            "_view_module_version": "1.2.0",
            "_view_name": "StyleView",
            "description_width": ""
          }
        },
        "484a2de5512f4117980475569234a668": {
          "model_module": "@jupyter-widgets/controls",
          "model_module_version": "1.5.0",
          "model_name": "ProgressStyleModel",
          "state": {
            "_model_module": "@jupyter-widgets/controls",
            "_model_module_version": "1.5.0",
            "_model_name": "ProgressStyleModel",
            "_view_count": null,
            "_view_module": "@jupyter-widgets/base",
            "_view_module_version": "1.2.0",
            "_view_name": "StyleView",
            "bar_color": null,
            "description_width": ""
          }
        },
        "500c2a4f7cee4c02a20f1cc13b5abd3a": {
          "model_module": "@jupyter-widgets/controls",
          "model_module_version": "1.5.0",
          "model_name": "FloatProgressModel",
          "state": {
            "_dom_classes": [],
            "_model_module": "@jupyter-widgets/controls",
            "_model_module_version": "1.5.0",
            "_model_name": "FloatProgressModel",
            "_view_count": null,
            "_view_module": "@jupyter-widgets/controls",
            "_view_module_version": "1.5.0",
            "_view_name": "ProgressView",
            "bar_style": "success",
            "description": "",
            "description_tooltip": null,
            "layout": "IPY_MODEL_d77024b60cc941e894911fc0c933a36e",
            "max": 1,
            "min": 0,
            "orientation": "horizontal",
            "style": "IPY_MODEL_24ec303dd5fb44ba88f5b7df8af1b9c2",
            "value": 1
          }
        },
        "51eb5430d2264bc6870cc0ebdf1e02e0": {
          "model_module": "@jupyter-widgets/controls",
          "model_module_version": "1.5.0",
          "model_name": "HTMLModel",
          "state": {
            "_dom_classes": [],
            "_model_module": "@jupyter-widgets/controls",
            "_model_module_version": "1.5.0",
            "_model_name": "HTMLModel",
            "_view_count": null,
            "_view_module": "@jupyter-widgets/controls",
            "_view_module_version": "1.5.0",
            "_view_name": "HTMLView",
            "description": "",
            "description_tooltip": null,
            "layout": "IPY_MODEL_a9a094a7ae9047b0a34943be59b839fc",
            "placeholder": "​",
            "style": "IPY_MODEL_778f3070bb4d4b35b950e2f190f8d28b",
            "value": "Generating train examples...:  99%"
          }
        },
        "58794ab7fb27450b84ab7a67e21a596f": {
          "model_module": "@jupyter-widgets/controls",
          "model_module_version": "1.5.0",
          "model_name": "ProgressStyleModel",
          "state": {
            "_model_module": "@jupyter-widgets/controls",
            "_model_module_version": "1.5.0",
            "_model_name": "ProgressStyleModel",
            "_view_count": null,
            "_view_module": "@jupyter-widgets/base",
            "_view_module_version": "1.2.0",
            "_view_name": "StyleView",
            "bar_color": null,
            "description_width": ""
          }
        },
        "628f0b5a534f47be9e269f1f03cadb68": {
          "model_module": "@jupyter-widgets/controls",
          "model_module_version": "1.5.0",
          "model_name": "FloatProgressModel",
          "state": {
            "_dom_classes": [],
            "_model_module": "@jupyter-widgets/controls",
            "_model_module_version": "1.5.0",
            "_model_name": "FloatProgressModel",
            "_view_count": null,
            "_view_module": "@jupyter-widgets/controls",
            "_view_module_version": "1.5.0",
            "_view_name": "ProgressView",
            "bar_style": "",
            "description": "",
            "description_tooltip": null,
            "layout": "IPY_MODEL_18ec294c5ba348899be115d3df88c7bd",
            "max": 1,
            "min": 0,
            "orientation": "horizontal",
            "style": "IPY_MODEL_b18812b7b3744e2883292d7a521e5f8e",
            "value": 1
          }
        },
        "659ebd32e40d4f1f962e8c07339faf69": {
          "model_module": "@jupyter-widgets/controls",
          "model_module_version": "1.5.0",
          "model_name": "FloatProgressModel",
          "state": {
            "_dom_classes": [],
            "_model_module": "@jupyter-widgets/controls",
            "_model_module_version": "1.5.0",
            "_model_name": "FloatProgressModel",
            "_view_count": null,
            "_view_module": "@jupyter-widgets/controls",
            "_view_module_version": "1.5.0",
            "_view_name": "ProgressView",
            "bar_style": "success",
            "description": "",
            "description_tooltip": null,
            "layout": "IPY_MODEL_d97734280dc749ada6e85bf20ef3616f",
            "max": 1,
            "min": 0,
            "orientation": "horizontal",
            "style": "IPY_MODEL_90297e845d564209b938a5cb88a21e07",
            "value": 1
          }
        },
        "69c8c758f5b14299838385020b544cc3": {
          "model_module": "@jupyter-widgets/controls",
          "model_module_version": "1.5.0",
          "model_name": "DescriptionStyleModel",
          "state": {
            "_model_module": "@jupyter-widgets/controls",
            "_model_module_version": "1.5.0",
            "_model_name": "DescriptionStyleModel",
            "_view_count": null,
            "_view_module": "@jupyter-widgets/base",
            "_view_module_version": "1.2.0",
            "_view_name": "StyleView",
            "description_width": ""
          }
        },
        "6a6d17f5e3ae4b3b94a37e6dc7e08b10": {
          "model_module": "@jupyter-widgets/controls",
          "model_module_version": "1.5.0",
          "model_name": "HTMLModel",
          "state": {
            "_dom_classes": [],
            "_model_module": "@jupyter-widgets/controls",
            "_model_module_version": "1.5.0",
            "_model_name": "HTMLModel",
            "_view_count": null,
            "_view_module": "@jupyter-widgets/controls",
            "_view_module_version": "1.5.0",
            "_view_name": "HTMLView",
            "description": "",
            "description_tooltip": null,
            "layout": "IPY_MODEL_97641faaface40bbbb2d659662fea027",
            "placeholder": "​",
            "style": "IPY_MODEL_964a06349314461cb081404fb9882b4f",
            "value": " 55448/55448 [03:16&lt;00:00, 1040.64 file/s]"
          }
        },
        "6c0ef08a8ac342ea9107b48378f5bbc6": {
          "model_module": "@jupyter-widgets/base",
          "model_module_version": "1.2.0",
          "model_name": "LayoutModel",
          "state": {
            "_model_module": "@jupyter-widgets/base",
            "_model_module_version": "1.2.0",
            "_model_name": "LayoutModel",
            "_view_count": null,
            "_view_module": "@jupyter-widgets/base",
            "_view_module_version": "1.2.0",
            "_view_name": "LayoutView",
            "align_content": null,
            "align_items": null,
            "align_self": null,
            "border": null,
            "bottom": null,
            "display": null,
            "flex": null,
            "flex_flow": null,
            "grid_area": null,
            "grid_auto_columns": null,
            "grid_auto_flow": null,
            "grid_auto_rows": null,
            "grid_column": null,
            "grid_gap": null,
            "grid_row": null,
            "grid_template_areas": null,
            "grid_template_columns": null,
            "grid_template_rows": null,
            "height": null,
            "justify_content": null,
            "justify_items": null,
            "left": null,
            "margin": null,
            "max_height": null,
            "max_width": null,
            "min_height": null,
            "min_width": null,
            "object_fit": null,
            "object_position": null,
            "order": null,
            "overflow": null,
            "overflow_x": null,
            "overflow_y": null,
            "padding": null,
            "right": null,
            "top": null,
            "visibility": "hidden",
            "width": null
          }
        },
        "6e915a67cc7243c68fe042d07683ca38": {
          "model_module": "@jupyter-widgets/base",
          "model_module_version": "1.2.0",
          "model_name": "LayoutModel",
          "state": {
            "_model_module": "@jupyter-widgets/base",
            "_model_module_version": "1.2.0",
            "_model_name": "LayoutModel",
            "_view_count": null,
            "_view_module": "@jupyter-widgets/base",
            "_view_module_version": "1.2.0",
            "_view_name": "LayoutView",
            "align_content": null,
            "align_items": null,
            "align_self": null,
            "border": null,
            "bottom": null,
            "display": null,
            "flex": null,
            "flex_flow": null,
            "grid_area": null,
            "grid_auto_columns": null,
            "grid_auto_flow": null,
            "grid_auto_rows": null,
            "grid_column": null,
            "grid_gap": null,
            "grid_row": null,
            "grid_template_areas": null,
            "grid_template_columns": null,
            "grid_template_rows": null,
            "height": null,
            "justify_content": null,
            "justify_items": null,
            "left": null,
            "margin": null,
            "max_height": null,
            "max_width": null,
            "min_height": null,
            "min_width": null,
            "object_fit": null,
            "object_position": null,
            "order": null,
            "overflow": null,
            "overflow_x": null,
            "overflow_y": null,
            "padding": null,
            "right": null,
            "top": null,
            "visibility": null,
            "width": "20px"
          }
        },
        "719bbc8c85214a1585d752c18f8d97d8": {
          "model_module": "@jupyter-widgets/controls",
          "model_module_version": "1.5.0",
          "model_name": "HTMLModel",
          "state": {
            "_dom_classes": [],
            "_model_module": "@jupyter-widgets/controls",
            "_model_module_version": "1.5.0",
            "_model_name": "HTMLModel",
            "_view_count": null,
            "_view_module": "@jupyter-widgets/controls",
            "_view_module_version": "1.5.0",
            "_view_name": "HTMLView",
            "description": "",
            "description_tooltip": null,
            "layout": "IPY_MODEL_f29c008655584c8ab7554ad5e0fbf45d",
            "placeholder": "​",
            "style": "IPY_MODEL_1ac2c43414ee4b0c93f6b26a855d018d",
            "value": "Dl Size...: 100%"
          }
        },
        "73a3cb57058d44d39b393da63e4f0502": {
          "model_module": "@jupyter-widgets/base",
          "model_module_version": "1.2.0",
          "model_name": "LayoutModel",
          "state": {
            "_model_module": "@jupyter-widgets/base",
            "_model_module_version": "1.2.0",
            "_model_name": "LayoutModel",
            "_view_count": null,
            "_view_module": "@jupyter-widgets/base",
            "_view_module_version": "1.2.0",
            "_view_name": "LayoutView",
            "align_content": null,
            "align_items": null,
            "align_self": null,
            "border": null,
            "bottom": null,
            "display": null,
            "flex": null,
            "flex_flow": null,
            "grid_area": null,
            "grid_auto_columns": null,
            "grid_auto_flow": null,
            "grid_auto_rows": null,
            "grid_column": null,
            "grid_gap": null,
            "grid_row": null,
            "grid_template_areas": null,
            "grid_template_columns": null,
            "grid_template_rows": null,
            "height": null,
            "justify_content": null,
            "justify_items": null,
            "left": null,
            "margin": null,
            "max_height": null,
            "max_width": null,
            "min_height": null,
            "min_width": null,
            "object_fit": null,
            "object_position": null,
            "order": null,
            "overflow": null,
            "overflow_x": null,
            "overflow_y": null,
            "padding": null,
            "right": null,
            "top": null,
            "visibility": null,
            "width": null
          }
        },
        "778f3070bb4d4b35b950e2f190f8d28b": {
          "model_module": "@jupyter-widgets/controls",
          "model_module_version": "1.5.0",
          "model_name": "DescriptionStyleModel",
          "state": {
            "_model_module": "@jupyter-widgets/controls",
            "_model_module_version": "1.5.0",
            "_model_name": "DescriptionStyleModel",
            "_view_count": null,
            "_view_module": "@jupyter-widgets/base",
            "_view_module_version": "1.2.0",
            "_view_name": "StyleView",
            "description_width": ""
          }
        },
        "783d7304b60448268aff16e376b0d1cf": {
          "model_module": "@jupyter-widgets/base",
          "model_module_version": "1.2.0",
          "model_name": "LayoutModel",
          "state": {
            "_model_module": "@jupyter-widgets/base",
            "_model_module_version": "1.2.0",
            "_model_name": "LayoutModel",
            "_view_count": null,
            "_view_module": "@jupyter-widgets/base",
            "_view_module_version": "1.2.0",
            "_view_name": "LayoutView",
            "align_content": null,
            "align_items": null,
            "align_self": null,
            "border": null,
            "bottom": null,
            "display": null,
            "flex": null,
            "flex_flow": null,
            "grid_area": null,
            "grid_auto_columns": null,
            "grid_auto_flow": null,
            "grid_auto_rows": null,
            "grid_column": null,
            "grid_gap": null,
            "grid_row": null,
            "grid_template_areas": null,
            "grid_template_columns": null,
            "grid_template_rows": null,
            "height": null,
            "justify_content": null,
            "justify_items": null,
            "left": null,
            "margin": null,
            "max_height": null,
            "max_width": null,
            "min_height": null,
            "min_width": null,
            "object_fit": null,
            "object_position": null,
            "order": null,
            "overflow": null,
            "overflow_x": null,
            "overflow_y": null,
            "padding": null,
            "right": null,
            "top": null,
            "visibility": null,
            "width": null
          }
        },
        "90297e845d564209b938a5cb88a21e07": {
          "model_module": "@jupyter-widgets/controls",
          "model_module_version": "1.5.0",
          "model_name": "ProgressStyleModel",
          "state": {
            "_model_module": "@jupyter-widgets/controls",
            "_model_module_version": "1.5.0",
            "_model_name": "ProgressStyleModel",
            "_view_count": null,
            "_view_module": "@jupyter-widgets/base",
            "_view_module_version": "1.2.0",
            "_view_name": "StyleView",
            "bar_color": null,
            "description_width": ""
          }
        },
        "9105a10eff214fb38d8c1fa341dc0422": {
          "model_module": "@jupyter-widgets/controls",
          "model_module_version": "1.5.0",
          "model_name": "HBoxModel",
          "state": {
            "_dom_classes": [],
            "_model_module": "@jupyter-widgets/controls",
            "_model_module_version": "1.5.0",
            "_model_name": "HBoxModel",
            "_view_count": null,
            "_view_module": "@jupyter-widgets/controls",
            "_view_module_version": "1.5.0",
            "_view_name": "HBoxView",
            "box_style": "",
            "children": [
              "IPY_MODEL_967dd367521a471089ea465324c06d0c",
              "IPY_MODEL_628f0b5a534f47be9e269f1f03cadb68",
              "IPY_MODEL_0d7ec8cbf318425aba6ed797ea6e4b15"
            ],
            "layout": "IPY_MODEL_e52dea510af44b89b0eebe795bece76a"
          }
        },
        "9184fd296e9a4ea994aa882031212578": {
          "model_module": "@jupyter-widgets/controls",
          "model_module_version": "1.5.0",
          "model_name": "HTMLModel",
          "state": {
            "_dom_classes": [],
            "_model_module": "@jupyter-widgets/controls",
            "_model_module_version": "1.5.0",
            "_model_name": "HTMLModel",
            "_view_count": null,
            "_view_module": "@jupyter-widgets/controls",
            "_view_module_version": "1.5.0",
            "_view_name": "HTMLView",
            "description": "",
            "description_tooltip": null,
            "layout": "IPY_MODEL_c4ca988ee62841f0bcf37ae599323d08",
            "placeholder": "​",
            "style": "IPY_MODEL_69c8c758f5b14299838385020b544cc3",
            "value": "Shuffling /root/tensorflow_datasets/plant_village/1.0.2.incompleteSHNSWB/plant_village-train.tfrecord*...:  98%"
          }
        },
        "9235cacc5a804575ad9c1002823c69ed": {
          "model_module": "@jupyter-widgets/controls",
          "model_module_version": "1.5.0",
          "model_name": "DescriptionStyleModel",
          "state": {
            "_model_module": "@jupyter-widgets/controls",
            "_model_module_version": "1.5.0",
            "_model_name": "DescriptionStyleModel",
            "_view_count": null,
            "_view_module": "@jupyter-widgets/base",
            "_view_module_version": "1.2.0",
            "_view_name": "StyleView",
            "description_width": ""
          }
        },
        "930e2a2ea02f4f9ca570534acb874f5e": {
          "model_module": "@jupyter-widgets/base",
          "model_module_version": "1.2.0",
          "model_name": "LayoutModel",
          "state": {
            "_model_module": "@jupyter-widgets/base",
            "_model_module_version": "1.2.0",
            "_model_name": "LayoutModel",
            "_view_count": null,
            "_view_module": "@jupyter-widgets/base",
            "_view_module_version": "1.2.0",
            "_view_name": "LayoutView",
            "align_content": null,
            "align_items": null,
            "align_self": null,
            "border": null,
            "bottom": null,
            "display": null,
            "flex": null,
            "flex_flow": null,
            "grid_area": null,
            "grid_auto_columns": null,
            "grid_auto_flow": null,
            "grid_auto_rows": null,
            "grid_column": null,
            "grid_gap": null,
            "grid_row": null,
            "grid_template_areas": null,
            "grid_template_columns": null,
            "grid_template_rows": null,
            "height": null,
            "justify_content": null,
            "justify_items": null,
            "left": null,
            "margin": null,
            "max_height": null,
            "max_width": null,
            "min_height": null,
            "min_width": null,
            "object_fit": null,
            "object_position": null,
            "order": null,
            "overflow": null,
            "overflow_x": null,
            "overflow_y": null,
            "padding": null,
            "right": null,
            "top": null,
            "visibility": null,
            "width": null
          }
        },
        "964a06349314461cb081404fb9882b4f": {
          "model_module": "@jupyter-widgets/controls",
          "model_module_version": "1.5.0",
          "model_name": "DescriptionStyleModel",
          "state": {
            "_model_module": "@jupyter-widgets/controls",
            "_model_module_version": "1.5.0",
            "_model_name": "DescriptionStyleModel",
            "_view_count": null,
            "_view_module": "@jupyter-widgets/base",
            "_view_module_version": "1.2.0",
            "_view_name": "StyleView",
            "description_width": ""
          }
        },
        "967dd367521a471089ea465324c06d0c": {
          "model_module": "@jupyter-widgets/controls",
          "model_module_version": "1.5.0",
          "model_name": "HTMLModel",
          "state": {
            "_dom_classes": [],
            "_model_module": "@jupyter-widgets/controls",
            "_model_module_version": "1.5.0",
            "_model_name": "HTMLModel",
            "_view_count": null,
            "_view_module": "@jupyter-widgets/controls",
            "_view_module_version": "1.5.0",
            "_view_name": "HTMLView",
            "description": "",
            "description_tooltip": null,
            "layout": "IPY_MODEL_340a290dc9814391a9729382acfe36dc",
            "placeholder": "​",
            "style": "IPY_MODEL_ad594930027a4bd99fe3d2d0cb16eb46",
            "value": "Generating splits...: 100%"
          }
        },
        "97641faaface40bbbb2d659662fea027": {
          "model_module": "@jupyter-widgets/base",
          "model_module_version": "1.2.0",
          "model_name": "LayoutModel",
          "state": {
            "_model_module": "@jupyter-widgets/base",
            "_model_module_version": "1.2.0",
            "_model_name": "LayoutModel",
            "_view_count": null,
            "_view_module": "@jupyter-widgets/base",
            "_view_module_version": "1.2.0",
            "_view_name": "LayoutView",
            "align_content": null,
            "align_items": null,
            "align_self": null,
            "border": null,
            "bottom": null,
            "display": null,
            "flex": null,
            "flex_flow": null,
            "grid_area": null,
            "grid_auto_columns": null,
            "grid_auto_flow": null,
            "grid_auto_rows": null,
            "grid_column": null,
            "grid_gap": null,
            "grid_row": null,
            "grid_template_areas": null,
            "grid_template_columns": null,
            "grid_template_rows": null,
            "height": null,
            "justify_content": null,
            "justify_items": null,
            "left": null,
            "margin": null,
            "max_height": null,
            "max_width": null,
            "min_height": null,
            "min_width": null,
            "object_fit": null,
            "object_position": null,
            "order": null,
            "overflow": null,
            "overflow_x": null,
            "overflow_y": null,
            "padding": null,
            "right": null,
            "top": null,
            "visibility": null,
            "width": null
          }
        },
        "9785cb6adfb54bbfadd6c534dfca0e5e": {
          "model_module": "@jupyter-widgets/controls",
          "model_module_version": "1.5.0",
          "model_name": "FloatProgressModel",
          "state": {
            "_dom_classes": [],
            "_model_module": "@jupyter-widgets/controls",
            "_model_module_version": "1.5.0",
            "_model_name": "FloatProgressModel",
            "_view_count": null,
            "_view_module": "@jupyter-widgets/controls",
            "_view_module_version": "1.5.0",
            "_view_name": "ProgressView",
            "bar_style": "",
            "description": "",
            "description_tooltip": null,
            "layout": "IPY_MODEL_1745a5e72d5a4b0fb4ea02c5d61ca5e0",
            "max": 54303,
            "min": 0,
            "orientation": "horizontal",
            "style": "IPY_MODEL_16340006b1754a5cb9ef26047fac2bf8",
            "value": 54303
          }
        },
        "9baa2d77a4964c228bc9dc44e589317f": {
          "model_module": "@jupyter-widgets/controls",
          "model_module_version": "1.5.0",
          "model_name": "HTMLModel",
          "state": {
            "_dom_classes": [],
            "_model_module": "@jupyter-widgets/controls",
            "_model_module_version": "1.5.0",
            "_model_name": "HTMLModel",
            "_view_count": null,
            "_view_module": "@jupyter-widgets/controls",
            "_view_module_version": "1.5.0",
            "_view_name": "HTMLView",
            "description": "",
            "description_tooltip": null,
            "layout": "IPY_MODEL_b580dbbb40374267a721a1f8618564f0",
            "placeholder": "​",
            "style": "IPY_MODEL_9e4682540dc34328a8a9b19ca775baa4",
            "value": "Dl Completed...: 100%"
          }
        },
        "9cc04cce31554d92b13ba3330734b120": {
          "model_module": "@jupyter-widgets/controls",
          "model_module_version": "1.5.0",
          "model_name": "HBoxModel",
          "state": {
            "_dom_classes": [],
            "_model_module": "@jupyter-widgets/controls",
            "_model_module_version": "1.5.0",
            "_model_name": "HBoxModel",
            "_view_count": null,
            "_view_module": "@jupyter-widgets/controls",
            "_view_module_version": "1.5.0",
            "_view_name": "HBoxView",
            "box_style": "",
            "children": [
              "IPY_MODEL_9baa2d77a4964c228bc9dc44e589317f",
              "IPY_MODEL_500c2a4f7cee4c02a20f1cc13b5abd3a",
              "IPY_MODEL_e9c809a3dea64d56baec8716be126697"
            ],
            "layout": "IPY_MODEL_288176852dcf418aa0e4af2c98a93963"
          }
        },
        "9e4682540dc34328a8a9b19ca775baa4": {
          "model_module": "@jupyter-widgets/controls",
          "model_module_version": "1.5.0",
          "model_name": "DescriptionStyleModel",
          "state": {
            "_model_module": "@jupyter-widgets/controls",
            "_model_module_version": "1.5.0",
            "_model_name": "DescriptionStyleModel",
            "_view_count": null,
            "_view_module": "@jupyter-widgets/base",
            "_view_module_version": "1.2.0",
            "_view_name": "StyleView",
            "description_width": ""
          }
        },
        "a6b8bb9819954ab3933761f1ba9080ac": {
          "model_module": "@jupyter-widgets/controls",
          "model_module_version": "1.5.0",
          "model_name": "HTMLModel",
          "state": {
            "_dom_classes": [],
            "_model_module": "@jupyter-widgets/controls",
            "_model_module_version": "1.5.0",
            "_model_name": "HTMLModel",
            "_view_count": null,
            "_view_module": "@jupyter-widgets/controls",
            "_view_module_version": "1.5.0",
            "_view_name": "HTMLView",
            "description": "",
            "description_tooltip": null,
            "layout": "IPY_MODEL_d540ec972bbb4ec7b2bc5c8bf7622e16",
            "placeholder": "​",
            "style": "IPY_MODEL_d67cb9489c46454595a6b1ce70403971",
            "value": " 53320/54303 [00:03&lt;00:00, 14787.88 examples/s]"
          }
        },
        "a9a094a7ae9047b0a34943be59b839fc": {
          "model_module": "@jupyter-widgets/base",
          "model_module_version": "1.2.0",
          "model_name": "LayoutModel",
          "state": {
            "_model_module": "@jupyter-widgets/base",
            "_model_module_version": "1.2.0",
            "_model_name": "LayoutModel",
            "_view_count": null,
            "_view_module": "@jupyter-widgets/base",
            "_view_module_version": "1.2.0",
            "_view_name": "LayoutView",
            "align_content": null,
            "align_items": null,
            "align_self": null,
            "border": null,
            "bottom": null,
            "display": null,
            "flex": null,
            "flex_flow": null,
            "grid_area": null,
            "grid_auto_columns": null,
            "grid_auto_flow": null,
            "grid_auto_rows": null,
            "grid_column": null,
            "grid_gap": null,
            "grid_row": null,
            "grid_template_areas": null,
            "grid_template_columns": null,
            "grid_template_rows": null,
            "height": null,
            "justify_content": null,
            "justify_items": null,
            "left": null,
            "margin": null,
            "max_height": null,
            "max_width": null,
            "min_height": null,
            "min_width": null,
            "object_fit": null,
            "object_position": null,
            "order": null,
            "overflow": null,
            "overflow_x": null,
            "overflow_y": null,
            "padding": null,
            "right": null,
            "top": null,
            "visibility": null,
            "width": null
          }
        },
        "ad0de1ed000142bf8f08fe16407418d8": {
          "model_module": "@jupyter-widgets/controls",
          "model_module_version": "1.5.0",
          "model_name": "HTMLModel",
          "state": {
            "_dom_classes": [],
            "_model_module": "@jupyter-widgets/controls",
            "_model_module_version": "1.5.0",
            "_model_name": "HTMLModel",
            "_view_count": null,
            "_view_module": "@jupyter-widgets/controls",
            "_view_module_version": "1.5.0",
            "_view_name": "HTMLView",
            "description": "",
            "description_tooltip": null,
            "layout": "IPY_MODEL_f8502e590151407481d78f93c7217f92",
            "placeholder": "​",
            "style": "IPY_MODEL_385c11be3c384350a7a3eec2379eb24f",
            "value": " 53836/54303 [00:21&lt;00:00, 2460.50 examples/s]"
          }
        },
        "ad594930027a4bd99fe3d2d0cb16eb46": {
          "model_module": "@jupyter-widgets/controls",
          "model_module_version": "1.5.0",
          "model_name": "DescriptionStyleModel",
          "state": {
            "_model_module": "@jupyter-widgets/controls",
            "_model_module_version": "1.5.0",
            "_model_name": "DescriptionStyleModel",
            "_view_count": null,
            "_view_module": "@jupyter-widgets/base",
            "_view_module_version": "1.2.0",
            "_view_name": "StyleView",
            "description_width": ""
          }
        },
        "b18812b7b3744e2883292d7a521e5f8e": {
          "model_module": "@jupyter-widgets/controls",
          "model_module_version": "1.5.0",
          "model_name": "ProgressStyleModel",
          "state": {
            "_model_module": "@jupyter-widgets/controls",
            "_model_module_version": "1.5.0",
            "_model_name": "ProgressStyleModel",
            "_view_count": null,
            "_view_module": "@jupyter-widgets/base",
            "_view_module_version": "1.2.0",
            "_view_name": "StyleView",
            "bar_color": null,
            "description_width": ""
          }
        },
        "b580dbbb40374267a721a1f8618564f0": {
          "model_module": "@jupyter-widgets/base",
          "model_module_version": "1.2.0",
          "model_name": "LayoutModel",
          "state": {
            "_model_module": "@jupyter-widgets/base",
            "_model_module_version": "1.2.0",
            "_model_name": "LayoutModel",
            "_view_count": null,
            "_view_module": "@jupyter-widgets/base",
            "_view_module_version": "1.2.0",
            "_view_name": "LayoutView",
            "align_content": null,
            "align_items": null,
            "align_self": null,
            "border": null,
            "bottom": null,
            "display": null,
            "flex": null,
            "flex_flow": null,
            "grid_area": null,
            "grid_auto_columns": null,
            "grid_auto_flow": null,
            "grid_auto_rows": null,
            "grid_column": null,
            "grid_gap": null,
            "grid_row": null,
            "grid_template_areas": null,
            "grid_template_columns": null,
            "grid_template_rows": null,
            "height": null,
            "justify_content": null,
            "justify_items": null,
            "left": null,
            "margin": null,
            "max_height": null,
            "max_width": null,
            "min_height": null,
            "min_width": null,
            "object_fit": null,
            "object_position": null,
            "order": null,
            "overflow": null,
            "overflow_x": null,
            "overflow_y": null,
            "padding": null,
            "right": null,
            "top": null,
            "visibility": null,
            "width": null
          }
        },
        "c4ca988ee62841f0bcf37ae599323d08": {
          "model_module": "@jupyter-widgets/base",
          "model_module_version": "1.2.0",
          "model_name": "LayoutModel",
          "state": {
            "_model_module": "@jupyter-widgets/base",
            "_model_module_version": "1.2.0",
            "_model_name": "LayoutModel",
            "_view_count": null,
            "_view_module": "@jupyter-widgets/base",
            "_view_module_version": "1.2.0",
            "_view_name": "LayoutView",
            "align_content": null,
            "align_items": null,
            "align_self": null,
            "border": null,
            "bottom": null,
            "display": null,
            "flex": null,
            "flex_flow": null,
            "grid_area": null,
            "grid_auto_columns": null,
            "grid_auto_flow": null,
            "grid_auto_rows": null,
            "grid_column": null,
            "grid_gap": null,
            "grid_row": null,
            "grid_template_areas": null,
            "grid_template_columns": null,
            "grid_template_rows": null,
            "height": null,
            "justify_content": null,
            "justify_items": null,
            "left": null,
            "margin": null,
            "max_height": null,
            "max_width": null,
            "min_height": null,
            "min_width": null,
            "object_fit": null,
            "object_position": null,
            "order": null,
            "overflow": null,
            "overflow_x": null,
            "overflow_y": null,
            "padding": null,
            "right": null,
            "top": null,
            "visibility": null,
            "width": null
          }
        },
        "cb4978c8eb3247c6b1799cfa7b0752b2": {
          "model_module": "@jupyter-widgets/controls",
          "model_module_version": "1.5.0",
          "model_name": "HBoxModel",
          "state": {
            "_dom_classes": [],
            "_model_module": "@jupyter-widgets/controls",
            "_model_module_version": "1.5.0",
            "_model_name": "HBoxModel",
            "_view_count": null,
            "_view_module": "@jupyter-widgets/controls",
            "_view_module_version": "1.5.0",
            "_view_name": "HBoxView",
            "box_style": "",
            "children": [
              "IPY_MODEL_dd925f648c674f028f78446d0e8b4f17",
              "IPY_MODEL_659ebd32e40d4f1f962e8c07339faf69",
              "IPY_MODEL_6a6d17f5e3ae4b3b94a37e6dc7e08b10"
            ],
            "layout": "IPY_MODEL_73a3cb57058d44d39b393da63e4f0502"
          }
        },
        "d540ec972bbb4ec7b2bc5c8bf7622e16": {
          "model_module": "@jupyter-widgets/base",
          "model_module_version": "1.2.0",
          "model_name": "LayoutModel",
          "state": {
            "_model_module": "@jupyter-widgets/base",
            "_model_module_version": "1.2.0",
            "_model_name": "LayoutModel",
            "_view_count": null,
            "_view_module": "@jupyter-widgets/base",
            "_view_module_version": "1.2.0",
            "_view_name": "LayoutView",
            "align_content": null,
            "align_items": null,
            "align_self": null,
            "border": null,
            "bottom": null,
            "display": null,
            "flex": null,
            "flex_flow": null,
            "grid_area": null,
            "grid_auto_columns": null,
            "grid_auto_flow": null,
            "grid_auto_rows": null,
            "grid_column": null,
            "grid_gap": null,
            "grid_row": null,
            "grid_template_areas": null,
            "grid_template_columns": null,
            "grid_template_rows": null,
            "height": null,
            "justify_content": null,
            "justify_items": null,
            "left": null,
            "margin": null,
            "max_height": null,
            "max_width": null,
            "min_height": null,
            "min_width": null,
            "object_fit": null,
            "object_position": null,
            "order": null,
            "overflow": null,
            "overflow_x": null,
            "overflow_y": null,
            "padding": null,
            "right": null,
            "top": null,
            "visibility": null,
            "width": null
          }
        },
        "d67cb9489c46454595a6b1ce70403971": {
          "model_module": "@jupyter-widgets/controls",
          "model_module_version": "1.5.0",
          "model_name": "DescriptionStyleModel",
          "state": {
            "_model_module": "@jupyter-widgets/controls",
            "_model_module_version": "1.5.0",
            "_model_name": "DescriptionStyleModel",
            "_view_count": null,
            "_view_module": "@jupyter-widgets/base",
            "_view_module_version": "1.2.0",
            "_view_name": "StyleView",
            "description_width": ""
          }
        },
        "d77024b60cc941e894911fc0c933a36e": {
          "model_module": "@jupyter-widgets/base",
          "model_module_version": "1.2.0",
          "model_name": "LayoutModel",
          "state": {
            "_model_module": "@jupyter-widgets/base",
            "_model_module_version": "1.2.0",
            "_model_name": "LayoutModel",
            "_view_count": null,
            "_view_module": "@jupyter-widgets/base",
            "_view_module_version": "1.2.0",
            "_view_name": "LayoutView",
            "align_content": null,
            "align_items": null,
            "align_self": null,
            "border": null,
            "bottom": null,
            "display": null,
            "flex": null,
            "flex_flow": null,
            "grid_area": null,
            "grid_auto_columns": null,
            "grid_auto_flow": null,
            "grid_auto_rows": null,
            "grid_column": null,
            "grid_gap": null,
            "grid_row": null,
            "grid_template_areas": null,
            "grid_template_columns": null,
            "grid_template_rows": null,
            "height": null,
            "justify_content": null,
            "justify_items": null,
            "left": null,
            "margin": null,
            "max_height": null,
            "max_width": null,
            "min_height": null,
            "min_width": null,
            "object_fit": null,
            "object_position": null,
            "order": null,
            "overflow": null,
            "overflow_x": null,
            "overflow_y": null,
            "padding": null,
            "right": null,
            "top": null,
            "visibility": null,
            "width": "20px"
          }
        },
        "d97734280dc749ada6e85bf20ef3616f": {
          "model_module": "@jupyter-widgets/base",
          "model_module_version": "1.2.0",
          "model_name": "LayoutModel",
          "state": {
            "_model_module": "@jupyter-widgets/base",
            "_model_module_version": "1.2.0",
            "_model_name": "LayoutModel",
            "_view_count": null,
            "_view_module": "@jupyter-widgets/base",
            "_view_module_version": "1.2.0",
            "_view_name": "LayoutView",
            "align_content": null,
            "align_items": null,
            "align_self": null,
            "border": null,
            "bottom": null,
            "display": null,
            "flex": null,
            "flex_flow": null,
            "grid_area": null,
            "grid_auto_columns": null,
            "grid_auto_flow": null,
            "grid_auto_rows": null,
            "grid_column": null,
            "grid_gap": null,
            "grid_row": null,
            "grid_template_areas": null,
            "grid_template_columns": null,
            "grid_template_rows": null,
            "height": null,
            "justify_content": null,
            "justify_items": null,
            "left": null,
            "margin": null,
            "max_height": null,
            "max_width": null,
            "min_height": null,
            "min_width": null,
            "object_fit": null,
            "object_position": null,
            "order": null,
            "overflow": null,
            "overflow_x": null,
            "overflow_y": null,
            "padding": null,
            "right": null,
            "top": null,
            "visibility": null,
            "width": "20px"
          }
        },
        "dd925f648c674f028f78446d0e8b4f17": {
          "model_module": "@jupyter-widgets/controls",
          "model_module_version": "1.5.0",
          "model_name": "HTMLModel",
          "state": {
            "_dom_classes": [],
            "_model_module": "@jupyter-widgets/controls",
            "_model_module_version": "1.5.0",
            "_model_name": "HTMLModel",
            "_view_count": null,
            "_view_module": "@jupyter-widgets/controls",
            "_view_module_version": "1.5.0",
            "_view_name": "HTMLView",
            "description": "",
            "description_tooltip": null,
            "layout": "IPY_MODEL_f8187b5b9dc44193a124b011ac0ab5bb",
            "placeholder": "​",
            "style": "IPY_MODEL_9235cacc5a804575ad9c1002823c69ed",
            "value": "Extraction completed...: 100%"
          }
        },
        "e477101fe126458e9c1a0885da42e0f7": {
          "model_module": "@jupyter-widgets/base",
          "model_module_version": "1.2.0",
          "model_name": "LayoutModel",
          "state": {
            "_model_module": "@jupyter-widgets/base",
            "_model_module_version": "1.2.0",
            "_model_name": "LayoutModel",
            "_view_count": null,
            "_view_module": "@jupyter-widgets/base",
            "_view_module_version": "1.2.0",
            "_view_name": "LayoutView",
            "align_content": null,
            "align_items": null,
            "align_self": null,
            "border": null,
            "bottom": null,
            "display": null,
            "flex": null,
            "flex_flow": null,
            "grid_area": null,
            "grid_auto_columns": null,
            "grid_auto_flow": null,
            "grid_auto_rows": null,
            "grid_column": null,
            "grid_gap": null,
            "grid_row": null,
            "grid_template_areas": null,
            "grid_template_columns": null,
            "grid_template_rows": null,
            "height": null,
            "justify_content": null,
            "justify_items": null,
            "left": null,
            "margin": null,
            "max_height": null,
            "max_width": null,
            "min_height": null,
            "min_width": null,
            "object_fit": null,
            "object_position": null,
            "order": null,
            "overflow": null,
            "overflow_x": null,
            "overflow_y": null,
            "padding": null,
            "right": null,
            "top": null,
            "visibility": null,
            "width": null
          }
        },
        "e52dea510af44b89b0eebe795bece76a": {
          "model_module": "@jupyter-widgets/base",
          "model_module_version": "1.2.0",
          "model_name": "LayoutModel",
          "state": {
            "_model_module": "@jupyter-widgets/base",
            "_model_module_version": "1.2.0",
            "_model_name": "LayoutModel",
            "_view_count": null,
            "_view_module": "@jupyter-widgets/base",
            "_view_module_version": "1.2.0",
            "_view_name": "LayoutView",
            "align_content": null,
            "align_items": null,
            "align_self": null,
            "border": null,
            "bottom": null,
            "display": null,
            "flex": null,
            "flex_flow": null,
            "grid_area": null,
            "grid_auto_columns": null,
            "grid_auto_flow": null,
            "grid_auto_rows": null,
            "grid_column": null,
            "grid_gap": null,
            "grid_row": null,
            "grid_template_areas": null,
            "grid_template_columns": null,
            "grid_template_rows": null,
            "height": null,
            "justify_content": null,
            "justify_items": null,
            "left": null,
            "margin": null,
            "max_height": null,
            "max_width": null,
            "min_height": null,
            "min_width": null,
            "object_fit": null,
            "object_position": null,
            "order": null,
            "overflow": null,
            "overflow_x": null,
            "overflow_y": null,
            "padding": null,
            "right": null,
            "top": null,
            "visibility": "hidden",
            "width": null
          }
        },
        "e9c809a3dea64d56baec8716be126697": {
          "model_module": "@jupyter-widgets/controls",
          "model_module_version": "1.5.0",
          "model_name": "HTMLModel",
          "state": {
            "_dom_classes": [],
            "_model_module": "@jupyter-widgets/controls",
            "_model_module_version": "1.5.0",
            "_model_name": "HTMLModel",
            "_view_count": null,
            "_view_module": "@jupyter-widgets/controls",
            "_view_module_version": "1.5.0",
            "_view_name": "HTMLView",
            "description": "",
            "description_tooltip": null,
            "layout": "IPY_MODEL_930e2a2ea02f4f9ca570534acb874f5e",
            "placeholder": "​",
            "style": "IPY_MODEL_3de3c4aab80842668253557dfff853be",
            "value": " 1/1 [03:16&lt;00:00, 46.64s/ url]"
          }
        },
        "f0a1b2dd30964891855a3868762a322b": {
          "model_module": "@jupyter-widgets/controls",
          "model_module_version": "1.5.0",
          "model_name": "FloatProgressModel",
          "state": {
            "_dom_classes": [],
            "_model_module": "@jupyter-widgets/controls",
            "_model_module_version": "1.5.0",
            "_model_name": "FloatProgressModel",
            "_view_count": null,
            "_view_module": "@jupyter-widgets/controls",
            "_view_module_version": "1.5.0",
            "_view_name": "ProgressView",
            "bar_style": "success",
            "description": "",
            "description_tooltip": null,
            "layout": "IPY_MODEL_6e915a67cc7243c68fe042d07683ca38",
            "max": 1,
            "min": 0,
            "orientation": "horizontal",
            "style": "IPY_MODEL_58794ab7fb27450b84ab7a67e21a596f",
            "value": 1
          }
        },
        "f29c008655584c8ab7554ad5e0fbf45d": {
          "model_module": "@jupyter-widgets/base",
          "model_module_version": "1.2.0",
          "model_name": "LayoutModel",
          "state": {
            "_model_module": "@jupyter-widgets/base",
            "_model_module_version": "1.2.0",
            "_model_name": "LayoutModel",
            "_view_count": null,
            "_view_module": "@jupyter-widgets/base",
            "_view_module_version": "1.2.0",
            "_view_name": "LayoutView",
            "align_content": null,
            "align_items": null,
            "align_self": null,
            "border": null,
            "bottom": null,
            "display": null,
            "flex": null,
            "flex_flow": null,
            "grid_area": null,
            "grid_auto_columns": null,
            "grid_auto_flow": null,
            "grid_auto_rows": null,
            "grid_column": null,
            "grid_gap": null,
            "grid_row": null,
            "grid_template_areas": null,
            "grid_template_columns": null,
            "grid_template_rows": null,
            "height": null,
            "justify_content": null,
            "justify_items": null,
            "left": null,
            "margin": null,
            "max_height": null,
            "max_width": null,
            "min_height": null,
            "min_width": null,
            "object_fit": null,
            "object_position": null,
            "order": null,
            "overflow": null,
            "overflow_x": null,
            "overflow_y": null,
            "padding": null,
            "right": null,
            "top": null,
            "visibility": null,
            "width": null
          }
        },
        "f8187b5b9dc44193a124b011ac0ab5bb": {
          "model_module": "@jupyter-widgets/base",
          "model_module_version": "1.2.0",
          "model_name": "LayoutModel",
          "state": {
            "_model_module": "@jupyter-widgets/base",
            "_model_module_version": "1.2.0",
            "_model_name": "LayoutModel",
            "_view_count": null,
            "_view_module": "@jupyter-widgets/base",
            "_view_module_version": "1.2.0",
            "_view_name": "LayoutView",
            "align_content": null,
            "align_items": null,
            "align_self": null,
            "border": null,
            "bottom": null,
            "display": null,
            "flex": null,
            "flex_flow": null,
            "grid_area": null,
            "grid_auto_columns": null,
            "grid_auto_flow": null,
            "grid_auto_rows": null,
            "grid_column": null,
            "grid_gap": null,
            "grid_row": null,
            "grid_template_areas": null,
            "grid_template_columns": null,
            "grid_template_rows": null,
            "height": null,
            "justify_content": null,
            "justify_items": null,
            "left": null,
            "margin": null,
            "max_height": null,
            "max_width": null,
            "min_height": null,
            "min_width": null,
            "object_fit": null,
            "object_position": null,
            "order": null,
            "overflow": null,
            "overflow_x": null,
            "overflow_y": null,
            "padding": null,
            "right": null,
            "top": null,
            "visibility": null,
            "width": null
          }
        },
        "f8502e590151407481d78f93c7217f92": {
          "model_module": "@jupyter-widgets/base",
          "model_module_version": "1.2.0",
          "model_name": "LayoutModel",
          "state": {
            "_model_module": "@jupyter-widgets/base",
            "_model_module_version": "1.2.0",
            "_model_name": "LayoutModel",
            "_view_count": null,
            "_view_module": "@jupyter-widgets/base",
            "_view_module_version": "1.2.0",
            "_view_name": "LayoutView",
            "align_content": null,
            "align_items": null,
            "align_self": null,
            "border": null,
            "bottom": null,
            "display": null,
            "flex": null,
            "flex_flow": null,
            "grid_area": null,
            "grid_auto_columns": null,
            "grid_auto_flow": null,
            "grid_auto_rows": null,
            "grid_column": null,
            "grid_gap": null,
            "grid_row": null,
            "grid_template_areas": null,
            "grid_template_columns": null,
            "grid_template_rows": null,
            "height": null,
            "justify_content": null,
            "justify_items": null,
            "left": null,
            "margin": null,
            "max_height": null,
            "max_width": null,
            "min_height": null,
            "min_width": null,
            "object_fit": null,
            "object_position": null,
            "order": null,
            "overflow": null,
            "overflow_x": null,
            "overflow_y": null,
            "padding": null,
            "right": null,
            "top": null,
            "visibility": null,
            "width": null
          }
        }
      }
    }
  },
  "nbformat": 4,
  "nbformat_minor": 0
}
